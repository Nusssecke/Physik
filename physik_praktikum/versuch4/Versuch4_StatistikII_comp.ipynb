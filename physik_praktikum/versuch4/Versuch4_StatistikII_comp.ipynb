{
 "cells": [
  {
   "cell_type": "markdown",
   "id": "eb68970e",
   "metadata": {},
   "source": [
    "# Versuch 4: Statistik II  (Dart & Abschlussfeier)"
   ]
  },
  {
   "cell_type": "code",
   "execution_count": null,
   "id": "bae081f5",
   "metadata": {},
   "outputs": [],
   "source": [
    "# Name:\n",
    "# Matrikelnummer:\n",
    "# Emailadresse:\n",
    "# Studiengang:\n",
    "# Wiederholen Sie das Praktikum (Ja/Nein)?\n",
    "\n",
    "# Name:\n",
    "# Matrikelnummer:\n",
    "# Emailadresse:\n",
    "# Studiengang:\n",
    "# Wiederholen Sie das Praktikum (Ja/Nein)?"
   ]
  },
  {
   "cell_type": "markdown",
   "id": "f749fdfd",
   "metadata": {},
   "source": [
    "Die folgenden Aufgaben basieren auf der Generierung von (Pseudo-)Zufallszahlen am Computer. Daher liefert ein mehrfaches Ausführen der Versuche unterschiedliche Werte. Führen Sie den Code jeder einzelnen Aufgabe daher dreimal aus und dokumentieren Sie die Ergebnisse. Nutzen Sie dann (wie auch bei Experimenten im Labor) den Mittelwert und die Standardabweichung, wenn Sie die Fragen beantworten. Speichern Sie dieses Notebook als PDF ab. Es stellt Ihr Versuchsprotokoll dar.\n",
    "\n",
    "##### Aufgabenstellungen:\n",
    "###### Dart\n",
    "Ein Spieler wirft Dartpfeile auf eine quadratische Fläche.  <br>\n",
    "<br> a) Führen Sie mit Hilfe der Funktion mc_sim(n, r = 1, func = \"pi\", norm = False, save = \"example\") eine Monte-Carlo Simulation zur Bestimmung der Kreiszahl $\\large{\\pi}$ durch. Benutzen Sie dabei i) $n=100$ und ii) $n=1000$ iii) $n=10000$ zufallsgenerierte Punkte. Vergleichen Sie die Werte mit einem aktuellen Literaturwert. <br> <br> \n",
    "b) Welche Annahme muss für den Dartspieler gelten, damit die Simulation ein verlässliches Ergebnis liefert? <br>  <br>\n",
    "c) Nun kommt ein weiterer Spieler hinzu. Um dies darzustellen, werden für die Simulation normalverteilte Datenpunkte (grün) generiert (benutzen Sie dafür bei der Funktion mc_sim() das Argument \"norm = [0, 0.1]\"). Welchem Sachverhalt entspricht diese Simulation?  Könnte $\\large{\\pi}$ nur aus den Ergebnissen dieses Spielers berechnet werden? <br> <br>\n",
    "\n",
    "d) Führen Sie mit Hilfe der Funktion mc_sim(n = 10000, func = \"gauss\", norm = False, save = \"example\") eine Monte-Carlo Simulation zur Bestimmung des Flächeninhalts der Funktion $f(x)=e^{-\\frac{x^2}{2}}$ im Intervall $[-10,10]$ durch. Benutzen Sie dafür i) $n=100$ und ii) $n=1000$ und iii) $n=10000$ zufallsgenerierte Punkte. Vergleichen Sie die Werte mit dem Literaturwert. Gehen Sie hierfür davon aus, dass näherungsweise die Fläche über das Intervall $(- \\infty, \\infty)$ betrachtet wird. <br>\n",
    "<br>\n",
    "e) Überlegen Sie sich, wie man $\\large{\\pi}$ berechnen kann, wenn man den Flächeninhalt aus (d) vorliegen hat. Vergleichen Sie den so erhaltenen Wert für  $\\large{\\pi}$  mit einem Literaturwert. Was passiert, wenn man die Intervallgrenzen der Monte-Carlo-Integration ändert? Wie kann man die Ergebnisse erklären?\n",
    "\n",
    "###### Abschlussfeier\n",
    "f) Auf der Abschlussfeier der Physik einer sehr großen Universität soll ein Walzer getanzt werden. Die \"Herrenschritte\" beherrschen 100 StudentInnen (kurz bezeichnen wir diese vereinfacht als \"Herren\"). Die \"Damenschritte\" hingegen beherrschen 1000 StudentInnen (kurz bezeichnen wir diese als \"Damen\"). <br><br>\n",
    "Gehen wir davon aus, dass aufgrund des Überangebots an Damen nur die Herren mit verschiedenen Damen tanzen, die Damen aber am Tisch sitzen bleiben und am ganzen Abend nur mit einem Herr tanzen. Nun kann es also dazu kommen, dass einige Damen keinen Partner finden und manche Herren sogar von mehreren Damen gefragt werden, ob sie zusammen tanzen wollen. Betrachten wir nun also die Personen, welche die Herrenschritte beherrschen und ordnen Ihnen Damen zu. Dies kann wie folgt aussehen: \n",
    "\n",
    "    - Person 1: eine Dame als Partner*in\n",
    "    - Person 2: - \n",
    "    - Person 3: 10 Damen als Partner*innen\n",
    "    - ...\n",
    "    - Person 100: 5 Damen als Partner*innen\n",
    "\n",
    "\n",
    "Wir simulieren dies mit einem Modell.\n",
    "\n",
    "Benutzen Sie dazu die Funktion mc\\_sim(n, r, func = \"grid\", norm = False, save = \"example\"). Dadurch wird ein  $r*r$  Gitter (\"Schachbrett\") erstellt wird. Dabei wird jedes der  $r*r$ Felder zufällig mit Punkten (Damen) gefüllt. Dann wird die Anzahl der Punkten (Damen) pro Feld (Herr) gezählt und in einem Histogramm geplottet. \n",
    "\n",
    "Wir können natürlich beliebige Feiergrößen betrachten. \n",
    "Verwenden Sie <br>\n",
    "i) $n=1000$ & $r=10$  und <br> \n",
    "ii) $n=25000$ & $r=50$,<br>\n",
    "iii) $n=100000$ & $r=100$ <br>\n",
    "Dabei bezeichnet n die Anzahl an Damen, welche mit einem Herr tanzen möchten. Welche Bedeutung hat r in Bezug auf die Aufgabe?\n",
    "\n",
    "Vergleichen Sie (optisch) die erhaltenen Werte mit den theoretischen Werten. Welcher Verteilung entspricht das resultierende Histogramm der experimentellen Werte? Welcher Verteilung entspricht das resultierende Histogramm der theoretischen Werte? Geben Sie die jeweiligen Parameter der Wahrscheinlichkeitsverteilung an (z.B. \"p\" oder \"a\" in den Formeln in der Anleitung). \n",
    "\n",
    "ACHTUNG: Die Berechnung der Werte kann, je nach Hardware, durchaus einige Minuten dauern! Bitte kontaktieren Sie uns, sollten Sie einen \"Runtime Error\" erhalten)\n",
    "\n",
    "g) Nutzen Sie die Ergebnisse aus Aufgabe (f). Wie groß ist die Wahrscheinlichkeit, dass drei Damen mit einem Herr tanzen möchten? Diese Werte werden als Zahlenreihe unter den Histogrammen ausgegeben. Lesen Sie die richtigen Werte ab. Vergleichen Sie diese Werte mit dem theoretischen Wert für $ P(\\lambda ,k)=\\frac{\\lambda ^k}{k!}e^{-\\lambda}$. Was fällt Ihnen auf?\n",
    "\n",
    "\n"
   ]
  },
  {
   "cell_type": "code",
   "execution_count": null,
   "id": "099c7c22",
   "metadata": {},
   "outputs": [],
   "source": [
    "import numpy as np\n",
    "from numpy import random as rnd\n",
    "from matplotlib import pyplot as plt\n",
    "import seaborn as sns\n",
    "import statsmodels.api as sm\n",
    "import warnings\n",
    "from scipy.special import factorial as fak"
   ]
  },
  {
   "cell_type": "code",
   "execution_count": null,
   "id": "6fb61a99",
   "metadata": {},
   "outputs": [],
   "source": [
    "def mc_sim(n, r, func, norm = False, save = False): \n",
    "    \n",
    "    \"\"\"\n",
    "    mc_sim(n, r, func, norm, save)\n",
    "    \n",
    "    n = Anzahl der Dartwürfe (Integer)\n",
    "    \n",
    "    r = Radius des Kreises (Aufgabe a) ),                    (Integer)\n",
    "        bzw. Intervall [-r, r] des Integrals (Aufgabe d) ),  (Integer)\n",
    "        bzw. rxr Schachbrettmuster (Aufgabe e) ),            (Integer)\n",
    "\n",
    "    func = \"pi\" (approximiert Pi und gibt \"Dartplot\" aus),\n",
    "           \"gauss\" (approximiert Fläche unter der Gausskurve und gibt \"Dartplot\" aus),\n",
    "           \"grid\" (plottet Verteilung der Anzahl der Events pro Feld gegen theoretische Verteilung)\n",
    "    \n",
    "    \"\"\"\n",
    "    x_in = np.array([])\n",
    "    y_in = np.array([])\n",
    "    \n",
    "    if (func == \"pi\"):\n",
    "        x = [rnd.uniform(-r,r)for i in range(n)]\n",
    "        y = [rnd.uniform(-r,r)for i in range(n)]\n",
    "      \n",
    "        for i in range(n):\n",
    "            if np.sqrt(x[i]**2+y[i]**2)<=r:\n",
    "                x_in = np.append(x_in, x[i])\n",
    "                y_in = np.append(y_in, y[i])\n",
    "                \n",
    "    elif (func == \"gauss\"):\n",
    "        x = [rnd.uniform(-r,r)for i in range(n)]\n",
    "        y = [rnd.uniform(0,1)for i in range(n)]\n",
    "       \n",
    "        f = np.exp(-(np.array(x)**2 /2) )\n",
    "        for i in range (n):\n",
    "            if ((y[i] <= 0) and (y[i] >= f[i])):\n",
    "                x_in = np.append(x_in, x[i])\n",
    "                y_in = np.append(y_in, y[i])\n",
    "            elif ((y[i] >= 0) and (y[i] <= f[i])):\n",
    "                x_in = np.append(x_in, x[i])\n",
    "                y_in = np.append(y_in, y[i])\n",
    "                \n",
    "    elif (func == \"grid\"):\n",
    "        x = np.array([rnd.uniform(0,1)for i in range(n)])\n",
    "        y = np.array([rnd.uniform(0,1)for i in range(n)])\n",
    "        points = np.array([])\n",
    "        for i in range (r):\n",
    "            for j in range (r):\n",
    "                check1 = ( (x >= j /r) & (x < (j+1) /r) )\n",
    "                check2 = ( (y[check1] >= i /r) & ( y[check1] < (i+1) /r) )\n",
    "                points = np.append(points, sum(check2) )\n",
    "        real_dist = np.array([4.53999298e-05, 4.53999298e-04, 2.26999649e-03, 7.56665496e-03, 1.89166374e-02, 3.78332748e-02, 6.30554580e-02, 9.00792257e-02,1.12599032e-01, 1.25110036e-01, 1.25110036e-01, 1.13736396e-01,9.47803301e-02, 7.29079462e-02, 5.20771044e-02, 3.47180696e-02,2.16987935e-02, 1.27639962e-02, 7.09110899e-03, 3.73216263e-03,1.86608131e-03, 8.88610150e-04, 4.03913704e-04, 1.75614654e-04,7.31727725e-05, 2.92691090e-05, 1.12573496e-05, 4.16938875e-06,1.48906741e-06, 5.13471521e-07])\n",
    "        amount=plt.hist(points, bins = np.arange(31), density = True, color = \"limegreen\", label = \"experimentelle Werte\")\n",
    "        plt.bar(np.arange(30),real_dist, color = \"black\", width = 0.4, label = \"theoretische Werte\")\n",
    "        plt.legend()\n",
    "        plt.show()\n",
    "        print(\"Häufigkeitswerte (y-Werte des Histogramms): \", amount)\n",
    "        \n",
    "    if (func != \"grid\"):    \n",
    "        area = len(x_in)/len(x)\n",
    "        plt.scatter(x, y)\n",
    "        plt.scatter(x_in, y_in)\n",
    "    \n",
    "        if (norm != False):\n",
    "            plt.scatter([rnd.normal(norm[0], norm[1])for i in range(n)], [rnd.normal(norm[0], norm[1])for i in range(n)])\n",
    "        plt.show()\n",
    "\n",
    "        if (func == \"pi\"):\n",
    "            print(4*area)\n",
    "            return 4*area\n",
    "\n",
    "        elif (func == \"gauss\"):\n",
    "            print(2*r*area)\n",
    "            return 2*r*area\n"
   ]
  },
  {
   "cell_type": "markdown",
   "id": "3d87481f",
   "metadata": {},
   "source": [
    "### Dart"
   ]
  },
  {
   "cell_type": "code",
   "execution_count": null,
   "id": "9da978c7",
   "metadata": {},
   "outputs": [],
   "source": [
    "#Aufgabe a)\n",
    "\n",
    "#i)\n",
    "ergebnis1 = mc_sim(n = 100, r = 1, func = \"pi\", norm = False)\n",
    "\n",
    "#ii)\n",
    "ergebnis2 = mc_sim(n = 10, r = 1, func = \"pi\", norm = False)\n",
    "\n",
    "#iii)\n",
    "ergebnis3 = mc_sim(n = 10, r = 1, func = \"pi\", norm = False)\n",
    "\n",
    "\n",
    "print(ergebnis1, ergebnis2, ergebnis3)\n",
    "#Denken Sie bitte daran, alles 3x auszuführen und die Ergebnisse zu dokumentieren"
   ]
  },
  {
   "cell_type": "code",
   "execution_count": null,
   "id": "8f90562d",
   "metadata": {},
   "outputs": [],
   "source": [
    "# Wie berechnet man den Mittelwert dreier Ergebnisse?\n",
    "# Anleitung: schreiben Sie z.B. (3.0+3.1+3.2)/3\n",
    "#Hier ein Testbeispiel\n",
    "(3.0+3.1+3.2)/3"
   ]
  },
  {
   "cell_type": "code",
   "execution_count": null,
   "id": "b086ebc9",
   "metadata": {},
   "outputs": [],
   "source": [
    "# Berechnen Sie den Mittelwert für Ihre Ergebnisse aus (a)\n",
    "#Schreiben Sie hier Ihren eigenen Code angelehnt an das vorherige Beispiel\n",
    "#"
   ]
  },
  {
   "cell_type": "code",
   "execution_count": null,
   "id": "a44baa8c",
   "metadata": {},
   "outputs": [],
   "source": [
    "# Berechnen Sie die empirische Standardabweichung für Ihre Ergebnisse aus (a)\n",
    "# Anleitung: wenn Ihre Werte 3.0, 3.1 und 3.2 waren und 3.1 Ihr Mittelwert war, dann schreiben Sie\n",
    "# np.sqrt((1/2) * ((3.0-3.1) **2 + (3.1-3.1) **2 + (3.2-3.1) **2) )\n",
    "#Hier ein Testbeispiel\n",
    "np.sqrt((1/2) * ((3.0-3.1) **2 + (3.1-3.1) **2 + (3.2-3.1) **2) )"
   ]
  },
  {
   "cell_type": "code",
   "execution_count": null,
   "id": "71090013",
   "metadata": {},
   "outputs": [],
   "source": [
    "np.pi"
   ]
  },
  {
   "cell_type": "code",
   "execution_count": null,
   "id": "02c01014",
   "metadata": {},
   "outputs": [],
   "source": [
    "# Berechnen Sie die empirische Standardabweichung für Ihre Ergebnisse aus (a)\n",
    "#Schreiben Sie hier Ihren eigenen Code angelehnt an das vorherige Beispiel\n",
    "?"
   ]
  },
  {
   "cell_type": "code",
   "execution_count": null,
   "id": "941abf4f",
   "metadata": {},
   "outputs": [],
   "source": [
    "# Aufgabe b)\n",
    "# Geben Sie Ihre Antwort hier ein: (z.B. muss es ein guter oder schlechter Spieler sein?)"
   ]
  },
  {
   "cell_type": "code",
   "execution_count": null,
   "id": "953d82c1",
   "metadata": {},
   "outputs": [],
   "source": [
    "# Aufgabe c)\n",
    "mc_sim(n = ?, r = 1, func = \"pi\", norm = [?,?])"
   ]
  },
  {
   "cell_type": "code",
   "execution_count": null,
   "id": "68369cf3",
   "metadata": {},
   "outputs": [],
   "source": [
    "# Berechnen Sie den Mittelwert für Ihre Ergebnisse aus (c)\n",
    "# Anleitung: siehe (a)\n",
    "?"
   ]
  },
  {
   "cell_type": "code",
   "execution_count": null,
   "id": "e0ce679c",
   "metadata": {},
   "outputs": [],
   "source": [
    "# Berechnen Sie die empirische Standardabweichung für Ihre Ergebnisse aus (c)\n",
    "# Anleitung: siehe (a)\n",
    "?"
   ]
  },
  {
   "cell_type": "code",
   "execution_count": null,
   "id": "3ea233a3",
   "metadata": {},
   "outputs": [],
   "source": [
    "# Geben Sie Ihre Antwort hier ein:\n",
    "# \"Sollte man Pi nur anhand der Ergebnisse dieses Spielers bestimmen?\""
   ]
  },
  {
   "cell_type": "code",
   "execution_count": null,
   "id": "a116d237",
   "metadata": {},
   "outputs": [],
   "source": [
    "# Aufgabe d) \n",
    "mc_sim(n = ?, r = 10, func = \"gauss\", norm = False)\n",
    "mc_sim(n = ?, r = 10, func = \"gauss\", norm = False)\n",
    "mc_sim(n = ?, r = 10, func = \"gauss\", norm = False)\n",
    "print(\"Literaturwert:\", np.sqrt(np.pi * 2))"
   ]
  },
  {
   "cell_type": "code",
   "execution_count": null,
   "id": "fd63d7d6",
   "metadata": {},
   "outputs": [],
   "source": [
    "# Aufgabe e)\n",
    "# Geben Sie Ihre Antwort hier ein:\n",
    "# \"Wie kann man mit dem Ergebnis von d) Pi bestimmen?\""
   ]
  },
  {
   "cell_type": "markdown",
   "id": "997b3cda",
   "metadata": {},
   "source": [
    "### Abschlussfeier"
   ]
  },
  {
   "cell_type": "code",
   "execution_count": null,
   "id": "7186e50e",
   "metadata": {},
   "outputs": [],
   "source": [
    "#Aufgabe f) i)\n",
    "mc_sim(n = ?, r = 10, func=\"grid\", norm = False)\n",
    "mc_sim(n = ?, r = 50, func = \"grid\", norm = False)\n",
    "mc_sim(n = ?, r = 100, func=\"grid\", norm = False)\n",
    "#Denken Sie bitte daran, alles 3x auszuführen und die Ergebnisse zu dokumentieren"
   ]
  },
  {
   "cell_type": "code",
   "execution_count": null,
   "id": "c6e6cd02",
   "metadata": {},
   "outputs": [],
   "source": [
    "# Ihre abgelesenen Werte bei...\n",
    "(f)(i) P(\"1 Herr, 3 Damen\") = ?, ?, ?\n",
    "(f)(ii) P(\"1 Herr, 3 Damen\") = ?, ?, ?\n",
    "(f)(iii) P(\"1 Herr, 3 Damen\") = ?, ?, ?"
   ]
  },
  {
   "cell_type": "code",
   "execution_count": null,
   "id": "e334e179",
   "metadata": {},
   "outputs": [],
   "source": [
    "# Berechnen Sie jeweils den Mittelwert der drei Messungen für i), ii) und iii) \n",
    "# Anleitung: siehe (a)\n",
    "?\n",
    "# Notieren Sie hier: Mittelwert i), Mittelwert ii), Mittelwert iii)"
   ]
  },
  {
   "cell_type": "code",
   "execution_count": null,
   "id": "f3519bb9",
   "metadata": {},
   "outputs": [],
   "source": [
    "# Berechnen Sie die empirische Standardabweichung für Ihre Ergebnisse aus (f)\n",
    "# Anleitung: (a)\n",
    "?\n",
    "# Notieren Sie hier empirische Standabweichung i), empirische Standardabweichung ii), empirische Standardabweichung iii)"
   ]
  },
  {
   "cell_type": "code",
   "execution_count": null,
   "id": "c699a8ed",
   "metadata": {},
   "outputs": [],
   "source": [
    "# Nun berechnen wir noch den theoretischen Wert quasi wie im Taschenrechner\n",
    "?\n",
    "# np.exp(x) ist Exponentialfunktion exp(x)\n",
    "# fak(x) oder np.math.factorial(x) ist Fakultätsfunktion\n",
    "# x/y = Division\n",
    "# a**b oder np.power(a,b) ist Potenz a hoch b"
   ]
  }
 ],
 "metadata": {
  "kernelspec": {
   "display_name": "Python 3 (ipykernel)",
   "language": "python",
   "name": "python3"
  },
  "language_info": {
   "codemirror_mode": {
    "name": "ipython",
    "version": 3
   },
   "file_extension": ".py",
   "mimetype": "text/x-python",
   "name": "python",
   "nbconvert_exporter": "python",
   "pygments_lexer": "ipython3",
   "version": "3.9.7"
  }
 },
 "nbformat": 4,
 "nbformat_minor": 5
}
