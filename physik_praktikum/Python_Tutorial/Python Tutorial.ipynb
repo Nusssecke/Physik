{
 "cells": [
  {
   "cell_type": "markdown",
   "metadata": {},
   "source": [
    "# Python Tutorial"
   ]
  },
  {
   "cell_type": "markdown",
   "metadata": {},
   "source": [
    "## Rechtliche Bemerkungen"
   ]
  },
  {
   "cell_type": "markdown",
   "metadata": {},
   "source": [
    "Autor: Timo Schellhaas\n",
    "\n",
    "Kontakt: timo.schellhaas@physik.uni-giessen.de\n",
    "\n",
    "Dieses Notebook darf nicht ohne Einwilligung des Autors oder der Praktikumsleitung vervielfältigt oder publiziert werden.\n",
    "    \n",
    "    \n",
    "Bitte kontaktieren Sie bei Fragen Ihren Betreuer! -> Stud IP"
   ]
  },
  {
   "cell_type": "markdown",
   "metadata": {},
   "source": [
    "## Hinweise zu diesem Notebook "
   ]
  },
  {
   "cell_type": "markdown",
   "metadata": {},
   "source": [
    "Dieses Notebook ist lediglich für Übungszwecke gedacht und das Nicht-Bearbeiten wirkt sich $\\textbf{nicht}$ negativ auf den Verlauf des Praktikums aus. Die Bearbeitung wird jedoch empfohlen, da wichitge Inhalte, die zur Bearbeitung der anderen Notebooks verlangt werden, hier anhand von Beispielen kurz erklärt werden. Für den Aufgabenteil am Ende des Notebooks werden zeitnahe Musterlösungen via Ilias als Videoformat präsentiert. Eine Korrektur der Aufgaben ist nicht vorgesehen. Sollten jedoch noch Fragen offen bleiben, wenden Sie sich bitte an den oben genannten Kontakt."
   ]
  },
  {
   "cell_type": "markdown",
   "metadata": {},
   "source": [
    "# Willkommen in Python"
   ]
  },
  {
   "cell_type": "markdown",
   "metadata": {},
   "source": [
    "In den Naturwissenschaften gehören Computerprogramme zum Alltag. Sie werden benutzt um Simulationen durchzuführen, Messwerte aufzunehmen oder grafische Auswertungen anzufertigen. Diese Programme werden in Sprachen wie C++ oder Python von Physikern oft selbst implementiert. In diesem Tutorial lernen Sie grundlegene Operationen und Lösungsansätze für physikalische und allgemeine Problemstellungen in Python."
   ]
  },
  {
   "cell_type": "markdown",
   "metadata": {},
   "source": [
    "## Einführung ins Programmieren\n",
    "### Was ist ein \"Algorithmus\"?"
   ]
  },
  {
   "cell_type": "markdown",
   "metadata": {},
   "source": [
    "Mit Hilfe einer Programmiersprache versucht man eine Aufgabe zu lösen, indem eine Vorschrift erstellt wird, die der Computer ausführen kann. Dabei ist darauf zu achten, dass die Schritte korrekt und eindeutig definiert sind. Eine Vorschrift darf nur endlich viel Speicherplatz und Zeit zur Durchführung in Anspruch nehmen. Eine solche Vorschrift bezeichnet man als Algorithmus. Dieser kann sehr elementar sein (nimm Zahl x und addiere 1 <=> x+1) oder etwas komplizierter sein (bspw. Primzahltests). "
   ]
  },
  {
   "cell_type": "markdown",
   "metadata": {},
   "source": [
    "Bei der Implementierung (d.h. dem Schreiben von Code) muss man beachten, dass sich die Schreibweise z.T. von gängigen mathematischen Formulierungen unterscheidet.  Während man bei mathematischen Beweisen bspw. oft mit $\\bf{...}$ argumentiert, um anzudeuten, dass sich ein gegebenes Muster wiederholt (z.B.: $n!= n*(n-1)*(n-2)*...*3*2*1$), muss man beim Programmieren stets im Hinterkopf behalten, dass der Computer keine logischen Schlüsse ziehen kann. Man muss also alles definieren, was man benötigt."
   ]
  },
  {
   "cell_type": "markdown",
   "metadata": {},
   "source": [
    "Um mit einem sich wiederholendem Muster zu arbeiten, kann man bspw. Schleifenoperationen implementieren oder sogenannte \"Funktionen\" verwenden.\n",
    "\n",
    "Das Überspringen von Rechenschritten führt meist direkt zu einem Fehler. Deshalb ist es sinnvoll , sich mit dem genauen Syntax, der von der Programmiersprache bereitgestellten Funktionen vertraut zu machen. Zudem kann es helfen, wenn man sich vor dem Umsetzung erst den sogennanten \"Pseudocode\" auf dem Papier überlegt, der die Syntaxanforderung nicht erfüllt aber einen groben Fahrplan darbietet."
   ]
  },
  {
   "cell_type": "markdown",
   "metadata": {},
   "source": [
    "Beispiel für einen Pseudocode:\n",
    "(nimm die Menge M={n} und füge M das Element n-|M| hinzu. Wiederhole den Schritt n-1 mal. Multipliziere alle Elemente aus M miteinander <=> n!)."
   ]
  },
  {
   "cell_type": "markdown",
   "metadata": {},
   "source": [
    "### Kommentare"
   ]
  },
  {
   "cell_type": "markdown",
   "metadata": {},
   "source": [
    "Bei komlexeren Problemstellungen können hier einige Zeilen Code entstehen, die schnell sehr unübersichtlich werden. Deshalb ist es sinnvoll, den Code so zu kommentieren, dass er auch von einer anderen Person problemlos verstanden werden kann. Auch wenn man den Code nur selber verwendet, sollte man ihn dennoch selbsterklärend gestallten, da man nach längerer Zeit ohne Bearbeitung des Codes möglicherweise vergisst, was der Code ausführt oder ausführen soll."
   ]
  },
  {
   "cell_type": "markdown",
   "metadata": {},
   "source": [
    "Python bietet hierfür das $#$-Symbol an, um innerhalb des Codes zu kommentieren. Wenn man mit Python Notebooks arbeitet, besteht allerdings auch die Möglichkeit zwischen den Code Zeilen (bspw. nachdem man eine Funktion definiert hat) eine neue Zelle einzufügen und diese mit einer Überschrift oder einem Fließtext zu füllen. Es besteht außerdem im Fließtext die Möglichkeit LaTeX-Code einzufügen, um bspw. den Text fett abzudrucken oder Formeln einzufügen. Hierfür verwendet man zwei $-Zeichen und setzt zwischen diesen den LaTeX-Code. "
   ]
  },
  {
   "cell_type": "markdown",
   "metadata": {},
   "source": [
    "Da die Zellen den eigentlichen Code unterbrechen (können), führt Python diesen auch nicht einfach von oben nach unten aus, sondern Zelle für Zelle. Es gibt zwar eine Option mit der obersten Zelle anzufange, und das Programm einmal komplett durchlaufenzulassen, jedoch können die Zellen auch in einer beliebigen Reihenfolge durchgeführt werden. Eine Zelle wird durch \"Shift\"+\"Enter\" oder \"Strg\"+\"Enter\" ausgeführt. Bei der Shift-Variante springt man direkt zur nächsten Zelle, bei der Strg-Variante bleibt die aktuelle Zelle aktuell."
   ]
  },
  {
   "cell_type": "markdown",
   "metadata": {},
   "source": [
    "## Unser erster eigener Code\n",
    "### Einfache Operationen"
   ]
  },
  {
   "cell_type": "markdown",
   "metadata": {},
   "source": [
    "Beginnen wir mit einer intuitiven Operation. Testen wir eine einfache Addition:"
   ]
  },
  {
   "cell_type": "code",
   "execution_count": 1,
   "metadata": {},
   "outputs": [
    {
     "data": {
      "text/plain": [
       "2"
      ]
     },
     "execution_count": 1,
     "metadata": {},
     "output_type": "execute_result"
    }
   ],
   "source": [
    "1+1 #Addition"
   ]
  },
  {
   "cell_type": "markdown",
   "metadata": {},
   "source": [
    "Das geht natürlich auch mit - (Subtraktion), * (Multiplikation) und / (Division). Möchten wir unsere Rechnung speichern, legen wir dafür eine Variable an. Das kann einfach ein Buchstabe sein, oder auch ein längerer Ausdruck."
   ]
  },
  {
   "cell_type": "code",
   "execution_count": 2,
   "metadata": {},
   "outputs": [],
   "source": [
    "x=3-7                \n",
    "physik_ist_cool=5/3  "
   ]
  },
  {
   "cell_type": "markdown",
   "metadata": {},
   "source": [
    "Man sieht nun, dass man, im Gegensatz zum anfänglichen Beispiel, keine Ausgabe hat. Um die gespeicherten Werte auszugeben gibt es nun zwei Wege: einmal kann die Funktion $print$ verwendet werden, oder die Variable einfach selbst noch mal eingegeben werden. Da jede Zelle nur einen Output haben kann, ist die einfache Eingabe einer Variablen nicht immer sinnvoll, weshalb die $print$ Funktion (welche immer einen Wert ausgibt, jedoch nicht im eigentlichen Output) zu bevorzugen ist."
   ]
  },
  {
   "cell_type": "code",
   "execution_count": 3,
   "metadata": {},
   "outputs": [
    {
     "name": "stdout",
     "output_type": "stream",
     "text": [
      "-4\n"
     ]
    },
    {
     "data": {
      "text/plain": [
       "1.6666666666666667"
      ]
     },
     "execution_count": 3,
     "metadata": {},
     "output_type": "execute_result"
    }
   ],
   "source": [
    "print(x)\n",
    "physik_ist_cool"
   ]
  },
  {
   "cell_type": "markdown",
   "metadata": {},
   "source": [
    "Natürlich können Variablen auch verwendet werden, um andere Datentypen zu speichern, wie z.B. Zeichenketten(Strings) oder Listen."
   ]
  },
  {
   "cell_type": "code",
   "execution_count": 4,
   "metadata": {},
   "outputs": [
    {
     "name": "stdout",
     "output_type": "stream",
     "text": [
      "I love Python\n",
      "['Milch', 'Eier', 'Brötchen']\n"
     ]
    }
   ],
   "source": [
    "this_is_a_string=\"I love Python\"\n",
    "shopping_list=[\"Milch\",\"Eier\",\"Brötchen\"]\n",
    "print(this_is_a_string)\n",
    "print(shopping_list)"
   ]
  },
  {
   "cell_type": "markdown",
   "metadata": {},
   "source": [
    "Traditionell werden bei Programmiersprachen englische Bezeichnungen bevorzugt, allerdings sind auch deutsche Bezeichnungen üblich. Wichtig ist dabei, dass dem Nutzer klar ist, was die Funktion eigentlich macht. So bietet sich für die Funktion, die das arithmetische Mittel bestimmt die Bezeichnung $mean$ an oder für die Funktion, die die Standardabweichung berechnet die Bezeichnung $std$ (standard derivation). $Frodo$ oder $Gandalf$ wären also keine guten Namen (und werden bei der Korrektur der Aufgaben negativ bewertet!). \n",
    "\n",
    "Dies sollte selbstverständlich sein: \n",
    "Sollten in den Abgaben sexuellen Begriffe, Beleidigungen oder Ähnliches auftauchen, werden Sie vom Praktikum ausgeschlossen."
   ]
  },
  {
   "cell_type": "markdown",
   "metadata": {},
   "source": [
    "Nun möchten wir eine Eingabe programmieren. Diese ist z.B. sinnvoll, wenn man einer Funktion Werte übergeben will ohne dabei den Code zu ändern (zu Funktionen später mehr). Hierfür benutzen wir die $input$ Funktion und geben eine Zahl ein. Die Klammern können dabei leer bleiben oder noch, wie unten gezeigt, einen kleinen Text enthalten. Dabei bewirkt das \"\\n\" einen Zeilenumbruch."
   ]
  },
  {
   "cell_type": "code",
   "execution_count": 5,
   "metadata": {},
   "outputs": [
    {
     "name": "stdout",
     "output_type": "stream",
     "text": [
      "Geben Sie eine Zahl ein\n",
      "3\n"
     ]
    },
    {
     "data": {
      "text/plain": [
       "'3'"
      ]
     },
     "execution_count": 5,
     "metadata": {},
     "output_type": "execute_result"
    }
   ],
   "source": [
    "value=input(\"Geben Sie eine Zahl ein\\n\")\n",
    "value"
   ]
  },
  {
   "cell_type": "markdown",
   "metadata": {},
   "source": [
    "Beim Output bemerkt man nun die Anführungszeichen um den eingegeben Wert. Tatsächlich handelt hierbei um einen String. Da wir allerdings eine Zahl ausgegeben bekommen wollen, müssen wir dies nun erzwingen. Hierfür können die Funkiotonen $int$ bzw. $float$ verwendet werden. Wobei $int$ ganze Zahlen (integer), bzw. $float$ dezimal Zahlen erzwingt. "
   ]
  },
  {
   "cell_type": "code",
   "execution_count": 6,
   "metadata": {},
   "outputs": [
    {
     "name": "stdout",
     "output_type": "stream",
     "text": [
      "Neuer Versuch:\n",
      "3\n",
      "3\n",
      "Und ein letztes Mal:\n",
      "3\n",
      "3.0\n"
     ]
    }
   ],
   "source": [
    "value_int=int(input(\"Neuer Versuch:\\n\"))\n",
    "print(value_int)\n",
    "\n",
    "value_float=float(input(\"Und ein letztes Mal:\\n\"))\n",
    "print(value_float)"
   ]
  },
  {
   "cell_type": "markdown",
   "metadata": {},
   "source": [
    "Neben den bereits gezeigten Funktionen bietet Python jede Menge weiterere Funktionen, die hier unmöglich alle aufgezeigt werden können. Dennoch haben wir hier ein paar Funktionen gelistet. "
   ]
  },
  {
   "cell_type": "code",
   "execution_count": 7,
   "metadata": {},
   "outputs": [
    {
     "name": "stdout",
     "output_type": "stream",
     "text": [
      "3\n",
      "6\n",
      "3\n",
      "1024\n",
      "5\n"
     ]
    }
   ],
   "source": [
    "print(abs(-3))         #Betrag einer Zahl\n",
    "print(sum([1,2,3]))    #Summe aus einer Liste von Zahlen\n",
    "print(round(2.51))     #Auf- bzw. Abrunden. Bis (einschließlich) bspw. 1.5 wird abgerundet ab 1.5 aufgerundet\n",
    "print(2**10)           #Potenzfunktion. Zahl links der Sternchen ist die Basis, rechts der Sternchen der Exponent\n",
    "print(12%7)            #Rest von der Division zweier Zahlen"
   ]
  },
  {
   "cell_type": "markdown",
   "metadata": {},
   "source": [
    "### Schleifen"
   ]
  },
  {
   "cell_type": "markdown",
   "metadata": {},
   "source": [
    "Eine Schleife ist ein Wiederholung von Arbeitsschritten, die bei einem bestimmten Punkt startet und nach einem bestimmten Punkt abbricht. Dabei können sich die Arbeitsschritte innerhalb der Schleife verändern. Ein übertragenes Beispiel hierfür wäre das Lernen für eine Klausur: \"Lerne täglich 2 Stunden für die Klausur. Starte 2 Wochen vor Klausurbeginn und stoppe einen Tag vor der Klausur\". Dabei verändert sich der wiederholbare Arbeitsschritt, da man offensichtlich nicht 2 Wochen lang das selbe Kapitel lernt. \n",
    "\n",
    "Formal besteht eine Schleife aus einem Schleifenrumpf (Arbeitsschritt), einer Schleifenbedingung (Start- und Abbruchbedingung) und einer Laufvariablen."
   ]
  },
  {
   "cell_type": "markdown",
   "metadata": {},
   "source": [
    "Betrachten wir zunächst eine $for$-Schleife. Um eine $for$-Schleife auszuführen benutzt man das Schlüsselwort $for$. Dieses führt eine definierte Aktion solange aus, bis die übergebene Schleifenbedingung nicht mehr zutrifft. Hier ein einfaches Beispiel, dass die Quadratzahlen von 2 bis 9 ausgibt (beachte, dass die Schleife vor der 10, also bei der 9 abbricht. Das liegt daran, dass $range(2,10)$ die Zahlen 2,...,8,9 beinhaltet.)"
   ]
  },
  {
   "cell_type": "code",
   "execution_count": 8,
   "metadata": {},
   "outputs": [
    {
     "name": "stdout",
     "output_type": "stream",
     "text": [
      "4\n",
      "9\n",
      "16\n",
      "25\n",
      "36\n",
      "49\n",
      "64\n",
      "81\n"
     ]
    }
   ],
   "source": [
    "for i in range(2,10):\n",
    "    print(i**2)"
   ]
  },
  {
   "cell_type": "markdown",
   "metadata": {},
   "source": [
    "Ganz wichtig ist der Doppelpunkt nach der Schleifenbedingung. Dieser bewirkt automatisch (wenn man danach die Enter Taste drückt), dass der Befehl innerhalb der Schleife eingerückt wird. Sowohl der Doppeltpunkt, sowie die Eingerücktheit sind für den Syntax der $for$-Schleife notwendig."
   ]
  },
  {
   "cell_type": "markdown",
   "metadata": {},
   "source": [
    "Eine weitere Option ist die $while$-Schleife. Hierfür verwendet man entsprechen das $while$ Schlüsselwort. Die $while$-Schleife funktioniert, indem eine Bedingung gestellt wird, die vor der Ausführung des Schleifenrumpfs überprüft wird."
   ]
  },
  {
   "cell_type": "code",
   "execution_count": 9,
   "metadata": {},
   "outputs": [
    {
     "name": "stdout",
     "output_type": "stream",
     "text": [
      "3\n",
      "8\n",
      "13\n",
      "18\n",
      "23\n",
      "28\n",
      "33\n",
      "38\n",
      "43\n",
      "48\n",
      "53\n",
      "58\n",
      "63\n",
      "68\n",
      "73\n",
      "78\n",
      "83\n",
      "88\n"
     ]
    }
   ],
   "source": [
    "i = 1\n",
    "while i/11 <= 8:\n",
    "    print (2+i)\n",
    "    i += 5"
   ]
  },
  {
   "cell_type": "markdown",
   "metadata": {},
   "source": [
    "Der Unterschied zwischen $for$- und $while$-Schleife besteht darin, dass die $for$-Schleife eine vorab definierte Anzahl an Schritten abläuft (im Beispiel: die Schritte 2 bis 9), während bei der $while$-Schleife die Bedingung vor der Schleifen Ausführung überprüft wird (im Beispiel: ist $\\frac{i}{11}\\leq 8$ ?)."
   ]
  },
  {
   "cell_type": "markdown",
   "metadata": {},
   "source": [
    "### If-Bedingung"
   ]
  },
  {
   "cell_type": "markdown",
   "metadata": {},
   "source": [
    "Schauen wir uns nun die $if$-Abfrage an. Hierbei soll eine Aussage überprüfen und anschließend etwas (z.B. ein String) zurückgeben werden. Probieren wir es anhand eines Beispiels aus."
   ]
  },
  {
   "cell_type": "code",
   "execution_count": 10,
   "metadata": {},
   "outputs": [
    {
     "name": "stdout",
     "output_type": "stream",
     "text": [
      "Ist Pizza lecker?\n",
      "ja\n",
      "Das ist korrekt\n"
     ]
    }
   ],
   "source": [
    "question=input(\"Ist Pizza lecker?\\n\")\n",
    "if question==\"ja\":\n",
    "    print(\"Das ist korrekt\")\n",
    "elif (question==\"nein\"):\n",
    "    print(\"Das ist nicht korrekt\")\n",
    "else:\n",
    "    print(\"Das ist keine gültige Antwort\")"
   ]
  },
  {
   "cell_type": "markdown",
   "metadata": {},
   "source": [
    "Hier ist zu beachten, dass die Befehle $elif$ (Kurzform von else-if) und $else$ optional sind, jedoch, falls die Eingabe nicht durch eine Bedingung abgedeckt ist, wird eine Ausgabe unterdrückt. Es können zudem mehrere $elif$'s verdwendet werden in der selben if-Abfrage, jedoch nur ein $else$. Auch hierbei ist auf den korrekten Syntax zu achten (Doppelpunkt und Eingerücktheit)"
   ]
  },
  {
   "cell_type": "markdown",
   "metadata": {},
   "source": [
    "### Listen"
   ]
  },
  {
   "cell_type": "markdown",
   "metadata": {},
   "source": [
    "Eine Liste ist eine Menge aus verschiedenen Elementen. Die einzelnen Elemente der Liste können dabei auch einen unterschiedlichen Datentyp haben. Um mit den einzelnen Elementen zu arbeiten, gibt es viele nützliche Funktionen, die hier kurz aufgelistet werden. Dabei ist darauf zu achten, dass das erste Element einer Liste stehts mit dem Index 0 beginnt! Dadurch hat das n-te Element die Zugriffszahl n-1."
   ]
  },
  {
   "cell_type": "code",
   "execution_count": 11,
   "metadata": {},
   "outputs": [
    {
     "name": "stdout",
     "output_type": "stream",
     "text": [
      "1\n",
      "['Hallo', [17, 'Python'], 4]\n",
      "Python\n",
      "[1, 4, 'Hallo', [17, 'Python'], 4, 8, 5]\n",
      "[1, 4, 'Hallo', [17, 'Python'], 4, 8, 5, 1, 1, 1]\n",
      "2\n",
      "[4, 'Hallo', [17, 'Python'], 4, 8, 5, 1, 1, 1]\n",
      "0\n",
      "[4, 'Hallo', [17, 'Python'], 4, 8, 5, 1, 1]\n",
      "8\n",
      "[]\n"
     ]
    }
   ],
   "source": [
    "x=[1,4,\"Hallo\",[17,\"Python\"],4,8]\n",
    "\n",
    "print(x[0])               #Greift auf das erste Element zu \n",
    "print(x[2:5])             #Greift auf die Elemente 3 bis 5 zu\n",
    "print(x[3][1])            #Greift auf das zweite Element des vierten Elementes zu\n",
    "x.append(5)               #Hängt eine 5 an\n",
    "print(x)\n",
    "x.extend([1,1,1])         #Hängt die Liste [1,1,1] an\n",
    "print(x)\n",
    "print(x.count(4))         #Zählt alle 4er\n",
    "x.remove(1)               #Löscht erste 1\n",
    "print(x)\n",
    "print(x.index(4))         #Gibt erste Position mit Wert 4 aus\n",
    "x.pop()                   #Löscht letztes Element\n",
    "print(x)\n",
    "print(len(x))             #Gibt Länge der Liste aus\n",
    "x.clear()                 #Löscht gesamten Inhalt\n",
    "print(x)\n",
    "\n"
   ]
  },
  {
   "cell_type": "markdown",
   "metadata": {},
   "source": [
    "Eine besondere Form der Liste stellt das Numpy Array dar. Um solche Arrays zu erzeugen, muss zunächst die $numpy$-Bibliothek importiert werden. \n",
    "\n",
    "Bibliotheken besitzen eine Vielzahl von weiteren Funktionen, die in der Standartversion von Python nicht enthalten ist. Um so eine Bibliothek zu importieren stehen einem im wesentlichen 3 Optionen zur Auswahl:\n",
    "\n",
    "ein \"normaler Import\" ($import$ ...),\n",
    "\n",
    "ein Import, bei der die Bibliothek umbenannt wird ($import$ ... $as$ ...)\n",
    "\n",
    "ein Import eines Teiles einer Bibliothek ($from$ ... $import$ ... $as$ ...)"
   ]
  },
  {
   "cell_type": "code",
   "execution_count": 2,
   "metadata": {},
   "outputs": [],
   "source": [
    "import numpy as np"
   ]
  },
  {
   "cell_type": "markdown",
   "metadata": {},
   "source": [
    "Nun kann über verschiedene Funktionen ein Numpy Array erzeugt werden. Wie bei den normalen Listen folgt hier ein kleiner Überblick über einige Funktionen."
   ]
  },
  {
   "cell_type": "code",
   "execution_count": 13,
   "metadata": {},
   "outputs": [
    {
     "name": "stdout",
     "output_type": "stream",
     "text": [
      "1\n",
      "-0.7\n",
      "-0.7\n",
      "[3 4 5]\n",
      "[[ 1.          2.28571429]\n",
      " [ 3.57142857  4.85714286]\n",
      " [ 6.14285714  7.42857143]\n",
      " [ 8.71428571 10.        ]]\n",
      "[[1. 1. 1.]\n",
      " [1. 1. 1.]]\n",
      "[[0. 0. 0. 0.]\n",
      " [0. 0. 0. 0.]]\n",
      "[[ 3.   1.   4. ]\n",
      " [ 8.  -7.8 12.3]\n",
      " [ 9.  -0.7  8. ]]\n",
      "[[1. 0. 0.]\n",
      " [0. 1. 0.]\n",
      " [0. 0. 1.]]\n",
      "[1 2 3 4 5 6 8]\n"
     ]
    }
   ],
   "source": [
    "a = np.array([1,7,5,8])                                    #legt Array a an, welches einem Vektor gleicht\n",
    "b = np.array([[3,8,9],[1,-7.8,-0.7],[4,12.3,8]])           #legt Array b an, welches einer Matrix gleicht\n",
    "c = np.arange(1,7)                                         #legt Array c an mit Einträgen 1 bis 7\n",
    "d = np.linspace(1, 10, 8)                                  #legt Array d an mit 8 äquidistanten Einträgen von 1 bis 10 \n",
    "\n",
    "print(a[0])                                                #wie bei normalen Listen\n",
    "print(b[1][2])                                             #wie bei normalen Listen\n",
    "print(b[1,2])                                              #analog zu b[1][2]\n",
    "print(c[2:5])                                              #wie bei normalen Listen\n",
    "\n",
    "print(d.reshape(4,2))                                      #überführt d in eine 4x2 Matrix\n",
    "print(np.ones((2,3)))                                      #erstellt 2x3 Matrix mit ausschließlich 1er\n",
    "print(np.zeros ((2,4)))                                    #analog zu np.ones mit 0er\n",
    "print(b.transpose ())                                      #transponiert Matrix\n",
    "print(np.identity(3))                                      #3-dim Einheitsmatrix\n",
    "print(np.append(c,[8]))                                    #hängt eine 8 an das Array an"
   ]
  },
  {
   "cell_type": "markdown",
   "metadata": {},
   "source": [
    "Beachte, dass es im Wesentlichen 2 Unterschiede zu normalen Listen und Arrays gibt: Arrays können nur einen Datentyp enthalten (z.B. einen String) sind dafür aber besser für mathematische Operationen geeignet. Hier ein Beispiel:"
   ]
  },
  {
   "cell_type": "code",
   "execution_count": 14,
   "metadata": {},
   "outputs": [
    {
     "name": "stdout",
     "output_type": "stream",
     "text": [
      "[ 2  4  6  8 10 12 14 16 18 20]\n",
      "[1, 2, 3, 4, 5, 6, 7, 8, 9, 10, 1, 2, 3, 4, 5, 6, 7, 8, 9, 10]\n"
     ]
    }
   ],
   "source": [
    "arr=np.array([1,2,3,4,5,6,7,8,9,10])\n",
    "no_arr=[1,2,3,4,5,6,7,8,9,10]\n",
    "\n",
    "print(arr*2)\n",
    "print(no_arr*2)"
   ]
  },
  {
   "cell_type": "markdown",
   "metadata": {},
   "source": [
    "Viele Operationen, wie die Addition oder das Quadrieren, ist für einfache Listen nicht möglich. Dafür müsste man sich zusätzliche Funktionen definieren, die Listen einlesen und Listen ausgeben."
   ]
  },
  {
   "cell_type": "markdown",
   "metadata": {},
   "source": [
    "### Funktionen"
   ]
  },
  {
   "cell_type": "markdown",
   "metadata": {},
   "source": [
    "Funktionen ermöglichen es eine Rechnung (z.B. a+b) mehrfach mit unterschiedlichen Eingaben aufzurufen. Sie beschränken sich allerding nicht auf mathematische Gleichungen, sondern können beliebig komplex werden und auch mit anderen Funktionen kombiniert werden. Somit können Algorithmen implementiert werden. Um eine Funktion zu definieren, benötigen wir das $def$ Schlüsselwort und einen Funktionsnamen, dem ein Eingabewert zugeorndet wird. Eine Funktion besteht zudem aus den eigentlichen Funktionsbefehl(en) und einem Rückgabewert. Schauen wir uns die Funktion $f(x)=x^2$ an"
   ]
  },
  {
   "cell_type": "code",
   "execution_count": 15,
   "metadata": {},
   "outputs": [
    {
     "name": "stdout",
     "output_type": "stream",
     "text": [
      "169\n",
      "169\n"
     ]
    }
   ],
   "source": [
    "def f(x):\n",
    "    return (x**2)\n",
    "\n",
    "def funct(x):\n",
    "    x_help=x**2\n",
    "    return (x_help)\n",
    "\n",
    "print(f(13))\n",
    "print(funct(13))"
   ]
  },
  {
   "cell_type": "markdown",
   "metadata": {},
   "source": [
    "Hier wurden nun zwei verschiedene Varianten gezeigt, die beide das selbe bewirken. Bei komplizierteren Funktionen ist die erste Option etwas unübersichtlich, weshalb die zweite Option zu bevorzugen wäre. Man achte allerdings auch hier auf den Doppelpunkt und die Eingerücktheit."
   ]
  },
  {
   "cell_type": "markdown",
   "metadata": {},
   "source": [
    "### Graphische Auswertung"
   ]
  },
  {
   "cell_type": "markdown",
   "metadata": {},
   "source": [
    "Ein wichtiger Teil vom wissenschaftlichen Arbeiten ist auch die Präsentation seiner Ergebnissen, weshalb wir uns nun einige Optionen zur graphischen Auswertung anschauen. Hierfür importieren wir zunächst die $math$-Bibliothek und die $matplotlib$-Bibliothek, genauer gesagt den $pyplot$ Teil der Bibliothek"
   ]
  },
  {
   "cell_type": "code",
   "execution_count": 3,
   "metadata": {},
   "outputs": [],
   "source": [
    "import math\n",
    "from matplotlib import pyplot as plt #alternativ: import matplotlib.pyplot as plt"
   ]
  },
  {
   "cell_type": "markdown",
   "metadata": {},
   "source": [
    "Für die Ausgabe eines graphischen Plots werden nun zwei Listen benötigt: eine für die x- und eine für die y-Werte. Geben wir nun die Exponentialfunktion aus. Hier geben wir die Funktion mit einer logarithmischen Skala aus."
   ]
  },
  {
   "cell_type": "code",
   "execution_count": 17,
   "metadata": {},
   "outputs": [
    {
     "data": {
      "image/png": "[encoded data removed]",
      "text/plain": [
       "<Figure size 432x288 with 1 Axes>"
      ]
     },
     "metadata": {
      "needs_background": "light"
     },
     "output_type": "display_data"
    }
   ],
   "source": [
    "x = np.arange(0, math.pi*2, 0.05)   #legt ein Array von 0 bis 2*Pi an, in 0.05er Schritten\n",
    "y = np.exp(x)\n",
    "\n",
    "plt.plot(x,y)                       #statt plot kann man z.B. auch hist, scatter oder bar benutzen\n",
    "plt.xlabel(\"x\")                     #optional, Achsenbeschriftung\n",
    "plt.ylabel(\"exp(x)\")                #optional, Achsenbeschriftung\n",
    "plt.title('Logarithmisch')          #optional, Achsenbeschriftung\n",
    "plt.grid(True)                      #optional, erstellt Gitter\n",
    "plt.yscale('log')                   #optional, kann durch 'linear' ersetzt werden bzw. komplett weggelassen werden\n",
    "\n",
    "plt.show()"
   ]
  },
  {
   "cell_type": "markdown",
   "metadata": {},
   "source": [
    "### Daten importieren"
   ]
  },
  {
   "cell_type": "markdown",
   "metadata": {},
   "source": [
    "Manchmal ist es nötig, externe Daten einzulesen. Oft handelt es sich dabei um $csv$ Dateien (comma separated values). Diese lassen sich wie folgt einlesen. Zunächst müssen wir die $pandas$-Bibliothek importieren."
   ]
  },
  {
   "cell_type": "code",
   "execution_count": 18,
   "metadata": {},
   "outputs": [],
   "source": [
    "import pandas as pd"
   ]
  },
  {
   "cell_type": "markdown",
   "metadata": {},
   "source": [
    "Mit der $read$_$csv$ Funktion können wir unsern Datensatz einlesen. Wir haben den Datensatz vom Robert-Koch-Institut bzgl. COVID-19 Neuinfektion (stand: 09.01.2021) bereitgestellt. Im Argument der $read$_$csv$ Funktion steht $sep=\";\"$, was immer dann benutzt wird, wenn die Werte durch \";\" getrennt werden. Ansonsten könnte dort auch bspw. \",\" stehen oder \":\", abhängig vom Datensatz. Wichtig: Die Datei muss den selben Dateipfad besitzen, wie das Python Notebook."
   ]
  },
  {
   "cell_type": "code",
   "execution_count": 19,
   "metadata": {},
   "outputs": [
    {
     "data": {
      "text/html": [
       "<div>\n",
       "<style scoped>\n",
       "    .dataframe tbody tr th:only-of-type {\n",
       "        vertical-align: middle;\n",
       "    }\n",
       "\n",
       "    .dataframe tbody tr th {\n",
       "        vertical-align: top;\n",
       "    }\n",
       "\n",
       "    .dataframe thead th {\n",
       "        text-align: right;\n",
       "    }\n",
       "</style>\n",
       "<table border=\"1\" class=\"dataframe\">\n",
       "  <thead>\n",
       "    <tr style=\"text-align: right;\">\n",
       "      <th></th>\n",
       "      <th>Datum</th>\n",
       "      <th>Schätzer_Neuerkrankungen</th>\n",
       "      <th>UG_PI_Neuerkrankungen</th>\n",
       "      <th>OG_PI_Neuerkrankungen</th>\n",
       "      <th>Schätzer_Neuerkrankungen_ma4</th>\n",
       "      <th>UG_PI_Neuerkrankungen_ma4</th>\n",
       "      <th>OG_PI_Neuerkrankungen_ma4</th>\n",
       "      <th>Schätzer_Reproduktionszahl_R</th>\n",
       "      <th>UG_PI_Reproduktionszahl_R</th>\n",
       "      <th>OG_PI_Reproduktionszahl_R</th>\n",
       "      <th>Schätzer_7_Tage_R_Wert</th>\n",
       "      <th>UG_PI_7_Tage_R_Wert</th>\n",
       "      <th>OG_PI_7_Tage_R_Wert</th>\n",
       "      <th>Unnamed: 13</th>\n",
       "      <th>Unnamed: 14</th>\n",
       "      <th>Unnamed: 15</th>\n",
       "      <th>Unnamed: 16</th>\n",
       "      <th>Unnamed: 17</th>\n",
       "      <th>Unnamed: 18</th>\n",
       "    </tr>\n",
       "  </thead>\n",
       "  <tbody>\n",
       "    <tr>\n",
       "      <th>0</th>\n",
       "      <td>02.03.2020</td>\n",
       "      <td>304</td>\n",
       "      <td>292</td>\n",
       "      <td>319</td>\n",
       "      <td>225</td>\n",
       "      <td>213</td>\n",
       "      <td>238</td>\n",
       "      <td>.</td>\n",
       "      <td>.</td>\n",
       "      <td>.</td>\n",
       "      <td>.</td>\n",
       "      <td>.</td>\n",
       "      <td>.</td>\n",
       "      <td>NaN</td>\n",
       "      <td>NaN</td>\n",
       "      <td>NaN</td>\n",
       "      <td>NaN</td>\n",
       "      <td>NaN</td>\n",
       "      <td>NaN</td>\n",
       "    </tr>\n",
       "    <tr>\n",
       "      <th>1</th>\n",
       "      <td>03.03.2020</td>\n",
       "      <td>321</td>\n",
       "      <td>304</td>\n",
       "      <td>337</td>\n",
       "      <td>261</td>\n",
       "      <td>248</td>\n",
       "      <td>276</td>\n",
       "      <td>.</td>\n",
       "      <td>.</td>\n",
       "      <td>.</td>\n",
       "      <td>.</td>\n",
       "      <td>.</td>\n",
       "      <td>.</td>\n",
       "      <td>NaN</td>\n",
       "      <td>NaN</td>\n",
       "      <td>NaN</td>\n",
       "      <td>NaN</td>\n",
       "      <td>NaN</td>\n",
       "      <td>NaN</td>\n",
       "    </tr>\n",
       "    <tr>\n",
       "      <th>2</th>\n",
       "      <td>04.03.2020</td>\n",
       "      <td>448</td>\n",
       "      <td>430</td>\n",
       "      <td>467</td>\n",
       "      <td>326</td>\n",
       "      <td>311</td>\n",
       "      <td>342</td>\n",
       "      <td>.</td>\n",
       "      <td>.</td>\n",
       "      <td>.</td>\n",
       "      <td>.</td>\n",
       "      <td>.</td>\n",
       "      <td>.</td>\n",
       "      <td>NaN</td>\n",
       "      <td>NaN</td>\n",
       "      <td>NaN</td>\n",
       "      <td>NaN</td>\n",
       "      <td>NaN</td>\n",
       "      <td>NaN</td>\n",
       "    </tr>\n",
       "    <tr>\n",
       "      <th>3</th>\n",
       "      <td>05.03.2020</td>\n",
       "      <td>503</td>\n",
       "      <td>485</td>\n",
       "      <td>525</td>\n",
       "      <td>394</td>\n",
       "      <td>378</td>\n",
       "      <td>412</td>\n",
       "      <td>.</td>\n",
       "      <td>.</td>\n",
       "      <td>.</td>\n",
       "      <td>.</td>\n",
       "      <td>.</td>\n",
       "      <td>.</td>\n",
       "      <td>NaN</td>\n",
       "      <td>NaN</td>\n",
       "      <td>NaN</td>\n",
       "      <td>NaN</td>\n",
       "      <td>NaN</td>\n",
       "      <td>NaN</td>\n",
       "    </tr>\n",
       "    <tr>\n",
       "      <th>4</th>\n",
       "      <td>06.03.2020</td>\n",
       "      <td>757</td>\n",
       "      <td>732</td>\n",
       "      <td>783</td>\n",
       "      <td>507</td>\n",
       "      <td>488</td>\n",
       "      <td>528</td>\n",
       "      <td>2</td>\n",
       "      <td>25</td>\n",
       "      <td>2</td>\n",
       "      <td>18</td>\n",
       "      <td>2</td>\n",
       "      <td>33</td>\n",
       "      <td>2</td>\n",
       "      <td>34</td>\n",
       "      <td>2</td>\n",
       "      <td>28.0</td>\n",
       "      <td>2.0</td>\n",
       "      <td>39.0</td>\n",
       "    </tr>\n",
       "    <tr>\n",
       "      <th>...</th>\n",
       "      <td>...</td>\n",
       "      <td>...</td>\n",
       "      <td>...</td>\n",
       "      <td>...</td>\n",
       "      <td>...</td>\n",
       "      <td>...</td>\n",
       "      <td>...</td>\n",
       "      <td>...</td>\n",
       "      <td>...</td>\n",
       "      <td>...</td>\n",
       "      <td>...</td>\n",
       "      <td>...</td>\n",
       "      <td>...</td>\n",
       "      <td>...</td>\n",
       "      <td>...</td>\n",
       "      <td>...</td>\n",
       "      <td>...</td>\n",
       "      <td>...</td>\n",
       "      <td>...</td>\n",
       "    </tr>\n",
       "    <tr>\n",
       "      <th>308</th>\n",
       "      <td>04.01.2021</td>\n",
       "      <td>24123</td>\n",
       "      <td>19727</td>\n",
       "      <td>28137</td>\n",
       "      <td>19021</td>\n",
       "      <td>16318</td>\n",
       "      <td>21683</td>\n",
       "      <td>1</td>\n",
       "      <td>5</td>\n",
       "      <td>0</td>\n",
       "      <td>95</td>\n",
       "      <td>1</td>\n",
       "      <td>14</td>\n",
       "      <td>1</td>\n",
       "      <td>6</td>\n",
       "      <td>0</td>\n",
       "      <td>99.0</td>\n",
       "      <td>1.0</td>\n",
       "      <td>12.0</td>\n",
       "    </tr>\n",
       "    <tr>\n",
       "      <th>309</th>\n",
       "      <td>05.01.2021</td>\n",
       "      <td>22105</td>\n",
       "      <td>17001</td>\n",
       "      <td>26403</td>\n",
       "      <td>20726</td>\n",
       "      <td>17105</td>\n",
       "      <td>24057</td>\n",
       "      <td>1</td>\n",
       "      <td>26</td>\n",
       "      <td>1</td>\n",
       "      <td>14</td>\n",
       "      <td>1</td>\n",
       "      <td>40</td>\n",
       "      <td>1</td>\n",
       "      <td>8</td>\n",
       "      <td>1</td>\n",
       "      <td>0.0</td>\n",
       "      <td>1.0</td>\n",
       "      <td>16.0</td>\n",
       "    </tr>\n",
       "    <tr>\n",
       "      <th>310</th>\n",
       "      <td>06.01.2021</td>\n",
       "      <td>19689</td>\n",
       "      <td>12753</td>\n",
       "      <td>24387</td>\n",
       "      <td>21348</td>\n",
       "      <td>16557</td>\n",
       "      <td>25259</td>\n",
       "      <td>1</td>\n",
       "      <td>33</td>\n",
       "      <td>1</td>\n",
       "      <td>17</td>\n",
       "      <td>1</td>\n",
       "      <td>51</td>\n",
       "      <td>1</td>\n",
       "      <td>9</td>\n",
       "      <td>1</td>\n",
       "      <td>0.0</td>\n",
       "      <td>1.0</td>\n",
       "      <td>17.0</td>\n",
       "    </tr>\n",
       "    <tr>\n",
       "      <th>311</th>\n",
       "      <td>07.01.2021</td>\n",
       "      <td>17821</td>\n",
       "      <td>12670</td>\n",
       "      <td>24705</td>\n",
       "      <td>20934</td>\n",
       "      <td>15538</td>\n",
       "      <td>25908</td>\n",
       "      <td>1</td>\n",
       "      <td>25</td>\n",
       "      <td>1</td>\n",
       "      <td>6</td>\n",
       "      <td>1</td>\n",
       "      <td>42</td>\n",
       "      <td>1</td>\n",
       "      <td>7</td>\n",
       "      <td>0</td>\n",
       "      <td>98.0</td>\n",
       "      <td>1.0</td>\n",
       "      <td>16.0</td>\n",
       "    </tr>\n",
       "    <tr>\n",
       "      <th>312</th>\n",
       "      <td>08.01.2021</td>\n",
       "      <td>15223</td>\n",
       "      <td>9086</td>\n",
       "      <td>21170</td>\n",
       "      <td>18710</td>\n",
       "      <td>12878</td>\n",
       "      <td>24166</td>\n",
       "      <td>0</td>\n",
       "      <td>99</td>\n",
       "      <td>0</td>\n",
       "      <td>83</td>\n",
       "      <td>1</td>\n",
       "      <td>15</td>\n",
       "      <td>.</td>\n",
       "      <td>.</td>\n",
       "      <td>.</td>\n",
       "      <td>NaN</td>\n",
       "      <td>NaN</td>\n",
       "      <td>NaN</td>\n",
       "    </tr>\n",
       "  </tbody>\n",
       "</table>\n",
       "<p>313 rows × 19 columns</p>\n",
       "</div>"
      ],
      "text/plain": [
       "          Datum  Schätzer_Neuerkrankungen  UG_PI_Neuerkrankungen  \\\n",
       "0    02.03.2020                       304                    292   \n",
       "1    03.03.2020                       321                    304   \n",
       "2    04.03.2020                       448                    430   \n",
       "3    05.03.2020                       503                    485   \n",
       "4    06.03.2020                       757                    732   \n",
       "..          ...                       ...                    ...   \n",
       "308  04.01.2021                     24123                  19727   \n",
       "309  05.01.2021                     22105                  17001   \n",
       "310  06.01.2021                     19689                  12753   \n",
       "311  07.01.2021                     17821                  12670   \n",
       "312  08.01.2021                     15223                   9086   \n",
       "\n",
       "     OG_PI_Neuerkrankungen  Schätzer_Neuerkrankungen_ma4  \\\n",
       "0                      319                           225   \n",
       "1                      337                           261   \n",
       "2                      467                           326   \n",
       "3                      525                           394   \n",
       "4                      783                           507   \n",
       "..                     ...                           ...   \n",
       "308                  28137                         19021   \n",
       "309                  26403                         20726   \n",
       "310                  24387                         21348   \n",
       "311                  24705                         20934   \n",
       "312                  21170                         18710   \n",
       "\n",
       "     UG_PI_Neuerkrankungen_ma4  OG_PI_Neuerkrankungen_ma4  \\\n",
       "0                          213                        238   \n",
       "1                          248                        276   \n",
       "2                          311                        342   \n",
       "3                          378                        412   \n",
       "4                          488                        528   \n",
       "..                         ...                        ...   \n",
       "308                      16318                      21683   \n",
       "309                      17105                      24057   \n",
       "310                      16557                      25259   \n",
       "311                      15538                      25908   \n",
       "312                      12878                      24166   \n",
       "\n",
       "    Schätzer_Reproduktionszahl_R UG_PI_Reproduktionszahl_R  \\\n",
       "0                              .                         .   \n",
       "1                              .                         .   \n",
       "2                              .                         .   \n",
       "3                              .                         .   \n",
       "4                              2                        25   \n",
       "..                           ...                       ...   \n",
       "308                            1                         5   \n",
       "309                            1                        26   \n",
       "310                            1                        33   \n",
       "311                            1                        25   \n",
       "312                            0                        99   \n",
       "\n",
       "    OG_PI_Reproduktionszahl_R Schätzer_7_Tage_R_Wert UG_PI_7_Tage_R_Wert  \\\n",
       "0                           .                      .                   .   \n",
       "1                           .                      .                   .   \n",
       "2                           .                      .                   .   \n",
       "3                           .                      .                   .   \n",
       "4                           2                     18                   2   \n",
       "..                        ...                    ...                 ...   \n",
       "308                         0                     95                   1   \n",
       "309                         1                     14                   1   \n",
       "310                         1                     17                   1   \n",
       "311                         1                      6                   1   \n",
       "312                         0                     83                   1   \n",
       "\n",
       "    OG_PI_7_Tage_R_Wert Unnamed: 13 Unnamed: 14 Unnamed: 15  Unnamed: 16  \\\n",
       "0                     .         NaN         NaN         NaN          NaN   \n",
       "1                     .         NaN         NaN         NaN          NaN   \n",
       "2                     .         NaN         NaN         NaN          NaN   \n",
       "3                     .         NaN         NaN         NaN          NaN   \n",
       "4                    33           2          34           2         28.0   \n",
       "..                  ...         ...         ...         ...          ...   \n",
       "308                  14           1           6           0         99.0   \n",
       "309                  40           1           8           1          0.0   \n",
       "310                  51           1           9           1          0.0   \n",
       "311                  42           1           7           0         98.0   \n",
       "312                  15           .           .           .          NaN   \n",
       "\n",
       "     Unnamed: 17  Unnamed: 18  \n",
       "0            NaN          NaN  \n",
       "1            NaN          NaN  \n",
       "2            NaN          NaN  \n",
       "3            NaN          NaN  \n",
       "4            2.0         39.0  \n",
       "..           ...          ...  \n",
       "308          1.0         12.0  \n",
       "309          1.0         16.0  \n",
       "310          1.0         17.0  \n",
       "311          1.0         16.0  \n",
       "312          NaN          NaN  \n",
       "\n",
       "[313 rows x 19 columns]"
      ]
     },
     "execution_count": 19,
     "metadata": {},
     "output_type": "execute_result"
    }
   ],
   "source": [
    "c19 = pd.read_csv(\"testdatensatz.csv\", \n",
    "                 sep=\";\")\n",
    "c19"
   ]
  },
  {
   "cell_type": "markdown",
   "metadata": {},
   "source": [
    "Um auf eine Spalte der Tabelle zugreifen zu können, wird neben dem Namen der Tabelle (hier: $c19$) eine eckige Klammer gesetzt, mit dem Spaltennamen, den man aufrufen möchte, in ' '-Zeichen gesetzt. Über diesen Befehl wird die Spalte nun als Liste aufgefasst, sodass wir einen Plot erstellen können. Wir interessieren uns nun ausschließlich für die Anzahl der Neuerkrankungen. Da wir den Rest der Tabelle also nicht benötigen, können wir die Tabelle etwas übersichtlicher gestallten, indem wir die für uns irrelevanten Spalten löschen. Das geschieht über die $pop$ Funktion. Durch eine Schleife können wir mehrere Spalten auf einmal löschen.\n",
    "\n",
    "*Beachte, dass die Spaltennamen aus der Importierten Rohdatei stammen."
   ]
  },
  {
   "cell_type": "code",
   "execution_count": 20,
   "metadata": {},
   "outputs": [],
   "source": [
    "for i in range (17):          #Löschung von insgesamt 17 Spalten \n",
    "    c19.pop(c19.columns[2])   #Löschung der Spalte 2 für jeden Schleifendurchlauf. Beachte die Indizierung"
   ]
  },
  {
   "cell_type": "code",
   "execution_count": 21,
   "metadata": {},
   "outputs": [
    {
     "data": {
      "text/html": [
       "<div>\n",
       "<style scoped>\n",
       "    .dataframe tbody tr th:only-of-type {\n",
       "        vertical-align: middle;\n",
       "    }\n",
       "\n",
       "    .dataframe tbody tr th {\n",
       "        vertical-align: top;\n",
       "    }\n",
       "\n",
       "    .dataframe thead th {\n",
       "        text-align: right;\n",
       "    }\n",
       "</style>\n",
       "<table border=\"1\" class=\"dataframe\">\n",
       "  <thead>\n",
       "    <tr style=\"text-align: right;\">\n",
       "      <th></th>\n",
       "      <th>Datum</th>\n",
       "      <th>Schätzer_Neuerkrankungen</th>\n",
       "    </tr>\n",
       "  </thead>\n",
       "  <tbody>\n",
       "    <tr>\n",
       "      <th>0</th>\n",
       "      <td>02.03.2020</td>\n",
       "      <td>304</td>\n",
       "    </tr>\n",
       "    <tr>\n",
       "      <th>1</th>\n",
       "      <td>03.03.2020</td>\n",
       "      <td>321</td>\n",
       "    </tr>\n",
       "    <tr>\n",
       "      <th>2</th>\n",
       "      <td>04.03.2020</td>\n",
       "      <td>448</td>\n",
       "    </tr>\n",
       "    <tr>\n",
       "      <th>3</th>\n",
       "      <td>05.03.2020</td>\n",
       "      <td>503</td>\n",
       "    </tr>\n",
       "    <tr>\n",
       "      <th>4</th>\n",
       "      <td>06.03.2020</td>\n",
       "      <td>757</td>\n",
       "    </tr>\n",
       "    <tr>\n",
       "      <th>...</th>\n",
       "      <td>...</td>\n",
       "      <td>...</td>\n",
       "    </tr>\n",
       "    <tr>\n",
       "      <th>308</th>\n",
       "      <td>04.01.2021</td>\n",
       "      <td>24123</td>\n",
       "    </tr>\n",
       "    <tr>\n",
       "      <th>309</th>\n",
       "      <td>05.01.2021</td>\n",
       "      <td>22105</td>\n",
       "    </tr>\n",
       "    <tr>\n",
       "      <th>310</th>\n",
       "      <td>06.01.2021</td>\n",
       "      <td>19689</td>\n",
       "    </tr>\n",
       "    <tr>\n",
       "      <th>311</th>\n",
       "      <td>07.01.2021</td>\n",
       "      <td>17821</td>\n",
       "    </tr>\n",
       "    <tr>\n",
       "      <th>312</th>\n",
       "      <td>08.01.2021</td>\n",
       "      <td>15223</td>\n",
       "    </tr>\n",
       "  </tbody>\n",
       "</table>\n",
       "<p>313 rows × 2 columns</p>\n",
       "</div>"
      ],
      "text/plain": [
       "          Datum  Schätzer_Neuerkrankungen\n",
       "0    02.03.2020                       304\n",
       "1    03.03.2020                       321\n",
       "2    04.03.2020                       448\n",
       "3    05.03.2020                       503\n",
       "4    06.03.2020                       757\n",
       "..          ...                       ...\n",
       "308  04.01.2021                     24123\n",
       "309  05.01.2021                     22105\n",
       "310  06.01.2021                     19689\n",
       "311  07.01.2021                     17821\n",
       "312  08.01.2021                     15223\n",
       "\n",
       "[313 rows x 2 columns]"
      ]
     },
     "execution_count": 21,
     "metadata": {},
     "output_type": "execute_result"
    }
   ],
   "source": [
    "c19"
   ]
  },
  {
   "cell_type": "markdown",
   "metadata": {},
   "source": [
    "Wir können aber auch den anderen Weg gehen und Spalten hinzufügen. Das lässt sich umsetzen, indem man der neuen Spalte einen Namen gibt und ihr eine Liste zuordnet:"
   ]
  },
  {
   "cell_type": "code",
   "execution_count": 22,
   "metadata": {},
   "outputs": [],
   "source": [
    "new_column=np.arange(1,314)\n",
    "c19[\"Tage_seit_Beginn\"]=new_column"
   ]
  },
  {
   "cell_type": "code",
   "execution_count": 23,
   "metadata": {},
   "outputs": [
    {
     "data": {
      "text/html": [
       "<div>\n",
       "<style scoped>\n",
       "    .dataframe tbody tr th:only-of-type {\n",
       "        vertical-align: middle;\n",
       "    }\n",
       "\n",
       "    .dataframe tbody tr th {\n",
       "        vertical-align: top;\n",
       "    }\n",
       "\n",
       "    .dataframe thead th {\n",
       "        text-align: right;\n",
       "    }\n",
       "</style>\n",
       "<table border=\"1\" class=\"dataframe\">\n",
       "  <thead>\n",
       "    <tr style=\"text-align: right;\">\n",
       "      <th></th>\n",
       "      <th>Datum</th>\n",
       "      <th>Schätzer_Neuerkrankungen</th>\n",
       "      <th>Tage_seit_Beginn</th>\n",
       "    </tr>\n",
       "  </thead>\n",
       "  <tbody>\n",
       "    <tr>\n",
       "      <th>0</th>\n",
       "      <td>02.03.2020</td>\n",
       "      <td>304</td>\n",
       "      <td>1</td>\n",
       "    </tr>\n",
       "    <tr>\n",
       "      <th>1</th>\n",
       "      <td>03.03.2020</td>\n",
       "      <td>321</td>\n",
       "      <td>2</td>\n",
       "    </tr>\n",
       "    <tr>\n",
       "      <th>2</th>\n",
       "      <td>04.03.2020</td>\n",
       "      <td>448</td>\n",
       "      <td>3</td>\n",
       "    </tr>\n",
       "    <tr>\n",
       "      <th>3</th>\n",
       "      <td>05.03.2020</td>\n",
       "      <td>503</td>\n",
       "      <td>4</td>\n",
       "    </tr>\n",
       "    <tr>\n",
       "      <th>4</th>\n",
       "      <td>06.03.2020</td>\n",
       "      <td>757</td>\n",
       "      <td>5</td>\n",
       "    </tr>\n",
       "    <tr>\n",
       "      <th>...</th>\n",
       "      <td>...</td>\n",
       "      <td>...</td>\n",
       "      <td>...</td>\n",
       "    </tr>\n",
       "    <tr>\n",
       "      <th>308</th>\n",
       "      <td>04.01.2021</td>\n",
       "      <td>24123</td>\n",
       "      <td>309</td>\n",
       "    </tr>\n",
       "    <tr>\n",
       "      <th>309</th>\n",
       "      <td>05.01.2021</td>\n",
       "      <td>22105</td>\n",
       "      <td>310</td>\n",
       "    </tr>\n",
       "    <tr>\n",
       "      <th>310</th>\n",
       "      <td>06.01.2021</td>\n",
       "      <td>19689</td>\n",
       "      <td>311</td>\n",
       "    </tr>\n",
       "    <tr>\n",
       "      <th>311</th>\n",
       "      <td>07.01.2021</td>\n",
       "      <td>17821</td>\n",
       "      <td>312</td>\n",
       "    </tr>\n",
       "    <tr>\n",
       "      <th>312</th>\n",
       "      <td>08.01.2021</td>\n",
       "      <td>15223</td>\n",
       "      <td>313</td>\n",
       "    </tr>\n",
       "  </tbody>\n",
       "</table>\n",
       "<p>313 rows × 3 columns</p>\n",
       "</div>"
      ],
      "text/plain": [
       "          Datum  Schätzer_Neuerkrankungen  Tage_seit_Beginn\n",
       "0    02.03.2020                       304                 1\n",
       "1    03.03.2020                       321                 2\n",
       "2    04.03.2020                       448                 3\n",
       "3    05.03.2020                       503                 4\n",
       "4    06.03.2020                       757                 5\n",
       "..          ...                       ...               ...\n",
       "308  04.01.2021                     24123               309\n",
       "309  05.01.2021                     22105               310\n",
       "310  06.01.2021                     19689               311\n",
       "311  07.01.2021                     17821               312\n",
       "312  08.01.2021                     15223               313\n",
       "\n",
       "[313 rows x 3 columns]"
      ]
     },
     "execution_count": 23,
     "metadata": {},
     "output_type": "execute_result"
    }
   ],
   "source": [
    "c19"
   ]
  },
  {
   "cell_type": "markdown",
   "metadata": {},
   "source": [
    "Jetzt können wir uns den Verlauf der Neuerkrankungen anschauen. Hierfür erstellen wir ein Streudiagramm:"
   ]
  },
  {
   "cell_type": "code",
   "execution_count": 24,
   "metadata": {},
   "outputs": [
    {
     "data": {
      "image/png": "[encoded data removed]",
      "text/plain": [
       "<Figure size 432x288 with 1 Axes>"
      ]
     },
     "metadata": {
      "needs_background": "light"
     },
     "output_type": "display_data"
    }
   ],
   "source": [
    "plt.scatter(c19['Tage_seit_Beginn'],c19['Schätzer_Neuerkrankungen'])\n",
    "plt.show()"
   ]
  },
  {
   "cell_type": "markdown",
   "metadata": {},
   "source": [
    "# Fitten"
   ]
  },
  {
   "cell_type": "markdown",
   "metadata": {},
   "source": [
    "Für die Auswertung von Daten ist es essentiell, einen sogenannten Fit durchzuführen. Hierbei wird die Kurve einer passenden Funktion über einen Datensatz gelegt, sodass sich diese Kurve den Datenpunkten anschmiegt (Näheres zum Fitten finden Sie im Skript zu Versuch 1). In Python gibt es mit curve_fit (aus der $scipy.optimize$-Bibliothek) eine Fitroutine, die innerhalb einer kurzen Laufzeit eine präzise Lösung liefert. "
   ]
  },
  {
   "cell_type": "code",
   "execution_count": 4,
   "metadata": {},
   "outputs": [],
   "source": [
    "from scipy.optimize import curve_fit"
   ]
  },
  {
   "cell_type": "markdown",
   "metadata": {},
   "source": [
    "Hierfür muss zunächst eine mathematische Funktion definiert werden, die von ein oder mehreren Parametern abhängt. Für eine quadratische Funktion $f(x)=ax^2+bx+c$ wären das also a, b und c. Liegt der Datensatz vor (x- und dazugehörige y-Werte), kann die Routine durchgeführt werden:"
   ]
  },
  {
   "cell_type": "code",
   "execution_count": 11,
   "metadata": {},
   "outputs": [
    {
     "data": {
      "image/png": "[encoded data removed]",
      "text/plain": [
       "<Figure size 432x288 with 1 Axes>"
      ]
     },
     "metadata": {
      "needs_background": "light"
     },
     "output_type": "display_data"
    }
   ],
   "source": [
    "def quad(x,a,b,c):\n",
    "    return (a*x**2+b*x+c)\n",
    "\n",
    "x=np.array([-3,-2,-1,0,1,2,3])\n",
    "y=np.array([8.8,4.3,1.1,0.1,0.7,4.2,9.3])\n",
    "z=np.linspace(-3,3,10000)\n",
    "\n",
    "popt,pcov = curve_fit(quad, x, y, p0=[1,1,0])\n",
    "\n",
    "plt.plot(x, y, 'b+:', label='Datensatz')\n",
    "plt.plot(z, quad(z,*popt), 'r-', label='Fit')\n",
    "plt.legend()\n",
    "plt.title('Fit einer quadratischen Funktion')\n",
    "plt.xlabel('x')\n",
    "plt.ylabel('f(x)')\n",
    "plt.show()"
   ]
  },
  {
   "cell_type": "markdown",
   "metadata": {},
   "source": [
    "$curve$_$fit$ liest neben der Funktion (die hier ohne Variablen übergeben wird!) und den Datensatz (x und y) noch einen optionalen Input p0, der aus den Initialwerten der Parameter besteht. D.h. innerhalb von curve_fit werden mehrere Parametersätze ausprobiert und sich so an das Optimum herantastet, wobei mit dem Parametersatz p0 gestartet wird. Dabei sind die Initialwerte \"schlau\" zu wählen, da die Funktion für zu schlechte Werte nicht konvergiert (=Fehlermeldung). Für einfache Funktionen funktioniert die Routine meist ohne Initialwerte, für komplexere Funktionen ist das Auftreten einer Fehlermeldung wahrscheinlicher.\n",
    "\n",
    "$curve$_$fit$ gibt zwei Werte zurück: Die optimierten Parameter (popt) und die Kovarianz der Parameter (pcov). Für das bloße Fitten ist die Kovarianz meist nicht von Bedeutung, die optimierten Parameter werden jedoch benötigt um den Plot zu erzeugen (durch *popt werden die vorhergehenden popt werden übergeben).\n",
    "\n",
    "Die Liste z im Code wurde erzeugt, damit der Fit als \"glatte\" Kurve geplotet wird. Man könnte den Plot auch mit der x-Liste erzeugen, dadurch würde der Plot aber \"kantiger\" wirken."
   ]
  },
  {
   "cell_type": "markdown",
   "metadata": {},
   "source": [
    "# Graphik exportieren"
   ]
  },
  {
   "cell_type": "raw",
   "metadata": {},
   "source": [
    "Nachdem ein Plot erstellt wurde, kann dieser nun auch exportiert werden, um bspw. in einem LaTeX-File eingebunden zu werden. Hierfür verwendet man $plt.savefig()$ und anschließend $plt.close()$. Dabei wird kein Plot ausgegeben, sondern lediglich gespeichert."
   ]
  },
  {
   "cell_type": "code",
   "execution_count": 12,
   "metadata": {},
   "outputs": [],
   "source": [
    "plt.plot(x, y, 'b+:', label='Datensatz')\n",
    "plt.plot(z, quad(z,*popt), 'r-', label='Fit')\n",
    "plt.legend()\n",
    "plt.title('Fit einer quadratischen Funktion')\n",
    "plt.xlabel('x')\n",
    "plt.ylabel('f(x)')\n",
    "#Bis hierhin noch der alte Code aus dem \"Fitten\" Abschnitt\n",
    "\n",
    "plt.savefig(\"das_ist_ein_test.pdf\")\n",
    "plt.close()"
   ]
  },
  {
   "cell_type": "markdown",
   "metadata": {},
   "source": [
    "Hierbei wird ein PDF-File mit dem Namen \"das_ist_ein_test\" in dem Ordner erzeugt, in dem sich das Notebook befindet."
   ]
  },
  {
   "cell_type": "markdown",
   "metadata": {},
   "source": [
    "# Aufgaben"
   ]
  },
  {
   "cell_type": "markdown",
   "metadata": {},
   "source": [
    "Aufgabe 1\n",
    "\n",
    "a) Erstellen Sie fünf (pseudo)zufällig generierte Zahlen zwischen 2.70 und 2.76 und speichern Sie diese in den Variablen t1, t2, t3, t4 und t5.\n",
    "\n",
    "Benutzen Sie dafür $uniform(a,b)$ aus der random-Bibliothek."
   ]
  },
  {
   "cell_type": "code",
   "execution_count": null,
   "metadata": {},
   "outputs": [],
   "source": [
    "from random import uniform"
   ]
  },
  {
   "cell_type": "code",
   "execution_count": null,
   "metadata": {},
   "outputs": [],
   "source": [
    "t1=?\n",
    "t2=?\n",
    "t3=?\n",
    "t4=?\n",
    "t5=?"
   ]
  },
  {
   "cell_type": "markdown",
   "metadata": {},
   "source": [
    "b) Fassen Sie die fünf Zufallszahlen als Messdauer (in Sekunden) für den freien Fall eines Objektes vom Dach des mehrstöckigen Praktikumsgebäudes (Alte Chemie) auf. Schreiben Sie eine Funktion $t$_$mean$, die das arithmetische Mittel aus fünf Zahlen bildet und berechnen Sie die Höhe des Gebäudes.\n",
    "\n",
    "*Vernachläsigen Sie Reibungseffekte und verwenden Sie $g=9,81 \\frac{m}{s^2}$ "
   ]
  },
  {
   "cell_type": "code",
   "execution_count": null,
   "metadata": {},
   "outputs": [],
   "source": [
    "def t_mean(?):\n",
    "    return (?) #in s\n",
    "s=?\n",
    "print(s) \n",
    "\n",
    "#Vergleichswert: die Alte Chemie ist 36,58m hoch. Quelle: www.emporis.de"
   ]
  },
  {
   "cell_type": "markdown",
   "metadata": {},
   "source": [
    "c) Berechnen Sie die Aufprallgeschwindigkeit des Objekts. Benutzen Sie dafür die $sqrt$ Funktion aus der math-Bibliothek.\n",
    "\n",
    "*Formel: $v=\\sqrt{2*g*s}$"
   ]
  },
  {
   "cell_type": "code",
   "execution_count": null,
   "metadata": {},
   "outputs": [],
   "source": [
    "?"
   ]
  },
  {
   "cell_type": "markdown",
   "metadata": {},
   "source": [
    "Aufgabe 2\n",
    "\n",
    "Programmieren Sie nun einen Taschenrechner, der zwei Zahlen und eine Rechenoperation (+, -, *, /) einliest. Überlassen Sie dem Benutzer ein Eingabefenster."
   ]
  },
  {
   "cell_type": "code",
   "execution_count": null,
   "metadata": {},
   "outputs": [],
   "source": [
    "a=?\n",
    "b=?\n",
    "c=?\n",
    "\n",
    "if ?\n",
    "\n",
    "?"
   ]
  },
  {
   "cell_type": "markdown",
   "metadata": {},
   "source": [
    "Aufgabe 3\n",
    "\n",
    "Implementieren Sie die Fakultätsfunktion,\n",
    "\n",
    "a) indem eine Zahl n innerhalb der Funktion $fac$ vom Benutzer eingelesen wird und n! berechnet werden soll.\n",
    "\n",
    "b) indem eine Liste aus n aufeinanderfolgende Zahlen (beginnend bei 0) übergeben werden soll. Die Funktion $fac$_$list$ soll eine Liste der ersten n Fakultätszahlen zurückgeben (also [1,1,2,6,...]).\n",
    "\n",
    "*Tipp zu a): man kann Variablen mit sich selbst verrechnen und ihr einen neuen Wert zuweisen. \n",
    " Bsp.: a=3\n",
    "       a=a+7\n",
    " print(a) liefert 10\n",
    " \n",
    " *Tipp zu b): man kann eine Liste anlegen, die man in jedem Schleifenschritt um ein Listenelement ergänzt ($append$)."
   ]
  },
  {
   "cell_type": "code",
   "execution_count": null,
   "metadata": {},
   "outputs": [],
   "source": [
    "def fac(?):\n",
    "    ?\n",
    "    for ?\n",
    "    ?\n",
    "\n",
    "def fac_list(?):\n",
    "    ?\n",
    "    for ?\n",
    "    ?"
   ]
  },
  {
   "cell_type": "markdown",
   "metadata": {},
   "source": [
    "c) Vergleiche $4^x$ mit der Fakultätsfunktion. Gib die beiden Funktionen graphisch aus. Wähle dafür die x Werte von 0 bis 10 \n",
    "\n",
    "*Die Funktion $plot$ von pyplot kann beliebig viele x- und y-Werten verarbeiten ($plot(x1,y1,color,x2,y2,color,...)$). Hinter einem y-Wert kann ein Farbschema eingegeben werden, um die Funktionen zu unterscheiden (bspw. 'r--' für rote Striche oder 'b0' für eine blaue Punkte)"
   ]
  },
  {
   "cell_type": "code",
   "execution_count": null,
   "metadata": {},
   "outputs": [],
   "source": [
    "?"
   ]
  },
  {
   "cell_type": "markdown",
   "metadata": {},
   "source": [
    "Aufgabe 4\n",
    "\n",
    "Erstellen Sie eine Funktion $gcd$ (greatest common divisor, deutsch: größter gemeinsamer Teiler), der zwei Zahlen m und n übergeben werden und den größten gemeinsamen Teiler dieser Zahlen berechnet.\n",
    "\n",
    "Benutze hierfür den Euklidischen Algorithmus. Dieser berechnet den ggt von zwei Zahlen m und n, indem im ersten Schritt m als Vielfaches k von n zuzüglich eines Restes q dargestellt wird, also:\n",
    "$m=k*n+q$.\n",
    "Im nächsten Schritt, wird n als Vielfaches von q ausgedrückt (zuzüglich Rest). Der Algorithmus stoppt, sobald eine Zahl ohne Rest dargestellt werden kann, also wenn:\n",
    "$m=k*n$ gilt.\n",
    "In diesem Fall wäre k der ggt.\n",
    "\n",
    "Für eine Beispielrechnung, besuche z.B. https://www.arndt-bruenner.de/mathe/scripts/erweitertereuklid.htm.\n",
    "\n",
    "*Beachten Sie die Fälle m<n, m>n, m==n."
   ]
  },
  {
   "cell_type": "code",
   "execution_count": null,
   "metadata": {},
   "outputs": [],
   "source": [
    "def gcd(?):\n",
    "    if ?\n",
    "    ?\n",
    "    while ?\n",
    "    ?"
   ]
  },
  {
   "cell_type": "markdown",
   "metadata": {},
   "source": [
    "Aufgabe 5\n",
    "\n",
    "Implementieren wir nun eine Golfsimulation.\n",
    "\n",
    "Max Musterphysiker möchte wissen, wie wahrscheinlich es ist, dass er beim ersten Schlag das Loch trifft (relative Häufigkeit). Für die Implementierung gehen wir davon aus, dass Max 10m vom ebenerdigen Loch, mit einem Durchmesser von 10cm, entfernt steht. Der Winkel $\\alpha$ besitzt eine Ungenauigkeit von 10% um den Wert $\\frac{\\pi}{4}$, die Anfangsgeschwindigkeit eine Ungenauigkeit von 5% um den Wert $10 \\frac{m}{s}$. Zudem sei der Ball Punktförmig und es treten keine Reibungseffekte auf.\n",
    "\n",
    "*Die Gleichung für die Reichweite ergibt sich aus $R=\\frac{v^2}{g}*sin(2\\alpha)$"
   ]
  },
  {
   "cell_type": "markdown",
   "metadata": {},
   "source": [
    "a) Erstellen Sie eine Liste aus $n$ Zufallsgenerierten Zahlen, die mit einer Ungenauigkeit $inacc$ um den Wert $val$ streuen.\n",
    "\n",
    "*Tipp: Lege ein leeres Array an und füge in jedem Schleifenschritt ein weiteres Element hinzu. Die Funktion $append$ aus der numpy-Bibliothek (Syntax: $numpy.append(Liste, Liste)$) könnte hilfreich sein."
   ]
  },
  {
   "cell_type": "code",
   "execution_count": null,
   "metadata": {},
   "outputs": [],
   "source": [
    "def rand(?)\n",
    "?"
   ]
  },
  {
   "cell_type": "markdown",
   "metadata": {},
   "source": [
    "b) Implementieren Sie mithilfe der in a) generierten Zahlen eine Funktion für die Reichweite R."
   ]
  },
  {
   "cell_type": "code",
   "execution_count": null,
   "metadata": {},
   "outputs": [],
   "source": [
    "def R(?)\n",
    "?"
   ]
  },
  {
   "cell_type": "markdown",
   "metadata": {},
   "source": [
    "c) Implementieren Sie eine Entscheidungsfunktion, die bestimmt, ob der Ball im Loch ist oder nicht."
   ]
  },
  {
   "cell_type": "code",
   "execution_count": null,
   "metadata": {},
   "outputs": [],
   "source": [
    "def hole(?)\n",
    "?"
   ]
  },
  {
   "cell_type": "markdown",
   "metadata": {},
   "source": [
    "d) Bestimmen Sie die Trefferquote (relative Häufigkeit)"
   ]
  },
  {
   "cell_type": "code",
   "execution_count": null,
   "metadata": {},
   "outputs": [],
   "source": [
    "?"
   ]
  },
  {
   "cell_type": "markdown",
   "metadata": {},
   "source": [
    "Aufgabe 6\n",
    "\n",
    "a) Implementieren Sie eine Funktion $arctan$, die den Wert des Arkustangens approximiert. Als Funktionswert sollen $n$ (Anzahl der Iterationsschritte) und $x$ (Argument des Arkustanges) übergeben werden. Die Reihendarstellung sieht wie folgt aus:\n",
    "\n",
    "$arctan(x)=\\sum\\nolimits_{k=0}^\\infty {(-1)}^k{\\frac{1}{2k+1}x^{2k+1}}$"
   ]
  },
  {
   "cell_type": "code",
   "execution_count": null,
   "metadata": {},
   "outputs": [],
   "source": [
    "def arctan(?)\n",
    "?"
   ]
  },
  {
   "cell_type": "markdown",
   "metadata": {},
   "source": [
    "b) Für x=1 wird die Reihe auch Leibniz-Reihe genannt. Welcher Wert ist für x=1 zu erwarten? Führen $arctan(100,1)$ aus und vergleichen Sie die Werte."
   ]
  },
  {
   "cell_type": "code",
   "execution_count": null,
   "metadata": {},
   "outputs": [],
   "source": [
    "?"
   ]
  },
  {
   "cell_type": "markdown",
   "metadata": {},
   "source": [
    "c) Geben Sie die Werte der Leibniz-Reihe für die ersten 50 Iterationsschritte graphisch aus. Markieren Sie mithilfe einer roten gestrichelten Linie den konstanten Wert, den sich die Reihe annähert. Benutze für die Darstellung der Funktionswerte '$bd$' (d: diamonds)\n",
    "\n",
    "*Tipp: Schreiben Sie die Funktion so um, dass sie Listen bzw. Arrays einliest und auch wieder ausgibt."
   ]
  },
  {
   "cell_type": "code",
   "execution_count": null,
   "metadata": {},
   "outputs": [],
   "source": [
    "def arctan_list(?):\n",
    "    for ?\n",
    "    for ?\n",
    "    ?"
   ]
  },
  {
   "cell_type": "markdown",
   "metadata": {},
   "source": [
    "Aufgabe 7\n",
    "\n",
    "a) Importieren Sie \"testdatensatz.csv\" und plotten Sie die Anzahl der Neuinfektionen (Schätzer_Neuerkrankungen) für die Tage 50 bis (inkulsive) 250 "
   ]
  },
  {
   "cell_type": "code",
   "execution_count": null,
   "metadata": {},
   "outputs": [],
   "source": [
    "c19 = ?\n",
    "x=np.array(?)\n",
    "plt.plot(?)"
   ]
  },
  {
   "cell_type": "markdown",
   "metadata": {},
   "source": [
    "b) Führen Sie einen Fit für den in a) erstellten Plot mit einer geeigneten Funktion durch und geben Sie zusätzlich die Parameter aus. Achten Sie auf die Konvergenz!"
   ]
  },
  {
   "cell_type": "code",
   "execution_count": null,
   "metadata": {},
   "outputs": [],
   "source": [
    "x=?\n",
    "y=?\n",
    "\n",
    "def f(?):\n",
    "    return ?\n",
    "\n",
    "popt, pcov = curve_fit(?)\n",
    "print(?)\n",
    "plt.plot(?)\n",
    "plt.plot(x, y)\n",
    "plt.show()"
   ]
  }
 ],
 "metadata": {
  "kernelspec": {
   "display_name": "Python 3",
   "language": "python",
   "name": "python3"
  },
  "language_info": {
   "codemirror_mode": {
    "name": "ipython",
    "version": 3
   },
   "file_extension": ".py",
   "mimetype": "text/x-python",
   "name": "python",
   "nbconvert_exporter": "python",
   "pygments_lexer": "ipython3",
   "version": "3.8.3"
  }
 },
 "nbformat": 4,
 "nbformat_minor": 4
}
