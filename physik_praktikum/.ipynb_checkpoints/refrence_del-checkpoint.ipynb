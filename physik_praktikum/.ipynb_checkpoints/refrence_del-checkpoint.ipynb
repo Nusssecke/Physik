{
 "cells": [
  {
   "cell_type": "markdown",
   "id": "90cccbd1",
   "metadata": {},
   "source": [
    "# Versuch 1: Statistik I: Würfel-Simulation"
   ]
  },
  {
   "cell_type": "code",
   "execution_count": null,
   "id": "2fff0484",
   "metadata": {},
   "outputs": [],
   "source": [
    "#Name:\n",
    "#Matrikelnummer:\n",
    "#E-Mail-Adresse:\n",
    "#Studiengang:\n",
    "#Wiederholen Sie das Praktikum (Ja/Nein)?"
   ]
  },
  {
   "cell_type": "markdown",
   "id": "a2eb6459",
   "metadata": {},
   "source": [
    "Die folgenden Aufgaben basieren auf der Generierung von (Pseudo-)Zufallszahlen am Computer. Daher liefert ein mehrfaches Ausführen der Versuche unterschiedliche Werte. Führen Sie den Code jeder einzelnen Aufgabe daher mindestens dreimal aus und dokumentieren Sie die Ergebnisse. Nutzen Sie dann (wie auch bei Experimenten im Labor) den Mittelwert und die Standardabweichung, wenn Sie die Fragen in Ihrem Protokoll beantworten.\n",
    "\n",
    "##### Aufgabenstellung: \n",
    "Für die folgenden Aufgaben werden die Ergebnisse von Würfelwürfen untersucht. <br><br>\n",
    "a) Berechnen Sie zunächst (auf Papier) den Erwartungswert, sowie die Standardabweichung eines 6-seitigen Würfels, für die Augensumme von i) zwei iii) fünf und iv) zehn Würfeln.  <br><br>\n",
    "b) Berechnen Sie zunächst den Erwartungswert, sowie die Standardabweichung eines 20-seitigen Würfels, für i) die Augenzahl eines Würfels, sowie für die Augensumme von ii) zwei iii) fünf und iv) zehn Würfeln.  <br><br>\n",
    "c) Simulieren Sie mit Hilfe der Funktion dice(n, m = 1, k = 20, save = \"example\") ein Zufallsexperiment. Dabei soll ein 20-seitiger Würfel i) $n = 100$ mal, ii) $n = 1000$ und iii) $n = 10000$ mal geworfen werden. Vergleichen Sie jeweils den Mittelwert und die empirische Standardabweichung mit dem Erwartungswert und der Standardabweichung aus Teil a). Anmerkung: \"example\" ist ein Platzhalter für den Namen der PDF-Datei, welche abgespeichert wird. Verwenden Sie unterschiedliche Namen, sonst wird die Datei überschrieben.<br><br>\n",
    "d) Simulieren Sie mit Hilfe der Funktion dice(n=1000, m, k=20, save = \"example\") ein Zufallsexperiment. Dabei sollen i) zwei, ii) fünf und iii) zehn 20-seitige Würfel je 1000 mal geworfen werden. Vergleichen Sie jeweils den Mittelwert und die empirische Standardabweichung mit dem Erwartungswert und der Standardabweichung aus Teil a). <br><br>\n",
    "e) Interpretieren Sie Ihre Ergebnisse. Entsprechen Sie Ihren Erwartungen?  <br><br>\n",
    "f) Führen Sie mit den Werten aus d) mit Hilfe der Funktion chi_search(x = points, sigma, mu, save = \"example\") einen Fit durch. Dabei wird eine Gaußfunktion als theoretische Funktion verwendet. Vergleichen sie die $\\chi ^2$ Werte. Welcher Wert ist besonders hoch/gering und woran könnte das liegen? <br><br>\n",
    "g) Wie hoch ist die Wahrscheinlichkeit, dass beim 10-maligen Werfen eines 20-seitigen Würfels i) mindestens einmal die 20 fällt? ii) höchstens 2 mal die 1 fällt? iii) genau 3 mal die 5 fällt? iv) genau 3 mal die 5 UND höchstens 2 mal die 1 (Tipp: Baumdiagramm kann helfen)\n"
   ]
  },
  {
   "cell_type": "markdown",
   "id": "2f37356e",
   "metadata": {},
   "source": [
    "##### Bemerkung: \n",
    "Sie können gerne auch mit anderen Werten herumspielen, um ein besseres Gefühl für die Zusammenhänge zu bekommen. Verwenden Sie in diesem Fall die entsprechende Funktion ohne das save-Argument, also dice(n, m, k) anstatt dice(n, m, k, save). Für die Auswertung sind der Werte aus der Aufgabenstellung relevant."
   ]
  },
  {
   "cell_type": "code",
   "execution_count": null,
   "id": "a8ac8a99",
   "metadata": {},
   "outputs": [],
   "source": [
    "import numpy as np\n",
    "from numpy import random as rnd\n",
    "from matplotlib import pyplot as plt\n",
    "import seaborn as sns\n",
    "import statsmodels.api as sm\n",
    "import warnings"
   ]
  },
  {
   "cell_type": "code",
   "execution_count": null,
   "id": "3a008a05",
   "metadata": {},
   "outputs": [],
   "source": [
    "def dice (n, m, k, save = False):                                       \n",
    "    \n",
    "    \"\"\"\n",
    "    dice(n, m, k, save) \n",
    "    n = Anzahl der Würfelwürfe (Integer), \n",
    "    m = Anzahl der Würfel (Integer), \n",
    "    k = Anzahl der Würfelseiten (Integer) \n",
    "    save = Name des PDFs (String)\n",
    "    \n",
    "    Funktion plottet Histogramm eines simulierten Würfelexperiments, inklusive Markierung für den Mittelwert\n",
    "    und gibt den Array, den Mittelwert und die Standardabweichung der \n",
    "    Augensummen aus. Zumdem wird ein PDF erstellt, falls save übergeben wird\n",
    "    \"\"\"\n",
    "    m1 = m\n",
    "    k1 = k\n",
    "    dice_matrix=np.array([])                                            #leeres Array zum Auffüllen\n",
    "    for i in range (n):\n",
    "        dice_row=np.array([])\n",
    "        for j in range (m):\n",
    "            dice_row=np.append(dice_row,[rnd.randint(1,k+1)])           #m-er Reihe wird erzeugt. Gefüllt durch Randoms\n",
    "        dice_matrix= np.append(dice_matrix,[dice_row])                  #n-te m-er Reihe wird dem Array hinzugefügt\n",
    "    dice_sum = sum(dice_matrix.reshape(n,m).transpose())                #Summe der Augenzahlen\n",
    "    plt.hist(dice_sum, bins = (k-1)*m+1, \n",
    "             range = (m, m*k), color = 'limegreen' , density = True)    #Histogram mit relativen Häufigkeit\n",
    "    plt.axvline(np.mean(dice_sum),color='black' ,linestyle='--')        #vertikale Linie des Mittelwertes\n",
    "    plt.xlabel(\"Augenzahl\")                                             #Bezeichnung x-Achse\n",
    "    plt.ylabel(\"Relative Häufigkeit\")                                   #Bezeichnung y-Achse\n",
    "    if (save != False):                                                 #wenn save ein String s ist, wird ein PDF mit dem Namen s gespeichert\n",
    "        plt.title(save)\n",
    "        plt.savefig(save+'.pdf')\n",
    "    plt.show()                                                          #Plot\n",
    "    print (\"Arithmetisches Mittel: \", np.mean(dice_sum), \"\\nEmpirische Standardabweichung: \", np.std(dice_sum) )              \n",
    "    return (dice_sum, np.mean(dice_sum), np.std(dice_sum), k1, m1 )             #Array, Mittelwert und Standardabweichung der Augensummen\n",
    "\n",
    "\n",
    "def gauss(sigma, mu, x):\n",
    "    a = 1/(sigma * np.sqrt(2*np.pi)) * np.exp(-0.5* (x - mu)**2 /sigma**2)\n",
    "    return a   \n",
    "\n",
    "def chi_squared(y, sigma, mu, save = False):\n",
    "    x = y[0]\n",
    "    k = y[3]\n",
    "    m = y[4]\n",
    "    A = plt.hist(x, bins = np.arange(m,m*k+2), density = True)\n",
    "    a= sum((((gauss(sigma, mu, A[1][:-1]) - A[0]) **2) /gauss(sigma, mu, A[1][:-1])))\n",
    "    plt.plot(np.linspace(0, m*k+2, 1000), gauss(sigma, mu, np.linspace(0, m*k+2, 1000)), 'r')\n",
    "    plt.xlabel(\"Augenzahl\")\n",
    "    plt.ylabel(\"Relative Häufigkeit\")\n",
    "    if (save != False):\n",
    "        plt.title(save)\n",
    "        plt.savefig(save+'.pdf')\n",
    "    plt.show()\n",
    "    print(\"chi-Quadrat:\", a )\n",
    "    pass\n"
   ]
  },
  {
   "cell_type": "code",
   "execution_count": null,
   "id": "2bacddb8",
   "metadata": {},
   "outputs": [],
   "source": [
    "#Aufgabe 1a)\n",
    "\n",
    "\"\"\"\n",
    "Hier können Sie kommentieren:\n",
    "\n",
    "\n",
    "\n",
    "\n",
    "\n",
    "\"\"\""
   ]
  },
  {
   "cell_type": "code",
   "execution_count": null,
   "id": "f89ae751",
   "metadata": {},
   "outputs": [],
   "source": [
    "#Aufgabe 1b)\n",
    "\n",
    "\"\"\"\n",
    "Hier können Sie kommentieren:\n",
    "\n",
    "\n",
    "\n",
    "\n",
    "\n",
    "\"\"\""
   ]
  },
  {
   "cell_type": "code",
   "execution_count": null,
   "id": "31b39430",
   "metadata": {},
   "outputs": [],
   "source": [
    "#Aufgabe 1c)\n",
    "\n",
    "dice1 = dice(n=?, m=?, k=?) #Ergebnis für 100 Würfe\n",
    "dice2 = dice(n=?, m=?, k=?) #Ergebnis für 1000 Würfe\n",
    "dice3 = dice(n=?, m=?, k=?) #Ergebnis für 10000 Würfe\n",
    "print(dice1, dice2, dice3)"
   ]
  },
  {
   "cell_type": "code",
   "execution_count": null,
   "id": "fc9fcb44",
   "metadata": {},
   "outputs": [],
   "source": [
    "# Wie berechnet man den Mittelwert dreier Ergebnisse?\n",
    "# Anleitung: schreiben Sie z.B. (3.1+3.2+3.3)/3\n",
    "#Hier ein Testbeispiel\n",
    "(3.1+3.2+3.3)/3"
   ]
  },
  {
   "cell_type": "code",
   "execution_count": null,
   "id": "348f960f",
   "metadata": {},
   "outputs": [],
   "source": [
    "# Berechnen Sie den Mittelwert für Ihre Ergebnisse aus 1 c)\n",
    "#Schreiben Sie hier Ihren eigenen Code angelehnt an das vorherige Beispiel\n",
    "\n",
    "? #Auswertung Mittelwert für 100 Würfe"
   ]
  },
  {
   "cell_type": "code",
   "execution_count": null,
   "id": "9124ac30",
   "metadata": {},
   "outputs": [],
   "source": [
    "? #Auswertung Mittelwert für 1000 Würfe"
   ]
  },
  {
   "cell_type": "code",
   "execution_count": null,
   "id": "e056a119",
   "metadata": {},
   "outputs": [],
   "source": [
    "? #Auswertung Mittelwert für 10000 Würfe"
   ]
  },
  {
   "cell_type": "code",
   "execution_count": null,
   "id": "cf4cf593",
   "metadata": {},
   "outputs": [],
   "source": [
    "# Berechnen Sie die Standardabweichung für Ihre Ergebnisse aus (a)\n",
    "# Anleitung: wenn 3.2 Ihr Mittelwert war, dann schreiben Sie\n",
    "# np.sqrt((3.0-3.2)**2+(3.1-3.2)**2+(3.3-3.2)**2)\n",
    "#Hier ein Testbeispiel\n",
    "np.sqrt((3.1-3.2)**2+(3.2-3.2)**2+(3.4-3.2)**2)"
   ]
  },
  {
   "cell_type": "code",
   "execution_count": null,
   "id": "8e1294ba",
   "metadata": {},
   "outputs": [],
   "source": [
    "# Berechnen Sie die Standardabweichung für Ihre Ergebnisse aus 1 c)\n",
    "#Schreiben Sie hier Ihren eigenen Code angelehnt an das vorherige Beispiel\n",
    "\n",
    "? #Auswertung Standardabweichung für 100 Würfe"
   ]
  },
  {
   "cell_type": "code",
   "execution_count": null,
   "id": "37a40183",
   "metadata": {},
   "outputs": [],
   "source": [
    "? #Auswertung Standardabweichung für 1000 Würfe"
   ]
  },
  {
   "cell_type": "code",
   "execution_count": null,
   "id": "ad1c638d",
   "metadata": {},
   "outputs": [],
   "source": [
    "? #Auswertung Standardabweichung für 1000 Würfe"
   ]
  },
  {
   "cell_type": "code",
   "execution_count": null,
   "id": "7b6b2951",
   "metadata": {},
   "outputs": [],
   "source": [
    "#Aufgabe 1d)\n",
    "dice4 = dice(n=?, m=?, k=?) #Ergebnis für 2 Würfel\n",
    "dice5 = dice(n=?, m=?, k=?) #Ergebnis für 5 Würfel\n",
    "dice6 = dice(n=?, m=?, k=?) #Ergebnis für 10 Würfel\n",
    "print(dice4, dice5, dice6)"
   ]
  },
  {
   "cell_type": "code",
   "execution_count": null,
   "id": "10d35449",
   "metadata": {},
   "outputs": [],
   "source": [
    "? #Auswertung Mittelwert für 2 Würfel"
   ]
  },
  {
   "cell_type": "code",
   "execution_count": null,
   "id": "a23d8165",
   "metadata": {},
   "outputs": [],
   "source": [
    "? #Auswertung Mittelwert für 5 Würfel"
   ]
  },
  {
   "cell_type": "code",
   "execution_count": null,
   "id": "8b56c071",
   "metadata": {},
   "outputs": [],
   "source": [
    "? #Auswertung Mittelwert für 10 Würfel"
   ]
  },
  {
   "cell_type": "code",
   "execution_count": null,
   "id": "7f309b7e",
   "metadata": {},
   "outputs": [],
   "source": [
    "? #Auswertung Standardabweichung für 2 Würfel"
   ]
  },
  {
   "cell_type": "code",
   "execution_count": null,
   "id": "6086eb09",
   "metadata": {},
   "outputs": [],
   "source": [
    "? #Auswertung Standardabweichung für 5 Würfel"
   ]
  },
  {
   "cell_type": "code",
   "execution_count": null,
   "id": "28b3f006",
   "metadata": {},
   "outputs": [],
   "source": [
    "? #Auswertung Standardabweichung für 10 Würfel"
   ]
  },
  {
   "cell_type": "code",
   "execution_count": null,
   "id": "db278abe",
   "metadata": {},
   "outputs": [],
   "source": [
    "#Aufgabe 1e) \n",
    "\n",
    "\"\"\"\n",
    "Hier können Sie kommentieren:\n",
    "\n",
    "\n",
    "\n",
    "\n",
    "\n",
    "\"\"\""
   ]
  },
  {
   "cell_type": "code",
   "execution_count": null,
   "id": "36db726a",
   "metadata": {},
   "outputs": [],
   "source": [
    "#Aufgabe 1f)\n",
    "\n",
    "chi_squared(dice4, sigma = ?, mu = ?)\n",
    "chi_squared(dice5, sigma = ?, mu = ?)\n",
    "chi_squared(dice6, sigma = ?, mu = ?)"
   ]
  },
  {
   "cell_type": "code",
   "execution_count": null,
   "id": "fa414a85",
   "metadata": {},
   "outputs": [],
   "source": [
    "#Aufgabe 1g)\n",
    "\n",
    "\"\"\"\n",
    "Hier können Sie kommentieren:\n",
    "\n",
    "\n",
    "\n",
    "\n",
    "\n",
    "\"\"\""
   ]
  }
 ],
 "metadata": {
  "kernelspec": {
   "display_name": "Python 3 (ipykernel)",
   "language": "python",
   "name": "python3"
  },
  "language_info": {
   "codemirror_mode": {
    "name": "ipython",
    "version": 3
   },
   "file_extension": ".py",
   "mimetype": "text/x-python",
   "name": "python",
   "nbconvert_exporter": "python",
   "pygments_lexer": "ipython3",
   "version": "3.10.1"
  }
 },
 "nbformat": 4,
 "nbformat_minor": 5
}
