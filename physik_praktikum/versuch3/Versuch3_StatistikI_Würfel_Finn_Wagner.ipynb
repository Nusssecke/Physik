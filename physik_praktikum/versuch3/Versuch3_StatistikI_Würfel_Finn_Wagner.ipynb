{
 "cells": [
  {
   "cell_type": "markdown",
   "id": "90cccbd1",
   "metadata": {},
   "source": [
    "# Versuch 1: Statistik I: Würfel-Simulation"
   ]
  },
  {
   "cell_type": "code",
   "execution_count": 69,
   "id": "2fff0484",
   "metadata": {},
   "outputs": [],
   "source": [
    "#Name: Finn Jannik Wagner\n",
    "#Matrikelnummer: 8102237\n",
    "#E-Mail-Adresse: finn.jannik.wagner@physik.uni-giessen.de\n",
    "#Studiengang: Physik\n",
    "#Wiederholen Sie das Praktikum (Ja/Nein)? Nein"
   ]
  },
  {
   "cell_type": "markdown",
   "id": "a2eb6459",
   "metadata": {},
   "source": [
    "Die folgenden Aufgaben basieren auf der Generierung von (Pseudo-)Zufallszahlen am Computer. Daher liefert ein mehrfaches Ausführen der Versuche unterschiedliche Werte. Führen Sie den Code jeder einzelnen Aufgabe daher mindestens dreimal aus und dokumentieren Sie die Ergebnisse. Nutzen Sie dann (wie auch bei Experimenten im Labor) den Mittelwert und die Standardabweichung, wenn Sie die Fragen in Ihrem Protokoll beantworten.\n",
    "\n",
    "##### Aufgabenstellung: \n",
    "Für die folgenden Aufgaben werden die Ergebnisse von Würfelwürfen untersucht. <br><br>\n",
    "a) Berechnen Sie zunächst (auf Papier) den Erwartungswert, sowie die Standardabweichung eines 6-seitigen Würfels, für die Augensumme von i) zwei iii) fünf und iv) zehn Würfeln.  <br><br>\n",
    "b) Berechnen Sie zunächst den Erwartungswert, sowie die Standardabweichung eines 20-seitigen Würfels, für i) die Augenzahl eines Würfels, sowie für die Augensumme von ii) zwei iii) fünf und iv) zehn Würfeln.  <br><br>\n",
    "c) Simulieren Sie mit Hilfe der Funktion dice(n, m = 1, k = 20, save = \"example\") ein Zufallsexperiment. Dabei soll ein 20-seitiger Würfel i) $n = 100$ mal, ii) $n = 1000$ und iii) $n = 10000$ mal geworfen werden. Vergleichen Sie jeweils den Mittelwert und die empirische Standardabweichung mit dem Erwartungswert und der Standardabweichung aus Teil b). Anmerkung: \"example\" ist ein Platzhalter für den Namen der PDF-Datei, welche abgespeichert wird. Verwenden Sie unterschiedliche Namen, sonst wird die Datei überschrieben.<br><br>\n",
    "d) Simulieren Sie mit Hilfe der Funktion dice(n=1000, m, k=20, save = \"example\") ein Zufallsexperiment. Dabei sollen i) zwei, ii) fünf und iii) zehn 20-seitige Würfel je 1000 mal geworfen werden. Vergleichen Sie jeweils den Mittelwert und die empirische Standardabweichung mit dem Erwartungswert und der Standardabweichung aus Teil a). <br><br>\n",
    "e) Interpretieren Sie Ihre Ergebnisse. Entsprechen Sie Ihren Erwartungen?  <br><br>\n",
    "f) Führen Sie mit den Werten aus d) mit Hilfe der Funktion chi_search(x = points, sigma, mu, save = \"example\") einen Fit durch. Dabei wird eine Gaußfunktion als theoretische Funktion verwendet. Vergleichen sie die $\\chi ^2$ Werte. Welcher Wert ist besonders hoch/gering und woran könnte das liegen? <br><br>\n",
    "g) Wie hoch ist die Wahrscheinlichkeit, dass beim 10-maligen Werfen eines 20-seitigen Würfels i) mindestens einmal die 20 fällt? ii) höchstens 2 mal die 1 fällt? iii) genau 3 mal die 5 fällt? iv) genau 3 mal die 5 UND höchstens 2 mal die 1 (Tipp: Baumdiagramm kann helfen)\n"
   ]
  },
  {
   "cell_type": "markdown",
   "id": "2f37356e",
   "metadata": {
    "tags": []
   },
   "source": [
    "##### Bemerkung: \n",
    "Sie können gerne auch mit anderen Werten herumspielen, um ein besseres Gefühl für die Zusammenhänge zu bekommen. Verwenden Sie in diesem Fall die entsprechende Funktion ohne das save-Argument, also dice(n, m, k) anstatt dice(n, m, k, save). Für die Auswertung sind der Werte aus der Aufgabenstellung relevant."
   ]
  },
  {
   "cell_type": "code",
   "execution_count": 70,
   "id": "a8ac8a99",
   "metadata": {
    "jupyter": {
     "source_hidden": true
    },
    "tags": []
   },
   "outputs": [],
   "source": [
    "import numpy as np\n",
    "from numpy import random as rnd\n",
    "from matplotlib import pyplot as plt\n",
    "import seaborn as sns\n",
    "import statsmodels.api as sm\n",
    "import warnings\n",
    "import math"
   ]
  },
  {
   "cell_type": "code",
   "execution_count": 89,
   "id": "3a008a05",
   "metadata": {
    "jupyter": {
     "source_hidden": true
    },
    "tags": []
   },
   "outputs": [
    {
     "data": {
      "image/png": "[encoded data removed]",
      "text/plain": [
       "<Figure size 432x288 with 1 Axes>"
      ]
     },
     "metadata": {
      "needs_background": "light"
     },
     "output_type": "display_data"
    },
    {
     "name": "stdout",
     "output_type": "stream",
     "text": [
      "Arithmetisches Mittel:  20.733 \n",
      "Empirische Standardabweichung:  8.184235517139033\n",
      "without plot\n",
      "(array([0.004, 0.003, 0.003, 0.011, 0.015, 0.018, 0.014, 0.028, 0.024,\n",
      "       0.02 , 0.035, 0.043, 0.036, 0.034, 0.03 , 0.045, 0.043, 0.038,\n",
      "       0.039, 0.057, 0.045, 0.057, 0.032, 0.027, 0.026, 0.038, 0.044,\n",
      "       0.02 , 0.027, 0.036, 0.029, 0.018, 0.016, 0.015, 0.007, 0.012,\n",
      "       0.005, 0.003, 0.003]), array([ 2,  3,  4,  5,  6,  7,  8,  9, 10, 11, 12, 13, 14, 15, 16, 17, 18,\n",
      "       19, 20, 21, 22, 23, 24, 25, 26, 27, 28, 29, 30, 31, 32, 33, 34, 35,\n",
      "       36, 37, 38, 39, 40, 41]), <BarContainer object of 39 artists>)\n",
      "[ 2  3  4  5  6  7  8  9 10 11 12 13 14 15 16 17 18 19 20 21 22 23 24 25\n",
      " 26 27 28 29 30 31 32 33 34 35 36 37 38 39 40]\n"
     ]
    },
    {
     "data": {
      "text/plain": [
       "0.07746979828438033"
      ]
     },
     "execution_count": 89,
     "metadata": {},
     "output_type": "execute_result"
    },
    {
     "data": {
      "image/png": "[encoded data removed]",
      "text/plain": [
       "<Figure size 432x288 with 1 Axes>"
      ]
     },
     "metadata": {
      "needs_background": "light"
     },
     "output_type": "display_data"
    }
   ],
   "source": [
    "def dice (n, m, k, save = False):                                       \n",
    "    \n",
    "    \"\"\"\n",
    "    dice(n, m, k, save) \n",
    "    n = Anzahl der Würfelwürfe (Integer), \n",
    "    m = Anzahl der Würfel (Integer), \n",
    "    k = Anzahl der Würfelseiten (Integer) \n",
    "    save = Name des PDFs (String)\n",
    "    \n",
    "    Funktion plottet Histogramm eines simulierten Würfelexperiments, inklusive Markierung für den Mittelwert\n",
    "    und gibt den Array, den Mittelwert und die Standardabweichung der \n",
    "    Augensummen aus. Zumdem wird ein PDF erstellt, falls save übergeben wird\n",
    "    \"\"\"\n",
    "    m1 = m\n",
    "    k1 = k\n",
    "    dice_matrix=np.array([])                                            #leeres Array zum Auffüllen\n",
    "    for i in range (n):\n",
    "        dice_row=np.array([])\n",
    "        for j in range (m):\n",
    "            dice_row=np.append(dice_row,[rnd.randint(1,k+1)])           #m-er Reihe wird erzeugt. Gefüllt durch Randoms\n",
    "        dice_matrix= np.append(dice_matrix,[dice_row])                  #n-te m-er Reihe wird dem Array hinzugefügt\n",
    "    dice_sum = sum(dice_matrix.reshape(n,m).transpose())                #Summe der Augenzahlen\n",
    "    plt.hist(dice_sum, bins = (k-1)*m+1, \n",
    "             range = (m, m*k), color = 'limegreen' , density = True)    #Histogram mit relativen Häufigkeit\n",
    "    plt.axvline(np.mean(dice_sum),color='black' ,linestyle='--')        #vertikale Linie des Mittelwertes\n",
    "    plt.xlabel(\"Augenzahl\")                                             #Bezeichnung x-Achse\n",
    "    plt.ylabel(\"Relative Häufigkeit\")                                   #Bezeichnung y-Achse\n",
    "    if (save != False):                                                 #wenn save ein String s ist, wird ein PDF mit dem Namen s gespeichert\n",
    "        plt.title(save)\n",
    "        plt.savefig(save+'.pdf')\n",
    "    plt.show()                                                          #Plot\n",
    "    print (\"Arithmetisches Mittel: \", np.mean(dice_sum), \"\\nEmpirische Standardabweichung: \", np.std(dice_sum) )              \n",
    "    return (dice_sum, np.mean(dice_sum), np.std(dice_sum), k1, m1 )             #Array, Mittelwert und Standardabweichung der Augensummen\n",
    "\n",
    "\n",
    "def gauss(sigma, mu, x): # Setzt in die Gaussfunktion ein.\n",
    "    a = 1/(sigma * np.sqrt(2*np.pi)) * np.exp(-0.5* (x - mu)**2 /sigma**2)\n",
    "    return a   \n",
    "\n",
    "def chi_squared(y, sigma, mu, save = False):\n",
    "    x = y[0]\n",
    "    k = y[3]\n",
    "    m = y[4]\n",
    "    A = plt.hist(x, bins = np.arange(m,m*k+2), density = True)\n",
    "    a= sum((((gauss(sigma, mu, A[1][:-1]) - A[0]) **2) /gauss(sigma, mu, A[1][:-1])))\n",
    "    plt.plot(np.linspace(0, m*k+2, 1000), gauss(sigma, mu, np.linspace(0, m*k+2, 1000)), 'r')\n",
    "    plt.xlabel(\"Augenzahl\")\n",
    "    plt.ylabel(\"Relative Häufigkeit\")\n",
    "    if (save != False):\n",
    "        plt.title(save)\n",
    "        plt.savefig(save+'.pdf')\n",
    "    plt.show()\n",
    "    print(\"chi-Quadrat:\", a )\n",
    "    pass\n",
    "\n",
    "def chi_squared_without_plot(y, sigma, mu, save = False):\n",
    "    x = y[0]\n",
    "    k = y[3]\n",
    "    m = y[4]\n",
    "    A = plt.hist(x, bins = np.arange(m,m*k+2), density = True)\n",
    "    print(A)\n",
    "    print(A[1][:-1])\n",
    "    a = sum( ( (( gauss(sigma, mu, A[1][:-1]) - A[0] ) **2) / gauss(sigma, mu, A[1][:-1])) )\n",
    "    return a\n",
    "\n",
    "v = dice(n=1000, m=2, k=20)\n",
    "print('without plot')\n",
    "chi_squared_without_plot(v, v[2], v[1])"
   ]
  },
  {
   "cell_type": "markdown",
   "id": "fbcfffff",
   "metadata": {},
   "source": [
    "# Aufgabe 1a)\n",
    "Erwartungswerte von 6-seitigen Würfeln\n",
    "## 1 Würfel:\n",
    "Alle 6 Werte des Würfels sind gleich wahrscheinlich mit der Wahrscheinlichkeit 1/6. <br>\n",
    "Der Erwartungswert $µ$ ist damit $1*1/6 + 2 * 1/6 + 3*1/6 + 4*1/6 + 5*1/6 + 6*1/6 = µ = 3.5$ <br>\n",
    "Die Standardabweichung ist $math.sqrt(1/6*(3.5 - 1)**2 + 1/6*(3.5 - 2)**2 + 1/6*(3.5 - 3)**2 + 1/6*(3.5 - 4)**2 + 1/6*(3.5 - 5)**2 + 1/6*(3.5 - 6)**2) = math.sqrt(17.5/6) ≈ 1.71$\n",
    "    \n",
    "## 2 Würfel:\n",
    "Da einzelne Würfelwürfe unabhängig von einander sind und für den Erwartungswert Linearität gilt, ist der Erwartungswert für $n$ Würfel $n*3.5$ <br>\n",
    "In diesem Fall also $µ = 2*3.5 = 7$\n",
    "    \n",
    "Die Standardabweichung ist: <br>\n",
    "$math.sqrt( 1/36*(7 - 2)**2 + 2/36*(7 - 3)**2 + 3/36*(7 - 4)**2 + 4/36*(7 - 5)**2 + 5/36*(7 - 6)**2 + 6/36*(7 - 7)**2 + 5/36*(7 - 8)**2 + 4/36*(7 - 9)**2 + 3/36*(7 - 10)**2 + 2/36*(7 - 11)**2 + 1/36*(7 - 12)**2) = math.sqrt(35/6) = math.sqrt(2 * 17.5/6) ≈ 2.42$ <br>\n",
    "Für die Varianz gilt bei unabhängigen Würfelwürfen ebenfalls Linearität, diese lässt sich da die Wurzelfunktion monoton ist auch auf die Standardabweichung übertragen. <br>\n",
    "Die Standardabweichung für zwei Würfel ist die eines Würfels mal den Faktor $math.sqrt(2)$.\n",
    "    \n",
    "## 5 Würfel:\n",
    "Erwartungswert µ = 5*3.5 = 17.5 <br>\n",
    "Standardabweichung σ = math.sqrt(5 * 17.5/6) ≈ 3.82\n",
    "    \n",
    "## 10 Würfel:\n",
    "Erwartungswert µ = 10*3.5 = 35 <br>\n",
    "Standardabweichung σ = math.sqrt(10 * 17.5/6) ≈ 5.4"
   ]
  },
  {
   "cell_type": "markdown",
   "id": "1d81bd8e",
   "metadata": {},
   "source": [
    "# Aufgabe 1b)\n",
    "\n",
    "Wir nehmen an das sich bei dem Würfel um einen Ikosaeder handelt, alle Seiten also die gleiche Wahrscheinlichkeit 1/20 haben.\n",
    "\n",
    "## 1 Würfel:\n",
    "Der Erwartungswert ist damit $µ = 1*1/20 + 2*1/20 + 3*1/20 + ... = 1/20 * (1+2+3+...) = (20+1)/2 * 20 * 1/20 = 21/2 = 10.5$ <br>\n",
    "Die Standardabweichung ist $σ = math.sqrt(1/20 * sum([(10.5 - i)**2 $for i in range$(1, 20+1)])) = math.sqrt(133/4) ≈ 5.77$ <br>\n",
    "\n",
    "Äquivalent zu einem 6 seitigen Würfel lassen sich Erwartungswert und Standardabweichung für mehrere Würfe auf Grund von Monotonie einfach bestimmen.\n",
    "\n",
    "## 2 Würfel:\n",
    "Erwartungswert $µ = 2*10.5 = 21$ <br>\n",
    "Standardabweichung $σ = math.sqrt(2 * 133/4) ≈ 8.15$\n",
    "    \n",
    "## 5 Würfel:\n",
    "Erwarungswert $µ = 5*10.5 = 52.5$ <br>\n",
    "Standardabweichung $σ = math.sqrt(5 * 133/4) ≈ 12.89$\n",
    "\n",
    "## 10 Würfel:\n",
    "Erwarungswert $µ = 10*10.5 = 105$ <br>\n",
    "Standardabweichung $σ = math.sqrt(10 * 133/4) ≈ 18.23$"
   ]
  },
  {
   "cell_type": "code",
   "execution_count": null,
   "id": "31b39430",
   "metadata": {},
   "outputs": [],
   "source": [
    "#Aufgabe 1c)\n",
    "\n",
    "\"\"\"\n",
    "Simulieren Sie mit Hilfe der Funktion dice(n, m = 1, k = 20, save = \"example\") ein Zufallsexperiment.\n",
    "Dabei soll ein 20-seitiger Würfel i) 𝑛=100 mal, ii) 𝑛=1000 und iii) 𝑛=10000 mal geworfen werden.\n",
    "Vergleichen Sie jeweils den Mittelwert und die empirische Standardabweichung mit dem Erwartungswert und der Standardabweichung aus Teil b).\n",
    "\"\"\"\n",
    "print(f'Drei Versuchsdurchführungen mit {100} Würfen')\n",
    "dice1_1 = dice(n=100, m=1, k=20) # Erstes Ergebnis für 100 Würfe\n",
    "dice1_2 = dice(n=100, m=1, k=20) # Zweites Ergebnis für 100 Würfe\n",
    "dice1_3 = dice(n=100, m=1, k=20) # Drittes Ergebnis für 100 Würfe\n",
    "dice1 = [dice1_1, dice1_2, dice1_3]\n",
    "\n",
    "dice2_1 = dice(n=1000, m=1, k=20) # Erstes Ergebnis für 1000 Würfe\n",
    "dice2_2 = dice(n=1000, m=1, k=20) # Zweites Ergebnis für 1000 Würfe\n",
    "dice2_3 = dice(n=1000, m=1, k=20) # Drittes Ergebnis für 1000 Würfe\n",
    "dice2 = [dice2_1, dice2_2, dice2_3]\n",
    "\n",
    "dice3_1 = dice(n=10000, m=1, k=20) # Erstes Ergebnis für 10000 Würfe\n",
    "dice3_2 = dice(n=10000, m=1, k=20) # Zweites Ergebnis für 10000 Würfe\n",
    "dice3_3 = dice(n=10000, m=1, k=20) # Drittes Ergebnis für 10000 Würfe\n",
    "dice3 = [dice3_1, dice3_2, dice3_3]\n",
    "\n",
    "# TODO Add Comments for prettier output with times executed\n"
   ]
  },
  {
   "cell_type": "code",
   "execution_count": 73,
   "id": "348f960f",
   "metadata": {
    "tags": []
   },
   "outputs": [
    {
     "name": "stdout",
     "output_type": "stream",
     "text": [
      "Die drei experimentellen Werte für das arithmetische Mittel bei 100 Würfen eines 20 seitigen Würfels sind: 10.78, 10.9, 10.25\n",
      "Der Mittelwert der experimentelen Ergebnisse µ=10.6433 ist eine mäßig gute Aproximation des berechneten Werts von 10.5. Der experimentele Wert ist auf keine Nachkommastellen genau mit einer Abweichung von 0.1433.\n"
     ]
    }
   ],
   "source": [
    "# Berechnen Sie den Mittelwert für Ihre Ergebnisse aus 1 c)\n",
    "#Schreiben Sie hier Ihren eigenen Code angelehnt an das vorherige Beispiel\n",
    "\n",
    "#Auswertung Mittelwert für 100 Würfe\n",
    "dices = dice1\n",
    "µ = (dices[0][1] + dices[1][1] + dices[2][1])/3\n",
    "theoretischer_erwartungswert = 10.5\n",
    "abweichung = abs(theoretischer_erwartungswert-µ)\n",
    "nachkomma_genauigkeit = abs(int(math.log10(abs(µ)))) if 1-abweichung > 0.9 else 'keine'\n",
    "approximation = ['mäßig gute', 'gute', 'sehr gute'][abs(int(math.log10(abs(µ)))) if 1-abweichung > 0.9 else 0]  # TODO Approximation anpassen.\n",
    "\n",
    "print(f'Die drei experimentellen Werte für das arithmetische Mittel bei {100} Würfen '\n",
    "      f'eines 20 seitigen Würfels sind: {\", \".join([str(i[1]) for i in dices])}')\n",
    "print(f'Der Mittelwert der experimentelen Ergebnisse {µ=:.4f} ist eine {approximation} Aproximation des berechneten Werts von {theoretischer_erwartungswert}. '\n",
    "      f'Der experimentele Wert ist auf {nachkomma_genauigkeit} Nachkommastellen genau mit einer Abweichung von {abweichung:.4f}.')\n",
    "# TODO Genauigkeit anpassen"
   ]
  },
  {
   "cell_type": "code",
   "execution_count": 74,
   "id": "9124ac30",
   "metadata": {
    "tags": []
   },
   "outputs": [
    {
     "name": "stdout",
     "output_type": "stream",
     "text": [
      "Die drei experimentellen Werte für das arithmetische Mittel bei 1000 Würfen eines 20 seitigen Würfels sind: 10.758, 10.155, 10.801\n",
      "Der Mittelwert der experimentelen Ergebnisse µ=10.5713 ist eine gute Aproximation des berechneten Werts von 10.5. Der experimentele Wert ist auf 1 Nachkommastellen genau mit einer Abweichung von 0.0713.\n"
     ]
    }
   ],
   "source": [
    "#Auswertung Mittelwert für 1000 Würfe\n",
    "dices = dice2\n",
    "µ = (dices[0][1] + dices[1][1] + dices[2][1])/3\n",
    "theoretischer_erwartungswert = 10.5\n",
    "abweichung = abs(theoretischer_erwartungswert-µ)\n",
    "nachkomma_genauigkeit = abs(int(math.log10(abs(µ)))) if 1-abweichung > 0.9 else 'keine'\n",
    "approximation = ['mäßig gute', 'gute', 'sehr gute'][abs(int(math.log10(abs(µ)))) if 1-abweichung > 0.9 else 0]\n",
    "\n",
    "print(f'Die drei experimentellen Werte für das arithmetische Mittel bei {1000} Würfen '\n",
    "      f'eines 20 seitigen Würfels sind: {\", \".join([str(i[1]) for i in dices])}')\n",
    "print(f'Der Mittelwert der experimentelen Ergebnisse {µ=:.4f} ist eine {approximation} Aproximation des berechneten Werts von {theoretischer_erwartungswert}. '\n",
    "      f'Der experimentele Wert ist auf {nachkomma_genauigkeit} Nachkommastellen genau mit einer Abweichung von {abweichung:.4f}.')"
   ]
  },
  {
   "cell_type": "code",
   "execution_count": 75,
   "id": "e056a119",
   "metadata": {
    "tags": []
   },
   "outputs": [
    {
     "name": "stdout",
     "output_type": "stream",
     "text": [
      "Die drei experimentellen Werte für das arithmetische Mittel bei 10000 Würfen eines 20 seitigen Würfels sind: 10.4975, 10.4887, 10.4978\n",
      "Der Mittelwert der experimentelen Ergebnisse µ=10.4947 ist eine gute Aproximation des berechneten Werts von 10.5. Der experimentele Wert ist auf 1 Nachkommastellen genau mit einer Abweichung von 0.0053.\n"
     ]
    }
   ],
   "source": [
    "#Auswertung Mittelwert für 10000 Würfe\n",
    "dices = dice3\n",
    "µ = (dices[0][1] + dices[1][1] + dices[2][1])/3\n",
    "theoretischer_erwartungswert = 10.5\n",
    "abweichung = abs(theoretischer_erwartungswert-µ)\n",
    "nachkomma_genauigkeit = abs(int(math.log10(abs(µ)))) if 1-abweichung > 0.9 else 'keine'\n",
    "approximation = ['mäßig gute', 'gute', 'sehr gute'][abs(int(math.log10(abs(µ)))) if 1-abweichung > 0.9 else 0]\n",
    "\n",
    "print(f'Die drei experimentellen Werte für das arithmetische Mittel bei {10000} Würfen '\n",
    "      f'eines 20 seitigen Würfels sind: {\", \".join([str(i[1]) for i in dices])}')\n",
    "print(f'Der Mittelwert der experimentelen Ergebnisse {µ=:.4f} ist eine {approximation} Aproximation des berechneten Werts von {theoretischer_erwartungswert}. '\n",
    "      f'Der experimentele Wert ist auf {nachkomma_genauigkeit} Nachkommastellen genau mit einer Abweichung von {abweichung:.4f}.')\n",
    "\n",
    "# TODO Vergleiche Mittelwerte welcher ist am nächsten dran, welcher fällt aus der Reihe. Generell mit mehr Würfen steigt Genauigkeit.\n",
    "# TODO Dafür Wert speichern in jeder Zelle und dann Abweichung berechnen etc."
   ]
  },
  {
   "cell_type": "code",
   "execution_count": 76,
   "id": "8e1294ba",
   "metadata": {},
   "outputs": [
    {
     "name": "stdout",
     "output_type": "stream",
     "text": [
      "Die Standardabweichung für 100 Würfe eines 20 seitigen Würfels beträgt bei den berechneten experimentellen Ergebnissen σ=0.4891 mit dem experimentell berechneten Erwartungswert.\n",
      "Die Standardabweichung der experimentelen Ergebnisse betägt σ=0.4891 sie hat eine Abweichung von 5.2809 vom theoretischen Wert 5.77.\n"
     ]
    }
   ],
   "source": [
    "# Berechnen Sie die Standardabweichung für Ihre Ergebnisse aus 1 c)\n",
    "#Schreiben Sie hier Ihren eigenen Code angelehnt an das vorherige Beispiel\n",
    "\n",
    "#Auswertung Standardabweichung für 100 Würfe\n",
    "dices = dice1\n",
    "µ = (dices[0][1] + dices[1][1] + dices[2][1])/3\n",
    "σ = np.sqrt((dices[0][1]-µ)**2+(dices[1][1]-µ)**2+(dices[2][1]-µ)**2)\n",
    "theoretische_standardabweichung = 5.77\n",
    "abweichung = abs(theoretische_standardabweichung-σ)\n",
    "\n",
    "print(f'Die Standardabweichung für {100} Würfe eines 20 seitigen Würfels beträgt bei den berechneten experimentellen '\n",
    "      f'Ergebnissen {σ=:.4f} mit dem experimentell berechneten Erwartungswert.')\n",
    "print(f'Die Standardabweichung der experimentelen Ergebnisse betägt {σ=:.4f}'\n",
    "      f' sie hat eine Abweichung von {abweichung:.4f} vom theoretischen Wert {theoretische_standardabweichung}.')"
   ]
  },
  {
   "cell_type": "code",
   "execution_count": 77,
   "id": "37a40183",
   "metadata": {},
   "outputs": [
    {
     "name": "stdout",
     "output_type": "stream",
     "text": [
      "Die Standardabweichung für 1000 Würfe eines 20 seitigen Würfels beträgt bei den berechneten experimentellen Ergebnissen σ=0.5108 mit dem experimentell berechneten Erwartungswert.\n",
      "Die Standardabweichung der experimentelen Ergebnisse betägt σ=0.5108 sie hat eine Abweichung von 5.2592 vom theoretischen Wert 5.77.\n"
     ]
    }
   ],
   "source": [
    "#Auswertung Standardabweichung für 1000 Würfe\n",
    "dices = dice2\n",
    "µ = (dices[0][1] + dices[1][1] + dices[2][1])/3\n",
    "σ = np.sqrt((dices[0][1]-µ)**2+(dices[1][1]-µ)**2+(dices[2][1]-µ)**2)\n",
    "theoretische_standardabweichung = 5.77\n",
    "abweichung = abs(theoretische_standardabweichung-σ)\n",
    "\n",
    "print(f'Die Standardabweichung für {1000} Würfe eines 20 seitigen Würfels beträgt bei den berechneten experimentellen '\n",
    "      f'Ergebnissen {σ=:.4f} mit dem experimentell berechneten Erwartungswert.')\n",
    "print(f'Die Standardabweichung der experimentelen Ergebnisse betägt {σ=:.4f}'\n",
    "      f' sie hat eine Abweichung von {abweichung:.4f} vom theoretischen Wert {theoretische_standardabweichung}.')"
   ]
  },
  {
   "cell_type": "code",
   "execution_count": 78,
   "id": "ad1c638d",
   "metadata": {},
   "outputs": [
    {
     "name": "stdout",
     "output_type": "stream",
     "text": [
      "Die Standardabweichung für 10000 Würfe eines 20 seitigen Würfels beträgt bei den berechneten experimentellen Ergebnissen σ=0.0073 mit dem experimentell berechneten Erwartungswert.\n",
      "Die Standardabweichung der experimentelen Ergebnisse betägt σ=0.0073 sie hat eine Abweichung von 5.7627 vom theoretischen Wert 5.77.\n"
     ]
    }
   ],
   "source": [
    "#Auswertung Standardabweichung für 10000 Würfe\n",
    "dices = dice3\n",
    "µ = (dices[0][1] + dices[1][1] + dices[2][1])/3\n",
    "σ = np.sqrt((dices[0][1]-µ)**2+(dices[1][1]-µ)**2+(dices[2][1]-µ)**2) # <----- Die Formel falsch???\n",
    "theoretische_standardabweichung = 5.77\n",
    "abweichung = abs(theoretische_standardabweichung-σ)\n",
    "\n",
    "print(f'Die Standardabweichung für {10000} Würfe eines 20 seitigen Würfels beträgt bei den berechneten experimentellen '\n",
    "      f'Ergebnissen {σ=:.4f} mit dem experimentell berechneten Erwartungswert.')\n",
    "print(f'Die Standardabweichung der experimentelen Ergebnisse betägt {σ=:.4f}'\n",
    "      f' sie hat eine Abweichung von {abweichung:.4f} vom theoretischen Wert {theoretische_standardabweichung}.')\n",
    "# TODOOOOOOOOOOOOOOOOOOOOOOOOOOOOOOOOOOOO: WARUM SO GROßE ABWEICHUNGEN???????????????????????????????????????????????????"
   ]
  },
  {
   "cell_type": "code",
   "execution_count": 92,
   "id": "7b6b2951",
   "metadata": {},
   "outputs": [
    {
     "data": {
      "image/png": "[encoded data removed]",
      "text/plain": [
       "<Figure size 432x288 with 1 Axes>"
      ]
     },
     "metadata": {
      "needs_background": "light"
     },
     "output_type": "display_data"
    },
    {
     "name": "stdout",
     "output_type": "stream",
     "text": [
      "Arithmetisches Mittel:  21.352 \n",
      "Empirische Standardabweichung:  8.202932158685698\n"
     ]
    },
    {
     "data": {
      "image/png": "[encoded data removed]",
      "text/plain": [
       "<Figure size 432x288 with 1 Axes>"
      ]
     },
     "metadata": {
      "needs_background": "light"
     },
     "output_type": "display_data"
    },
    {
     "name": "stdout",
     "output_type": "stream",
     "text": [
      "Arithmetisches Mittel:  20.736 \n",
      "Empirische Standardabweichung:  8.428422390934141\n"
     ]
    },
    {
     "data": {
      "image/png": "[encoded data removed]",
      "text/plain": [
       "<Figure size 432x288 with 1 Axes>"
      ]
     },
     "metadata": {
      "needs_background": "light"
     },
     "output_type": "display_data"
    },
    {
     "name": "stdout",
     "output_type": "stream",
     "text": [
      "Arithmetisches Mittel:  21.082 \n",
      "Empirische Standardabweichung:  8.209706206679993\n"
     ]
    },
    {
     "data": {
      "image/png": "[encoded data removed]",
      "text/plain": [
       "<Figure size 432x288 with 1 Axes>"
      ]
     },
     "metadata": {
      "needs_background": "light"
     },
     "output_type": "display_data"
    },
    {
     "name": "stdout",
     "output_type": "stream",
     "text": [
      "Arithmetisches Mittel:  52.808 \n",
      "Empirische Standardabweichung:  12.915925673369292\n"
     ]
    },
    {
     "data": {
      "image/png": "[encoded data removed]",
      "text/plain": [
       "<Figure size 432x288 with 1 Axes>"
      ]
     },
     "metadata": {
      "needs_background": "light"
     },
     "output_type": "display_data"
    },
    {
     "name": "stdout",
     "output_type": "stream",
     "text": [
      "Arithmetisches Mittel:  52.486 \n",
      "Empirische Standardabweichung:  12.922376097297278\n"
     ]
    },
    {
     "data": {
      "image/png": "[encoded data removed]",
      "text/plain": [
       "<Figure size 432x288 with 1 Axes>"
      ]
     },
     "metadata": {
      "needs_background": "light"
     },
     "output_type": "display_data"
    },
    {
     "name": "stdout",
     "output_type": "stream",
     "text": [
      "Arithmetisches Mittel:  52.328 \n",
      "Empirische Standardabweichung:  12.657583339642681\n"
     ]
    },
    {
     "data": {
      "image/png": "[encoded data removed]",
      "text/plain": [
       "<Figure size 432x288 with 1 Axes>"
      ]
     },
     "metadata": {
      "needs_background": "light"
     },
     "output_type": "display_data"
    },
    {
     "name": "stdout",
     "output_type": "stream",
     "text": [
      "Arithmetisches Mittel:  105.033 \n",
      "Empirische Standardabweichung:  17.85989672422548\n"
     ]
    },
    {
     "data": {
      "image/png": "[encoded data removed]",
      "text/plain": [
       "<Figure size 432x288 with 1 Axes>"
      ]
     },
     "metadata": {
      "needs_background": "light"
     },
     "output_type": "display_data"
    },
    {
     "name": "stdout",
     "output_type": "stream",
     "text": [
      "Arithmetisches Mittel:  104.908 \n",
      "Empirische Standardabweichung:  18.300533762707577\n"
     ]
    },
    {
     "data": {
      "image/png": "[encoded data removed]",
      "text/plain": [
       "<Figure size 432x288 with 1 Axes>"
      ]
     },
     "metadata": {
      "needs_background": "light"
     },
     "output_type": "display_data"
    },
    {
     "name": "stdout",
     "output_type": "stream",
     "text": [
      "Arithmetisches Mittel:  104.941 \n",
      "Empirische Standardabweichung:  18.190973558333816\n"
     ]
    }
   ],
   "source": [
    "#Aufgabe 1d)\n",
    "\"\"\"\n",
    "Simulieren Sie mit Hilfe der Funktion dice(n=1000, m, k=20, save = \"example\") ein Zufallsexperiment. \n",
    "Dabei sollen i) zwei, ii) fünf und iii) zehn 20-seitige Würfel je 1000 mal geworfen werden.\n",
    "Vergleichen Sie jeweils den Mittelwert und die empirische Standardabweichung mit dem Erwartungswert und der Standardabweichung aus Teil a). \n",
    "\"\"\"\n",
    "dice4_1 = dice(n=1000, m=2, k=20) #Erstes Ergebnis für 2 Würfel\n",
    "dice4_2 = dice(n=1000, m=2, k=20) #Zweites Ergebnis für 2 Würfel\n",
    "dice4_3 = dice(n=1000, m=2, k=20) #Drittes Ergebnis für 2 Würfel\n",
    "dice4 = [dice4_1, dice4_2, dice4_3]\n",
    "\n",
    "dice5_1 = dice(n=1000, m=5, k=20) #Erstes Ergebnis für 5 Würfel\n",
    "dice5_2 = dice(n=1000, m=5, k=20) #Zweites Ergebnis für 5 Würfel\n",
    "dice5_3 = dice(n=1000, m=5, k=20) #Drittes Ergebnis für 5 Würfel\n",
    "dice5 = [dice5_1, dice5_2, dice5_3]\n",
    "\n",
    "dice6_1 = dice(n=1000, m=10, k=20) #Erstes Ergebnis für 10 Würfel\n",
    "dice6_2 = dice(n=1000, m=10, k=20) #Zweites Ergebnis für 10 Würfel\n",
    "dice6_3 = dice(n=1000, m=10, k=20) #Drittes Ergebnis für 10 Würfel\n",
    "dice6 = [dice6_1, dice6_2, dice6_3]"
   ]
  },
  {
   "cell_type": "code",
   "execution_count": 80,
   "id": "10d35449",
   "metadata": {
    "jupyter": {
     "source_hidden": true
    },
    "tags": []
   },
   "outputs": [
    {
     "name": "stdout",
     "output_type": "stream",
     "text": [
      "Die drei experimentellen Werte für das arithmetische Mittel bei 2 Würfeln eines 20 seitigen Würfels sind: 21.065, 21.08, 20.432\n",
      "Der Mittelwert der experimentelen Ergebnisse µ=20.8590 ist eine mäßig gute Aproximation des berechneten Werts von 21. Der experimentele Wert ist auf keine Nachkommastellen genau mit einer Abweichung von 0.1410\n"
     ]
    }
   ],
   "source": [
    "#Auswertung Mittelwert für 2 Würfel\n",
    "dices = dice4\n",
    "µ = (dices[0][1] + dices[1][1] + dices[2][1])/3\n",
    "theoretischer_erwartungswert = 21\n",
    "abweichung = abs(theoretischer_erwartungswert-µ)\n",
    "nachkomma_genauigkeit = abs(int(math.log10(abs(µ)))) if 1-abweichung > 0.9 else 'keine'\n",
    "approximation = ['mäßig gute', 'gute', 'sehr gute'][abs(int(math.log10(abs(µ)))) if 1-abweichung > 0.9 else 0]\n",
    "\n",
    "print(f'Die drei experimentellen Werte für das arithmetische Mittel bei {2} Würfeln '\n",
    "      f'eines 20 seitigen Würfels sind: {\", \".join([str(i[1]) for i in dices])}')\n",
    "print(f'Der Mittelwert der experimentelen Ergebnisse {µ=:.4f} ist eine {approximation} Aproximation des berechneten Werts von {theoretischer_erwartungswert}. '\n",
    "      f'Der experimentele Wert ist auf {nachkomma_genauigkeit} Nachkommastellen genau mit einer Abweichung von {abweichung:.4f}')"
   ]
  },
  {
   "cell_type": "code",
   "execution_count": 81,
   "id": "a23d8165",
   "metadata": {
    "jupyter": {
     "source_hidden": true
    },
    "tags": []
   },
   "outputs": [
    {
     "name": "stdout",
     "output_type": "stream",
     "text": [
      "Die drei experimentellen Werte für das arithmetische Mittel bei 5 Würfeln eines 20 seitigen Würfels sind: 51.535, 51.824, 52.618\n",
      "Der Mittelwert der experimentelen Ergebnisse µ=51.9923 ist eine mäßig gute Aproximation des berechneten Werts von 52.5. Der experimentele Wert ist auf keine Nachkommastellen genau mit einer Abweichung von 0.5077\n"
     ]
    }
   ],
   "source": [
    "#Auswertung Mittelwert für 5 Würfel\n",
    "dices = dice5\n",
    "µ = (dices[0][1] + dices[1][1] + dices[2][1])/3\n",
    "theoretischer_erwartungswert = 52.5\n",
    "abweichung = abs(theoretischer_erwartungswert-µ)\n",
    "nachkomma_genauigkeit = abs(int(math.log10(abs(µ)))) if 1-abweichung > 0.9 else 'keine'\n",
    "approximation = ['mäßig gute', 'gute', 'sehr gute'][abs(int(math.log10(abs(µ)))) if 1-abweichung > 0.9 else 0]\n",
    "\n",
    "print(f'Die drei experimentellen Werte für das arithmetische Mittel bei {5} Würfeln '\n",
    "      f'eines 20 seitigen Würfels sind: {\", \".join([str(i[1]) for i in dices])}')\n",
    "print(f'Der Mittelwert der experimentelen Ergebnisse {µ=:.4f} ist eine {approximation} Aproximation des berechneten Werts von {theoretischer_erwartungswert}. '\n",
    "      f'Der experimentele Wert ist auf {nachkomma_genauigkeit} Nachkommastellen genau mit einer Abweichung von {abweichung:.4f}')"
   ]
  },
  {
   "cell_type": "code",
   "execution_count": 82,
   "id": "8b56c071",
   "metadata": {
    "jupyter": {
     "source_hidden": true
    },
    "tags": []
   },
   "outputs": [
    {
     "name": "stdout",
     "output_type": "stream",
     "text": [
      "Die drei experimentellen Werte für das arithmetische Mittel bei 10 Würfeln eines 20 seitigen Würfels sind: 105.252, 104.721, 103.938\n",
      "Der Mittelwert der experimentelen Ergebnisse µ=104.6370 ist eine mäßig gute Aproximation des berechneten Werts von 105. Der experimentele Wert ist auf keine Nachkommastellen genau mit einer Abweichung von 0.3630\n"
     ]
    }
   ],
   "source": [
    "#Auswertung Mittelwert für 10 Würfel\n",
    "dices = dice6\n",
    "µ = (dices[0][1] + dices[1][1] + dices[2][1])/3\n",
    "theoretischer_erwartungswert = 105\n",
    "abweichung = abs(theoretischer_erwartungswert-µ)\n",
    "nachkomma_genauigkeit = abs(int(math.log10(abs(µ)))) if 1-abweichung > 0.9 else 'keine'\n",
    "approximation = ['mäßig gute', 'gute', 'sehr gute'][abs(int(math.log10(abs(µ)))) if 1-abweichung > 0.9 else 0]\n",
    "\n",
    "print(f'Die drei experimentellen Werte für das arithmetische Mittel bei {10} Würfeln '\n",
    "      f'eines 20 seitigen Würfels sind: {\", \".join([str(i[1]) for i in dices])}')\n",
    "print(f'Der Mittelwert der experimentelen Ergebnisse {µ=:.4f} ist eine {approximation} Aproximation des berechneten Werts von {theoretischer_erwartungswert}. '\n",
    "      f'Der experimentele Wert ist auf {nachkomma_genauigkeit} Nachkommastellen genau mit einer Abweichung von {abweichung:.4f}')"
   ]
  },
  {
   "cell_type": "code",
   "execution_count": 83,
   "id": "7f309b7e",
   "metadata": {
    "jupyter": {
     "source_hidden": true
    },
    "tags": []
   },
   "outputs": [],
   "source": [
    "#Auswertung Standardabweichung für 2 Würfel\n",
    "# Standardabweichung σ = math.sqrt(2 * 133/4)"
   ]
  },
  {
   "cell_type": "code",
   "execution_count": 84,
   "id": "6086eb09",
   "metadata": {
    "jupyter": {
     "source_hidden": true
    },
    "tags": []
   },
   "outputs": [],
   "source": [
    "#Auswertung Standardabweichung für 5 Würfel \n",
    "σ = math.sqrt(5*133/4)"
   ]
  },
  {
   "cell_type": "code",
   "execution_count": 85,
   "id": "28b3f006",
   "metadata": {
    "jupyter": {
     "source_hidden": true
    },
    "tags": []
   },
   "outputs": [],
   "source": [
    "#Auswertung Standardabweichung für 10 Würfel \n",
    "σ = math.sqrt(10*133/4)"
   ]
  },
  {
   "cell_type": "code",
   "execution_count": 86,
   "id": "db278abe",
   "metadata": {},
   "outputs": [
    {
     "data": {
      "text/plain": [
       "'\\nInterpretieren Sie Ihre Ergebnisse. Entsprechen Sie Ihren Erwartungen? \\n\\nJa, die Werte entsprachen meinen Erwartungen. Die theoretisch berechneten Werte unterscheiden sich bei den hier durch gerecheneten Beispielversuchen erst\\nin der ersten Nachkommastelle. Folglich sind wohl Theorie und experimentelle Umsetzung korrekt durchgeführt worden, da sich die Ergebnise, bis auf ebenjene Abweichungen, gleichen.\\n\\nDie Ergebnisse der durchgeführten Versuche wurden wiedererwartens nicht konstant mit steigender Durchführungszahl immer genauer.\\nDie Abweichungen beim wiederholten Werfen des 20-seitigen Würfels waren 0.04, 0.106 und 0.0459. Hier ist sogar das erste Ergebnis bei dem nur 100 mal geworfen wurde\\nnäher am theoretischen Wert als beide Versuche mit 10 und 100 mal so vielen Würfen.\\nEbenso gibt es bei den berechneten Standardabweichungen einen Ausreißer da der Wert für 3 Versuche mit 1000 größer ist, als für 100\\nDie Standardabweichungen bei den wiederholten Versuchen waren auch relativ klein.\\nUm also aus Experimenten Gesetzmäßigkeiten herzuleiten ist es also unbedingt von Vorteil möglichst viele Experimente durchzuführen um einen möglichst genauen Mittelwert zu bestimmen.\\nTODO Mehr\\n'"
      ]
     },
     "execution_count": 86,
     "metadata": {},
     "output_type": "execute_result"
    }
   ],
   "source": [
    "#Aufgabe 1e) \n",
    "\n",
    "\"\"\"\n",
    "Interpretieren Sie Ihre Ergebnisse. Entsprechen Sie Ihren Erwartungen? \n",
    "\n",
    "Ja, die Werte entsprachen unseren Erwartungen. Die theoretisch berechneten Werte unterscheiden sich bei den hier durch gerecheneten Beispielversuchen erst\n",
    "in der ersten Nachkommastelle. Folglich sind wohl Theorie und experimentelle Umsetzung korrekt durchgeführt worden, da sich die Ergebnise, bis auf ebenjene Abweichungen, gleichen.\n",
    "\n",
    "Die Ergebnisse der durchgeführten Versuche wurden wiedererwartens nicht konstant mit steigender Durchführungszahl immer genauer.\n",
    "Die Abweichungen beim wiederholten Werfen des 20-seitigen Würfels waren bei manchen Durchführungen für 100 Würfe kleiner als für manche der Durchführungen mit 1000 oder sogar 10000 Würfen!\n",
    "Ebenso gibt es bei den berechneten Standardabweichungen Ausreißer.\n",
    "Trotzdem lässt sich aus den Experimenten der Trend ableiten, das für mehr Durchführungen des Experiments die Ergebnisse immer genauer werden. Ganz nach dem Gesetz der großen Zahlen.\n",
    "Um also aus Experimenten Gesetzmäßigkeiten herzuleiten oder theoretische Berechnungen zu bestätigen,\n",
    "ist es also unbedingt von Vorteil möglichst viele Experimente durchzuführen um einen möglichst genauen Mittelwert zum vergleichen zu bestimmen.\n",
    "\"\"\""
   ]
  },
  {
   "cell_type": "code",
   "execution_count": null,
   "id": "36db726a",
   "metadata": {},
   "outputs": [],
   "source": [
    "#Aufgabe 1f)\n",
    "\"\"\"\n",
    "Führen Sie mit den Werten aus d) mit Hilfe der Funktion chi_search(x = points, sigma, mu, save = \"example\") einen Fit durch.\n",
    "Dabei wird eine Gaußfunktion als theoretische Funktion verwendet. Vergleichen sie die 𝜒2 Werte.\n",
    "Welcher Wert ist besonders hoch/gering und woran könnte das liegen? \n",
    "\n",
    "chi_squared(dice4[1], sigma = ?, mu = ?)\n",
    "chi_squared(dice5[1], sigma = ?, mu = ?)\n",
    "chi_squared(dice6[1], sigma = ?, mu = ?)\n",
    "\n",
    "Steht im Skript erklärt. 3.1.5 in der Aufgabenstellung\"\"\"\n",
    "\n",
    "print('Theoretisch')\n",
    "chi_squared(dice4[1], sigma = math.sqrt(266/4), mu=21)\n",
    "\n",
    "chi_squared(dice4[0], sigma =100, mu= dice4[0][1])\n",
    "print('Experimentell 1 1')\n",
    "chi_squared(dice4[0], sigma = dice4[0][2], mu= dice4[0][1])\n",
    "print('Experimentell 1 2')\n",
    "chi_squared(dice4[1], sigma = dice4[1][2], mu= dice4[1][1])\n",
    "print('Experimentell 1 3')\n",
    "chi_squared(dice4[2], sigma = dice4[2][2], mu= dice4[2][1])\n",
    "mittelwert4 = (dice4[0][1]+dice4[1][1]+dice4[2][1])/3\n",
    "standard4 = (dice4[0][2]+dice4[1][2]+dice4[2][2])/3\n",
    "print('Durchschnitt experimentell')\n",
    "chi_squared(dice4[1], sigma = standard4, mu=mittelwert4)\n",
    "\n",
    "print('Experimentell 2 1')\n",
    "chi_squared(dice5[0], sigma = dice5[0][2], mu= dice5[0][1])\n",
    "print('Experimentell 2 2')\n",
    "chi_squared(dice5[1], sigma = dice5[1][2], mu= dice5[1][1])\n",
    "print('Experimentell 2 3')\n",
    "chi_squared(dice5[2], sigma = dice5[2][2], mu= dice5[2][1])\n",
    "\n",
    "print('Experimentell 3 1')\n",
    "chi_squared(dice6[0], sigma = dice6[0][2], mu= dice6[0][1])\n",
    "print('Experimentell 3 2')\n",
    "chi_squared(dice6[1], sigma = dice6[1][2], mu= dice6[1][1])\n",
    "print('Experimentell 3 3')\n",
    "chi_squared(dice6[2], sigma = dice6[2][2], mu= dice6[2][1])\n",
    "\n",
    "#counter = 0\n",
    "#for i in range(1, 10):\n",
    "#    print(chi_squared_without_plot(dice4[1], sigma =(math.sqrt(266/4)), mu=(21-counter)))\n",
    "#    counter += 0.0001\n",
    "\n",
    "\"\"\"\n",
    "Diese sind für die Gaußfunktion, die nur von σ und µ der Datenmenge abhängt.\n",
    "\n",
    "Der beste Fit an experimentelle Datenwerte, also das kleinste χ2 erhält man, wenn man die aus dem Datensatz errechnete Standardabweichung und Mittelwert einsetzt.\n",
    "Das ist besser als der theoretische Wert oder der Durchschnitt der experimentellen Standardabweichungen und Mittelwerte.\n",
    "Bei endlichen statistischen Versuchen entspricht das Ergebnis einer Messreihe nie exakt dem theoretischen Wert. Den besten Fit erhält man dann natürlich durch die\n",
    "aus ihm selbst berechneten Werte.\n",
    "Für mehr Würfel wird das χ2 größer, da bei gleichbleibender Anzahl an Würfen mehr Bins getroffen werden können. Die mögliche Abweichung pro Bin also größer wird.\n",
    "Die experimentelle Datenmenge ist weiter von der theroetische Gaußverteilung entfernt und kann deswegen auch nicht so gut mit einer Gaußfunktion approximiert werden.\n",
    "Deutlich hier weil χ2 für 2 Würfel kleiner ist als für 5 und für 5 Würfel kleiner als für 10.\n",
    "Mit mehr Würfen, also mehr Durchführungen des Versuchs, würde sich das χ2 auch hier, bei mehr Würfeln, wieder kleiner werden.\n",
    "\"\"\""
   ]
  },
  {
   "cell_type": "markdown",
   "id": "735e44de",
   "metadata": {},
   "source": [
    "# Aufgabe 1g)\n",
    "## i) Wie hoch ist die Wahrscheinlichkeit, dass beim 10-maligen Werfen eines 20-seitigen Würfels mindestens einmal die 20 fällt?\n",
    "Wir betrachten die Wahrscheinlichkeit das die 20 überhaupt nicht fällt.\n",
    "In jedem Wurf bleiben von den 20 Möglichkeiten noch 19 übrig. <br>\n",
    "q ist damit = (1 - p)**10 = (19/20)**10<br>\n",
    "Die gesuchte Wahrscheinlichkeit ist dann p = 1 - q = 1 - (19/20)**10 ≈ 0.401 \n",
    "\n",
    "## ii) Wie hoch ist die Wahrscheinlichkeit, dass beim 10-maligen Werfen eines 20-seitigen Würfels höchstens 2 mal die 1 fällt?\n",
    "Die Wahrscheinlichkeit auf eine 1 ist p = 1/20 <br>\n",
    "Wir betrachten nun die Wahrscheinlichkeiten das die Eins 0 mal, 1 mal oder 2 mal gewürfelt wird. <br>\n",
    "Die Wahrscheinlichkeit das bei n Würfen die Zahl, mit Wahrscheinlichkeit p, genau k-mal vorkommt ist: <br>\n",
    "$p(x=k) = n!/(k! * (n-k)!) * p**k * (1-p)**(n-k)$\n",
    "\n",
    "Die Wahrscheinlichkeit das die gar nicht 1 fällt ist $(19/20)**10 ≈ 0.599$ <br>\n",
    "$p(k=0) = math.factorial(10)/(math.factorial(0) * math.factorial(10-0)) * (1/20)**0 * (1-1/20)**(10-0) ≈ 0.599$ <br>\n",
    "$p(k=1) = math.factorial(10)/(math.factorial(1) * math.factorial(10-1)) * (1/20)**1 * (1-1/20)**(10-1) ≈ 0.315$ <br>\n",
    "$p(k=2) = math.factorial(10)/(math.factorial(2) * math.factorial(10-2)) * (1/20)**2 * (1-1/20)**(10-2) ≈ 0.075$ <br>\n",
    "\n",
    "Die gesuchte Wahrscheinlichkeit ist damit $P = p(k=0) + p(k=1) + p(k=2) ≈ 0.988496$\n",
    "\n",
    "## iii) Wie hoch ist die Wahrscheinlichkeit, dass beim 10-maligen Werfen eines 20-seitigen Würfels genau 3 mal die 5 fällt?\n",
    "Die Wahrscheinlichkeit das genau 3 mal die 5 fällt lässt sich mit der Formel aus Aufgabenteil ii) berechnen <br>\n",
    "$p(k=3) = math.factorial(10)/(math.factorial(3) * math.factorial(10-3)) * (1/20)**3 * (1-1/20)**(10-3) ≈ 0.0105$\n",
    "\n",
    "## iv) Wie hoch ist die Wahrscheinlichkeit, dass beim 10-maligen Werfen eines 20-seitigen Würfels genau 3 mal die 5 UND höchstens 2 mal die 1\n",
    "Die beiden Ereignisse ii) und iii) sind stochastisch unabhängig dann <br>\n",
    "p(ii) * p(iii) = <br>\n",
    "    math.factorial(10)/(math.factorial(3) * math.factorial(10-3)) * (1/20)**3 * (1-1/20)**(10-3) * ( <br>\n",
    "        math.factorial(10)/(math.factorial(0) * math.factorial(10-0)) * (1/20)**0 * (1-1/20)**(10-0) + <br>\n",
    "        math.factorial(10)/(math.factorial(1) * math.factorial(10-1)) * (1/20)**1 * (1-1/20)**(10-1) + <br>\n",
    "        math.factorial(10)/(math.factorial(2) * math.factorial(10-2)) * (1/20)**2 * (1-1/20)**(10-2)) <br>\n",
    "≈ 0.01038\n",
    "\n",
    "Die beiden Ereignisse ii) und iii) sind stochastisch abhängig: <br>\n",
    "Damit das Ereignis eintritt müssen 3 Würfel eine 5 zeigen. Die übrigen 7 Würfel können nun 0, 1 oder 2 Einsen zeigen. <br>\n",
    "Also p(iii) * (p(k=0) + p(k=1) + p(k=2)) <br>\n",
    "math.factorial(10)/(math.factorial(3) * math.factorial(10-3)) * (1/20)**3 * (1-1/20)**(10-3) * ( <br>\n",
    "    math.factorial(7)/(math.factorial(0) * math.factorial(7-0)) * (1/20)**0 * (1-1/20)**(7-0) + <br>\n",
    "    math.factorial(7)/(math.factorial(1) * math.factorial(7-1)) * (1/20)**1 * (1-1/20)**(7-1) + <br>\n",
    "    math.factorial(7)/(math.factorial(2) * math.factorial(7-2)) * (1/20)**2 * (1-1/20)**(7-2)) <br>\n",
    "≈ 0.01043570419298467"
   ]
  }
 ],
 "metadata": {
  "kernelspec": {
   "display_name": "Python 3 (ipykernel)",
   "language": "python",
   "name": "python3"
  },
  "language_info": {
   "codemirror_mode": {
    "name": "ipython",
    "version": 3
   },
   "file_extension": ".py",
   "mimetype": "text/x-python",
   "name": "python",
   "nbconvert_exporter": "python",
   "pygments_lexer": "ipython3",
   "version": "3.10.1"
  }
 },
 "nbformat": 4,
 "nbformat_minor": 5
}
