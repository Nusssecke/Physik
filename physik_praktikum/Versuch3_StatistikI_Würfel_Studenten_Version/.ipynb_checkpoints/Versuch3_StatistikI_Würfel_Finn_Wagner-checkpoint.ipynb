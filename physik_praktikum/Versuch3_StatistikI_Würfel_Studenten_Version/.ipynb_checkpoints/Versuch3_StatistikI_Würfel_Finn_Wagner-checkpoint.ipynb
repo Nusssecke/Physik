{
 "cells": [
  {
   "cell_type": "markdown",
   "id": "90cccbd1",
   "metadata": {},
   "source": [
    "# Versuch 1: Statistik I: Würfel-Simulation"
   ]
  },
  {
   "cell_type": "code",
   "execution_count": 3,
   "id": "2fff0484",
   "metadata": {},
   "outputs": [],
   "source": [
    "#Name: Finn Jannik Wagner\n",
    "#Matrikelnummer: 8102237\n",
    "#E-Mail-Adresse: finn.jannik.wagner@physik.uni-giessen.de\n",
    "#Studiengang: Physik\n",
    "#Wiederholen Sie das Praktikum (Ja/Nein)? Nein"
   ]
  },
  {
   "cell_type": "markdown",
   "id": "a2eb6459",
   "metadata": {},
   "source": [
    "Die folgenden Aufgaben basieren auf der Generierung von (Pseudo-)Zufallszahlen am Computer. Daher liefert ein mehrfaches Ausführen der Versuche unterschiedliche Werte. Führen Sie den Code jeder einzelnen Aufgabe daher mindestens dreimal aus und dokumentieren Sie die Ergebnisse. Nutzen Sie dann (wie auch bei Experimenten im Labor) den Mittelwert und die Standardabweichung, wenn Sie die Fragen in Ihrem Protokoll beantworten.\n",
    "\n",
    "##### Aufgabenstellung: \n",
    "Für die folgenden Aufgaben werden die Ergebnisse von Würfelwürfen untersucht. <br><br>\n",
    "a) Berechnen Sie zunächst (auf Papier) den Erwartungswert, sowie die Standardabweichung eines 6-seitigen Würfels, für die Augensumme von i) zwei iii) fünf und iv) zehn Würfeln.  <br><br>\n",
    "b) Berechnen Sie zunächst den Erwartungswert, sowie die Standardabweichung eines 20-seitigen Würfels, für i) die Augenzahl eines Würfels, sowie für die Augensumme von ii) zwei iii) fünf und iv) zehn Würfeln.  <br><br>\n",
    "c) Simulieren Sie mit Hilfe der Funktion dice(n, m = 1, k = 20, save = \"example\") ein Zufallsexperiment. Dabei soll ein 20-seitiger Würfel i) $n = 100$ mal, ii) $n = 1000$ und iii) $n = 10000$ mal geworfen werden. Vergleichen Sie jeweils den Mittelwert und die empirische Standardabweichung mit dem Erwartungswert und der Standardabweichung aus Teil a). Anmerkung: \"example\" ist ein Platzhalter für den Namen der PDF-Datei, welche abgespeichert wird. Verwenden Sie unterschiedliche Namen, sonst wird die Datei überschrieben.<br><br>\n",
    "d) Simulieren Sie mit Hilfe der Funktion dice(n=1000, m, k=20, save = \"example\") ein Zufallsexperiment. Dabei sollen i) zwei, ii) fünf und iii) zehn 20-seitige Würfel je 1000 mal geworfen werden. Vergleichen Sie jeweils den Mittelwert und die empirische Standardabweichung mit dem Erwartungswert und der Standardabweichung aus Teil a). <br><br>\n",
    "e) Interpretieren Sie Ihre Ergebnisse. Entsprechen Sie Ihren Erwartungen?  <br><br>\n",
    "f) Führen Sie mit den Werten aus d) mit Hilfe der Funktion chi_search(x = points, sigma, mu, save = \"example\") einen Fit durch. Dabei wird eine Gaußfunktion als theoretische Funktion verwendet. Vergleichen sie die $\\chi ^2$ Werte. Welcher Wert ist besonders hoch/gering und woran könnte das liegen? <br><br>\n",
    "g) Wie hoch ist die Wahrscheinlichkeit, dass beim 10-maligen Werfen eines 20-seitigen Würfels i) mindestens einmal die 20 fällt? ii) höchstens 2 mal die 1 fällt? iii) genau 3 mal die 5 fällt? iv) genau 3 mal die 5 UND höchstens 2 mal die 1 (Tipp: Baumdiagramm kann helfen)\n"
   ]
  },
  {
   "cell_type": "markdown",
   "id": "2f37356e",
   "metadata": {
    "tags": []
   },
   "source": [
    "##### Bemerkung: \n",
    "Sie können gerne auch mit anderen Werten herumspielen, um ein besseres Gefühl für die Zusammenhänge zu bekommen. Verwenden Sie in diesem Fall die entsprechende Funktion ohne das save-Argument, also dice(n, m, k) anstatt dice(n, m, k, save). Für die Auswertung sind der Werte aus der Aufgabenstellung relevant."
   ]
  },
  {
   "cell_type": "code",
   "execution_count": null,
   "id": "a8ac8a99",
   "metadata": {
    "jupyter": {
     "source_hidden": true
    },
    "tags": []
   },
   "outputs": [],
   "source": [
    "import numpy as np\n",
    "from numpy import random as rnd\n",
    "from matplotlib import pyplot as plt\n",
    "import seaborn as sns\n",
    "import statsmodels.api as sm\n",
    "import warnings"
   ]
  },
  {
   "cell_type": "code",
   "execution_count": null,
   "id": "3a008a05",
   "metadata": {
    "jupyter": {
     "source_hidden": true
    },
    "tags": []
   },
   "outputs": [],
   "source": [
    "def dice (n, m, k, save = False):                                       \n",
    "    \n",
    "    \"\"\"\n",
    "    dice(n, m, k, save) \n",
    "    n = Anzahl der Würfelwürfe (Integer), \n",
    "    m = Anzahl der Würfel (Integer), \n",
    "    k = Anzahl der Würfelseiten (Integer) \n",
    "    save = Name des PDFs (String)\n",
    "    \n",
    "    Funktion plottet Histogramm eines simulierten Würfelexperiments, inklusive Markierung für den Mittelwert\n",
    "    und gibt den Array, den Mittelwert und die Standardabweichung der \n",
    "    Augensummen aus. Zumdem wird ein PDF erstellt, falls save übergeben wird\n",
    "    \"\"\"\n",
    "    m1 = m\n",
    "    k1 = k\n",
    "    dice_matrix=np.array([])                                            #leeres Array zum Auffüllen\n",
    "    for i in range (n):\n",
    "        dice_row=np.array([])\n",
    "        for j in range (m):\n",
    "            dice_row=np.append(dice_row,[rnd.randint(1,k+1)])           #m-er Reihe wird erzeugt. Gefüllt durch Randoms\n",
    "        dice_matrix= np.append(dice_matrix,[dice_row])                  #n-te m-er Reihe wird dem Array hinzugefügt\n",
    "    dice_sum = sum(dice_matrix.reshape(n,m).transpose())                #Summe der Augenzahlen\n",
    "    plt.hist(dice_sum, bins = (k-1)*m+1, \n",
    "             range = (m, m*k), color = 'limegreen' , density = True)    #Histogram mit relativen Häufigkeit\n",
    "    plt.axvline(np.mean(dice_sum),color='black' ,linestyle='--')        #vertikale Linie des Mittelwertes\n",
    "    plt.xlabel(\"Augenzahl\")                                             #Bezeichnung x-Achse\n",
    "    plt.ylabel(\"Relative Häufigkeit\")                                   #Bezeichnung y-Achse\n",
    "    if (save != False):                                                 #wenn save ein String s ist, wird ein PDF mit dem Namen s gespeichert\n",
    "        plt.title(save)\n",
    "        plt.savefig(save+'.pdf')\n",
    "    plt.show()                                                          #Plot\n",
    "    print (\"Arithmetisches Mittel: \", np.mean(dice_sum), \"\\nEmpirische Standardabweichung: \", np.std(dice_sum) )              \n",
    "    return (dice_sum, np.mean(dice_sum), np.std(dice_sum), k1, m1 )             #Array, Mittelwert und Standardabweichung der Augensummen\n",
    "\n",
    "\n",
    "def gauss(sigma, mu, x):\n",
    "    a = 1/(sigma * np.sqrt(2*np.pi)) * np.exp(-0.5* (x - mu)**2 /sigma**2)\n",
    "    return a   \n",
    "\n",
    "def chi_squared(y, sigma, mu, save = False):\n",
    "    x = y[0]\n",
    "    k = y[3]\n",
    "    m = y[4]\n",
    "    A = plt.hist(x, bins = np.arange(m,m*k+2), density = True)\n",
    "    a= sum((((gauss(sigma, mu, A[1][:-1]) - A[0]) **2) /gauss(sigma, mu, A[1][:-1])))\n",
    "    plt.plot(np.linspace(0, m*k+2, 1000), gauss(sigma, mu, np.linspace(0, m*k+2, 1000)), 'r')\n",
    "    plt.xlabel(\"Augenzahl\")\n",
    "    plt.ylabel(\"Relative Häufigkeit\")\n",
    "    if (save != False):\n",
    "        plt.title(save)\n",
    "        plt.savefig(save+'.pdf')\n",
    "    plt.show()\n",
    "    print(\"chi-Quadrat:\", a )\n",
    "    pass\n"
   ]
  },
  {
   "cell_type": "code",
   "execution_count": null,
   "id": "2bacddb8",
   "metadata": {},
   "outputs": [],
   "source": [
    "#Aufgabe 1a)\n",
    "\n",
    "\"\"\"\n",
    "Erwartungswerte von 6-seitigen Würfeln\n",
    "1 Würfel:\n",
    "    Alle 6 Werte des Würfels sind gleich wahrscheinlich mit der Wahrscheinlichkeit 1/6.\n",
    "    Der Erwartungswert µ ist damit 1*1/6 + 2 * 1/6 + 3*1/6 + 4*1/6 + 5*1/6 + 6*1/6 = µ = 3.5\n",
    "    \n",
    "    Die Standardabweichung ist\n",
    "    math.sqrt(1/6*(3.5 - 1)**2 + 1/6*(3.5 - 2)**2 + 1/6*(3.5 - 3)**2 + 1/6*(3.5 - 4)**2 + 1/6*(3.5 - 5)**2 + 1/6*(3.5 - 6)**2) = math.sqrt(17.5/6) ≈ 1.71\n",
    "    \n",
    "2 Würfel:\n",
    "    Da einzelne Würfelwürfe unabhängig von einander sind und für den Erwartungswert Linearität gilt, ist der Erwartungswert für n Würfel n*3.5\n",
    "    In diesem Fall also µ = 2*3.5 = 7\n",
    "    \n",
    "    Die Standardabweichung ist\n",
    "    math.sqrt( 1/36*(7 - 2)**2 + 2/36*(7 - 3)**2 + 3/36*(7 - 4)**2 + 4/36*(7 - 5)**2 + 5/36*(7 - 6)**2 +\n",
    "    6/36*(7 - 7)**2 + 5/36*(7 - 8)**2 + 4/36*(7 - 9)**2 + 3/36*(7 - 10)**2 + 2/36*(7 - 11)**2 + 1/36*(7 - 12)**2) = math.sqrt(35/6) = math.sqrt(2 * 17.5/6) ≈ 2.42\n",
    "    Für die Varianz gilt bei unabhängigen Würfelwürfen ebenfalls Linearität, diese lässt sich da die Wurzelfunktion monoton ist auch auf die Standardabweichung übertragen.\n",
    "    Die Standardabweichung für zwei Würfel ist die eines Würfels mal den Faktor math.sqrt(2).\n",
    "    \n",
    "5 Würfel:\n",
    "    Erwartungswert µ = 5*3.5 = 17.5\n",
    "    Standardabweichung σ = math.sqrt(5 * 17.5/6) ≈ 3.82\n",
    "    \n",
    "10 Würfel:\n",
    "    Erwartungswert µ = 10*3.5 = 25\n",
    "    Standardabweichung σ = math.sqrt(10 * 17.5/6) ≈ 5.4\n",
    "\n",
    "\"\"\""
   ]
  },
  {
   "cell_type": "code",
   "execution_count": null,
   "id": "f89ae751",
   "metadata": {},
   "outputs": [],
   "source": [
    "#Aufgabe 1b)\n",
    "\n",
    "\"\"\"\n",
    "Wir nehmen an das sich bei dem Würfel um einen Ikosaeder handelt, alle Seiten also gleich wahrscheinlich mit 1/20 sind.\n",
    "\n",
    "1 Würfel:\n",
    "    Der Erwartungswert ist damit µ = 1*1/20 + 2*1/20 + 3*1/20 + ... = 1/20 * (1+2+3+...) = (20+1)/2 * 20 * 1/20 = 21/2 = 10.5\n",
    "    Die Standardabweichung ist σ = math.sqrt(1/20 * sum([(10.5 - i)**2 for i in range(1, 20+1)])) = math.sqrt(133/4) ≈ 5.77\n",
    "\n",
    "Äquivalent zu einem 6 seitigen Würfel lassen sich Erwartungswert und Standardabweichung für mehrere Würfe auf Grund von Monotonie einfach bestimmen.\n",
    "\n",
    "2 Würfel:\n",
    "    Erwartungswert µ = 2*10.5 = 21\n",
    "    Standardabweichung σ = math.sqrt(2 * 133/4) ≈ 8.15\n",
    "    \n",
    "5 Würfel:\n",
    "    Erwarungswert µ = 5*10.5 = 52.5\n",
    "    Standardabweichung σ = math.sqrt(5 * 133/4) ≈ 12.89\n",
    "\n",
    "10 Würfel:\n",
    "    Erwarungswert µ = 10*10.5 = 105\n",
    "    Standardabweichung σ = math.sqrt(10 * 133/4) ≈ 18.23\n",
    "\"\"\""
   ]
  },
  {
   "cell_type": "code",
   "execution_count": null,
   "id": "31b39430",
   "metadata": {},
   "outputs": [],
   "source": [
    "#Aufgabe 1c)\n",
    "\n",
    "\"\"\"\n",
    "Simulieren Sie mit Hilfe der Funktion dice(n, m = 1, k = 20, save = \"example\") ein Zufallsexperiment.\n",
    "Dabei soll ein 20-seitiger Würfel i) 𝑛=100 mal, ii) 𝑛=1000 und iii) 𝑛=10000 mal geworfen werden.\n",
    "Vergleichen Sie jeweils den Mittelwert und die empirische Standardabweichung mit dem Erwartungswert und der Standardabweichung aus Teil a).\n",
    "Anmerkung: \"example\" ist ein Platzhalter für den Namen der PDF-Datei, welche abgespeichert wird. Verwenden Sie unterschiedliche Namen, sonst wird die Datei überschrieben.\n",
    "\"\"\"\n",
    "\n",
    "dice1 = dice(n=100, m=1, k=20) # Ergebnis für 100 Würfe\n",
    "dice2 = dice(n=1000, m=1, k=20) # Ergebnis für 1000 Würfe\n",
    "dice3 = dice(n=10000, m=1, k=20) # Ergebnis für 10000 Würfe\n",
    "print(dice1, dice2, dice3)\n",
    "\n",
    "\"\"\"\n",
    "Ergebenise der Zufallsexperimente TODO MINDESTENS DREIMAL AUSFÜHREN\n",
    "100 Würfe:\n",
    "    Arithmetisches Mittel:  10.54 \n",
    "    Empirische Standardabweichung:  5.740069685988141\n",
    "1000 Würfe:\n",
    "    Arithmetisches Mittel:  10.606 \n",
    "    Empirische Standardabweichung:  5.896504388194756\n",
    "10000 Würfe:\n",
    "    Arithmetisches Mittel:  10.5459 \n",
    "    Empirische Standardabweichung:  5.7362263893608665\n",
    "\"\"\"\n"
   ]
  },
  {
   "cell_type": "code",
   "execution_count": null,
   "id": "fc9fcb44",
   "metadata": {
    "jupyter": {
     "source_hidden": true
    },
    "tags": []
   },
   "outputs": [],
   "source": [
    "# Wie berechnet man den Mittelwert dreier Ergebnisse?\n",
    "# Anleitung: schreiben Sie z.B. (3.1+3.2+3.3)/3\n",
    "#Hier ein Testbeispiel\n",
    "(3.1+3.2+3.3)/3"
   ]
  },
  {
   "cell_type": "code",
   "execution_count": null,
   "id": "348f960f",
   "metadata": {
    "tags": []
   },
   "outputs": [],
   "source": [
    "# Berechnen Sie den Mittelwert für Ihre Ergebnisse aus 1 c)\n",
    "#Schreiben Sie hier Ihren eigenen Code angelehnt an das vorherige Beispiel\n",
    "\n",
    "# Der Mittelwert der drei Experimente mit verschiedenen Anzahlen an Würfen ist:\n",
    "(10.54 + 10.606 + 10.5459)/3  # ≈ 10.563967\n",
    "# Oder als geschlossener Ausdruck\n",
    "(dice(n=100, m=1, k=20)[1] + dice(n=1000, m=1, k=20)[1] + dice(n=10000, m=1, k=20)[1])/3\n",
    "\n",
    "\n",
    "? #Auswertung Mittelwert für 100 Würfe\n",
    "\"\"\"\n",
    "Der Mittelwert (Arithmetisches Mittel) ist mit 10.54 eine gute Aproximation des berechneten Werts von 10.5.\n",
    "Der eperimentele Wert ist auf eine Nachkommastelle genau mit einer Abweichung von 0.04 (abs(10.5-10.54))\n",
    "\n",
    "Experimentell lassen sich auch drei Simulationen mit 100 Würfeln machen und ihre Mittelwerte mitteln:\n",
    "\"\"\"\n",
    "µ = (dice(n=100, m=1, k=20)[1] + dice(n=100, m=1, k=20)[1] + dice(n=100, m=1, k=20)[1])/3\n",
    "# Eingesetzt; Mittelwert\n",
    "# (10.39 + 10.87 + 10.4)/3 = 10.553¯\n",
    "# Abstand\n",
    "abs(10.5-µ)\n",
    "# abs(10.5-10.553¯) = 0.053"
   ]
  },
  {
   "cell_type": "code",
   "execution_count": null,
   "id": "9124ac30",
   "metadata": {
    "tags": []
   },
   "outputs": [],
   "source": [
    "? #Auswertung Mittelwert für 1000 Würfe\n",
    "\"\"\"\n",
    "Der Mittelwert (Arithmetisches Mittel) ist mit 10.606 eine gute Aproximation des berechneten Werts von 10.5.\n",
    "Der eperimentele Wert hat eine Abweichung vom berechneten von 0.106 (abs(10.5-10.606)). Diese Abweichung ist größer als die des Experimentes mit weniger Würfen,\n",
    "ein gutes Beispiel das in einigen Fällen auch unwahrscheinlichere Verteilungen auftreten können.\n",
    "\n",
    "Experimentell lassen sich auch drei Simulationen mit 1000 Würfeln machen und ihre Mittelwerte mitteln:\n",
    "\"\"\"\n",
    "µ = (dice(n=1000, m=1, k=20)[1] + dice(n=1000, m=1, k=20)[1] + dice(n=1000, m=1, k=20)[1])/3\n",
    "# Eingesetzt\n",
    "(10.346 + 10.163 + 10.539)/3 = 10.3493¯\n",
    "# Abstand\n",
    "abs(10.5-µ)\n",
    "# abs(10.5-10.3493¯) = 0.1507"
   ]
  },
  {
   "cell_type": "code",
   "execution_count": null,
   "id": "e056a119",
   "metadata": {
    "tags": []
   },
   "outputs": [],
   "source": [
    "? #Auswertung Mittelwert für 10000 Würfe\n",
    "\"\"\"\n",
    "Der Mittelwert (Arithmetisches Mittel) ist mit 10.5459 eine gute Aproximation des berechneten Werts von 10.5.\n",
    "Der eperimentele Wert hat eine Abweichung vom berechneten von 0.0459 (abs(10.5-10.5459)). Diese Abweichung nähert sich im Vergleich zum Experiment mit 1000 Würfen wieder\n",
    "dem exakten Mittelwert, hat aber immer noch eine höhere Abweichung als das Experiment mit 100 Würfen. Wahrlich ein paradehaftes Beispiel für Abweichungen bei Wahrscheinlichkeiten\n",
    "\n",
    "Experimentell lassen sich auch drei Simulationen mit 1000 Würfeln machen und ihre Mittelwerte mitteln:\n",
    "\"\"\"\n",
    "µ =(dice(n=10000, m=1, k=20)[1] + dice(n=10000, m=1, k=20)[1] + dice(n=10000, m=1, k=20)[1])/3\n",
    "# Eingesetzt\n",
    "(10.454 + 10.5954 + 10.5301)/3 = 10.52649¯\n",
    "# Abstand\n",
    "abs(10.5-µ)\n",
    "# abs(10.5-10.52649¯) = 0.02649"
   ]
  },
  {
   "cell_type": "code",
   "execution_count": null,
   "id": "cf4cf593",
   "metadata": {},
   "outputs": [],
   "source": [
    "# Berechnen Sie die Standardabweichung für Ihre Ergebnisse aus (a)\n",
    "# Anleitung: wenn 3.2 Ihr Mittelwert war, dann schreiben Sie\n",
    "# np.sqrt((3.0-3.2)**2+(3.1-3.2)**2+(3.3-3.2)**2)\n",
    "#Hier ein Testbeispiel\n",
    "np.sqrt((3.1-3.2)**2+(3.2-3.2)**2+(3.4-3.2)**2)"
   ]
  },
  {
   "cell_type": "code",
   "execution_count": null,
   "id": "8e1294ba",
   "metadata": {},
   "outputs": [],
   "source": [
    "# Berechnen Sie die Standardabweichung für Ihre Ergebnisse aus 1 c)\n",
    "#Schreiben Sie hier Ihren eigenen Code angelehnt an das vorherige Beispiel\n",
    "\n",
    "? #Auswertung Standardabweichung für 3 Versuche mit 100, 1000 und 10000 Würfen\n",
    "# np.sqrt((v_1-µ)**2+(v_2-µ)**2+(v_3-µ)**2)\n",
    "# Standardabweichung mit n=100, n=1000 und n=10000 nach den vorherigen Zahlen\n",
    "# Mit µ = 10.563967 als Mittel der Mittelwerte\n",
    "# und v_1 = 10.54, v_2 = 10.606, v_3 = 10.5459\n",
    "σ = np.sqrt((10.54-10.563967)**2+(10.606-10.563967)**2+(10.5459-10.563967)**2) # ≈ 0.05146\n",
    "# Sigma ist hier die Standardabweichung der 3 experimentellen Werte untereinander und zum theoretischen Wert\n",
    "\n",
    "# Oder allgemein\n",
    "v_1 = dice(n=100, m=1, k=20)[1]\n",
    "v_2 = dice(n=1000, m=1, k=20)[1]\n",
    "v_3 = dice(n=10000, m=1, k=20)[1]\n",
    "µ = (v_1 + v_2 + v_3)/3\n",
    "σ = np.sqrt((v_1-µ)**2+(v_2-µ)**2+(v_3-µ)**2)\n",
    "\n",
    "? #Auswertung Standardabweichung für 100 Würfe\n",
    "v_1 = dice(n=100, m=1, k=20)[1]\n",
    "v_2 = dice(n=100, m=1, k=20)[1]\n",
    "v_3 = dice(n=100, m=1, k=20)[1]\n",
    "µ = (v_1 + v_2 + v_3)/3\n",
    "σ = np.sqrt((v_1-µ)**2+(v_2-µ)**2+(v_3-µ)**2)\n",
    "# Eingesetzt für Werte 10.39, 10.87, 10.4\n",
    "σ = np.sqrt((10.39-10.563967)**2+(10.87-10.563967)**2+(10.4-10.563967)**2) # ≈ 0.388"
   ]
  },
  {
   "cell_type": "code",
   "execution_count": null,
   "id": "37a40183",
   "metadata": {},
   "outputs": [],
   "source": [
    "? #Auswertung Standardabweichung für 1000 Würfe\n",
    "v_1 = dice(n=1000, m=1, k=20)[1]\n",
    "v_2 = dice(n=1000, m=1, k=20)[1]\n",
    "v_3 = dice(n=1000, m=1, k=20)[1]\n",
    "µ = (v_1 + v_2 + v_3)/3\n",
    "σ = np.sqrt((v_1-µ)**2+(v_2-µ)**2+(v_3-µ)**2)\n",
    "# Eingesetzt für Werte 10.346, 10.163, 10.539\n",
    "σ = np.sqrt((10.346-10.563967)**2+(10.163-10.563967)**2+(10.539-10.563967)**2) # ≈ 0.457"
   ]
  },
  {
   "cell_type": "code",
   "execution_count": null,
   "id": "ad1c638d",
   "metadata": {},
   "outputs": [],
   "source": [
    "? #Auswertung Standardabweichung für 1000 Würfe\n",
    "v_1 = dice(n=10000, m=1, k=20)[1]\n",
    "v_2 = dice(n=10000, m=1, k=20)[1]\n",
    "v_3 = dice(n=10000, m=1, k=20)[1]\n",
    "µ = (v_1 + v_2 + v_3)/3\n",
    "σ = np.sqrt((v_1-µ)**2+(v_2-µ)**2+(v_3-µ)**2)\n",
    "# Eingesetzt für Werte 10.454, 10.5954, 10.5301\n",
    "σ = np.sqrt((10.454-10.563967)**2+(10.5954-10.563967)**2+(10.5301-10.563967)**2) # ≈ 0.119"
   ]
  },
  {
   "cell_type": "code",
   "execution_count": null,
   "id": "7b6b2951",
   "metadata": {},
   "outputs": [],
   "source": [
    "#Aufgabe 1d)\n",
    "\"\"\"\n",
    "Simulieren Sie mit Hilfe der Funktion dice(n=1000, m, k=20, save = \"example\") ein Zufallsexperiment. \n",
    "Dabei sollen i) zwei, ii) fünf und iii) zehn 20-seitige Würfel je 1000 mal geworfen werden.\n",
    "Vergleichen Sie jeweils den Mittelwert und die empirische Standardabweichung mit dem Erwartungswert und der Standardabweichung aus Teil a). \n",
    "\"\"\"\n",
    "dice4 = dice(n=1000, m=2, k=20) #Ergebnis für 2 Würfel\n",
    "dice5 = dice(n=1000, m=5, k=20) #Ergebnis für 5 Würfel\n",
    "dice6 = dice(n=1000, m=10, k=20) #Ergebnis für 10 Würfel\n",
    "print(dice4, dice5, dice6)\n",
    "\n",
    "\"\"\"\n",
    "Ergebenise der Zufallsexperimente:\n",
    " \n",
    "2 Würfel:\n",
    "    Arithmetisches Mittel:  21.228 \n",
    "    Empirische Standardabweichung:  7.998500859536117\n",
    "\n",
    "5 Würfel:\n",
    "    Arithmetisches Mittel:  52.391 \n",
    "    Empirische Standardabweichung:  12.966268507168898\n",
    "\n",
    "10 Würfel:\n",
    "    Arithmetisches Mittel:  104.764 \n",
    "    Empirische Standardabweichung:  18.34285430351558\n",
    "\"\"\""
   ]
  },
  {
   "cell_type": "code",
   "execution_count": null,
   "id": "10d35449",
   "metadata": {
    "jupyter": {
     "source_hidden": true
    },
    "tags": []
   },
   "outputs": [],
   "source": [
    "? #Auswertung Mittelwert für 2 Würfel\n",
    "\"\"\"\n",
    "Theoretisches Ergebniss\n",
    "2 Würfel:\n",
    "    Erwartungswert µ = 2*10.5 = 21\n",
    "    Standardabweichung σ = math.sqrt(2 * 133/4) ≈ 8.15\n",
    "\n",
    "Der experimentelle Erwartungswert hat eine Abweichung von 0.228 (abs(21-21.228)) vom exakten Wert\n",
    "\"\"\"\n",
    "# Experimenteller Erwartungswert und Abweichung vom exakten Erwartungswert\n",
    "µ = dice(n=1000, m=2, k=20)[1]\n",
    "abs(21 - µ)"
   ]
  },
  {
   "cell_type": "code",
   "execution_count": null,
   "id": "a23d8165",
   "metadata": {
    "jupyter": {
     "source_hidden": true
    },
    "tags": []
   },
   "outputs": [],
   "source": [
    "? #Auswertung Mittelwert für 5 Würfel\n",
    "\"\"\"\n",
    "5 Würfel:\n",
    "    Erwarungswert µ = 5*10.5 = 52.5\n",
    "    Standardabweichung σ = math.sqrt(5 * 133/4) ≈ 12.89\n",
    "    \n",
    "Der experimentelle Erwartungswert hat eine Abweichung von 0.109 (abs(52.5-52.391)) vom exakten Wert\n",
    "\"\"\"\n",
    "# Experimenteller Erwartungswert und Abweichung vom exakten Erwartungswert\n",
    "µ = dice(n=1000, m=5, k=20)[1]\n",
    "abs(52.5 - µ)"
   ]
  },
  {
   "cell_type": "code",
   "execution_count": null,
   "id": "8b56c071",
   "metadata": {
    "jupyter": {
     "source_hidden": true
    },
    "tags": []
   },
   "outputs": [],
   "source": [
    "? #Auswertung Mittelwert für 10 Würfel\n",
    "\"\"\"\n",
    "10 Würfel:\n",
    "    Erwarungswert µ = 10*10.5 = 105\n",
    "    Standardabweichung σ = math.sqrt(10 * 133/4) ≈ 18.23\n",
    "    \n",
    "Der experimentelle Erwartungswert hat eine Abweichung von 0.236 (abs(105-104.764)) vom exakten Wert\n",
    "\"\"\"\n",
    "# Experimenteller Erwartungswert und Abweichung vom exakten Erwartungswert\n",
    "µ = dice(n=1000, m=10, k=20)[1]\n",
    "abs(105 - µ)"
   ]
  },
  {
   "cell_type": "code",
   "execution_count": null,
   "id": "7f309b7e",
   "metadata": {
    "jupyter": {
     "source_hidden": true
    },
    "tags": []
   },
   "outputs": [],
   "source": [
    "? #Auswertung Standardabweichung für 2 Würfel\n",
    "\"\"\"\n",
    "Theoretisches Ergebniss\n",
    "2 Würfel:\n",
    "    Erwartungswert µ = 2*10.5 = 21\n",
    "    Standardabweichung σ = math.sqrt(2 * 133/4) ≈ 8.15\n",
    "\n",
    "Die experimentelle Standardabweichung hat eine Abweichung von 0.15625235561392792 (abs(math.sqrt(2 * 133/4) - 7.998500859536117)) vom exakten Wert\n",
    "\"\"\"\n",
    "# Experimentelle Standardabweichung und Abweichung von der exakten Standardabweichung\n",
    "σ = dice(n=1000, m=2, k=20)[2]\n",
    "abs(math.sqrt(2 * 133/4) - σ)"
   ]
  },
  {
   "cell_type": "code",
   "execution_count": null,
   "id": "6086eb09",
   "metadata": {
    "jupyter": {
     "source_hidden": true
    },
    "tags": []
   },
   "outputs": [],
   "source": [
    "? #Auswertung Standardabweichung für 5 Würfel\n",
    "\"\"\"\n",
    "Theoretisches Ergebniss\n",
    "5 Würfel:\n",
    "    Erwarungswert µ = 5*10.5 = 52.5\n",
    "    Standardabweichung σ = math.sqrt(5 * 133/4) ≈ 12.89\n",
    "\n",
    "Die experimentelle Standardabweichung hat eine Abweichung von 0.07247154894127128 (abs(math.sqrt(5 * 133/4) - 12.966268507168898)) vom exakten Wert\n",
    "\"\"\"\n",
    "# Experimentelle Standardabweichung und Abweichung von der exakten Standardabweichung\n",
    "σ = dice(n=1000, m=5, k=20)[2]\n",
    "abs(math.sqrt(5 * 133/4) - σ)"
   ]
  },
  {
   "cell_type": "code",
   "execution_count": null,
   "id": "28b3f006",
   "metadata": {
    "jupyter": {
     "source_hidden": true
    },
    "tags": []
   },
   "outputs": [],
   "source": [
    "? #Auswertung Standardabweichung für 10 Würfel\n",
    "\"\"\"\n",
    "Theoretisches Ergebniss\n",
    "10 Würfel:\n",
    "    Erwarungswert µ = 10*10.5 = 105\n",
    "    Standardabweichung σ = math.sqrt(10 * 133/4) ≈ 18.23\n",
    "\n",
    "Die experimentelle Standardabweichung hat eine Abweichung von 0.10827177470510918 (abs(math.sqrt(10 * 133/4) - 18.34285430351558)) vom exakten Wert\n",
    "\"\"\"\n",
    "# Experimentelle Standardabweichung und Abweichung von der exakten Standardabweichung\n",
    "σ = dice(n=1000, m=10, k=20)[2]\n",
    "abs(math.sqrt(10 * 133/4) - σ)"
   ]
  },
  {
   "cell_type": "code",
   "execution_count": null,
   "id": "db278abe",
   "metadata": {},
   "outputs": [],
   "source": [
    "#Aufgabe 1e) \n",
    "\n",
    "\"\"\"\n",
    "Interpretieren Sie Ihre Ergebnisse. Entsprechen Sie Ihren Erwartungen? \n",
    "\n",
    "Ja, die Werte entsprachen meinen Erwartungen. Die theoretisch berechneten Werte unterscheiden sich bei den hier durch gerecheneten Beispielversuchen erst\n",
    "in der ersten Nachkommastelle. Folglich sind wohl Theorie und experimentelle Umsetzung korrekt durchgeführt worden, da sich die Ergebnise, bis auf ebenjene Abweichungen, gleichen.\n",
    "\n",
    "Die Ergebnisse der durchgeführten Versuche wurden wiedererwartens nicht konstant mit steigender Durchführungszahl immer genauer.\n",
    "Die Abweichungen beim wiederholten Werfen des 20-seitigen Würfels waren 0.04, 0.106 und 0.0459. Hier ist sogar das erste Ergebnis bei dem nur 100 mal geworfen wurde\n",
    "näher am theoretischen Wert als beide Versuche mit 10 und 100 mal so vielen Würfen.\n",
    "Ebenso gibt es bei den berechneten Standardabweichungen einen Ausreißer da der Wert für 3 Versuche mit 1000 größer ist, als für 100\n",
    "Die Standardabweichungen bei den wiederholten Versuchen waren auch relativ klein.\n",
    "Um also aus Experimenten Gesetzmäßigkeiten herzuleiten ist es also unbedingt von Vorteil möglichst viele Experimente durchzuführen um einen möglichst genauen Mittelwert zu bestimmen.\n",
    "TODO Mehr\n",
    "\"\"\""
   ]
  },
  {
   "cell_type": "code",
   "execution_count": null,
   "id": "36db726a",
   "metadata": {},
   "outputs": [],
   "source": [
    "#Aufgabe 1f)\n",
    "\"\"\"\n",
    "Führen Sie mit den Werten aus d) mit Hilfe der Funktion chi_search(x = points, sigma, mu, save = \"example\") einen Fit durch.\n",
    "Dabei wird eine Gaußfunktion als theoretische Funktion verwendet. Vergleichen sie die 𝜒2 Werte.\n",
    "Welcher Wert ist besonders hoch/gering und woran könnte das liegen? \n",
    "\n",
    "Ergebenise der Zufallsexperimente:\n",
    " \n",
    "2 Würfel:\n",
    "    Arithmetisches Mittel:  21.228 \n",
    "    Empirische Standardabweichung:  7.998500859536117\n",
    "\n",
    "5 Würfel:\n",
    "    Arithmetisches Mittel:  52.391 \n",
    "    Empirische Standardabweichung:  12.966268507168898\n",
    "\n",
    "10 Würfel:\n",
    "    Arithmetisches Mittel:  104.764 \n",
    "    Empirische Standardabweichung:  18.34285430351558\n",
    "\"\"\"\n",
    "\n",
    "chi_squared(dice4, sigma = 7.998500859536117, mu=21.228)\n",
    "chi_squared(dice5, sigma = 12.966268507168898, mu=52.391)\n",
    "chi_squared(dice6, sigma = 18.34285430351558, mu=104.764)\n",
    "TODO AUFGABE BEARBEITEN"
   ]
  },
  {
   "cell_type": "code",
   "execution_count": null,
   "id": "fa414a85",
   "metadata": {},
   "outputs": [],
   "source": [
    "#Aufgabe 1g)\n",
    "\n",
    "\"\"\"\n",
    "Wie hoch ist die Wahrscheinlichkeit, dass beim 10-maligen Werfen eines 20-seitigen Würfels \n",
    "i) mindestens einmal die 20 fällt? \n",
    "ii) höchstens 2 mal die 1 fällt? \n",
    "iii) genau 3 mal die 5 fällt? \n",
    "iv) genau 3 mal die 5 UND höchstens 2 mal die 1\n",
    "(Tipp: Baumdiagramm kann helfen)\n",
    "\n",
    "i) Wir betrachten die Wahrscheinlichkeit das die 20 überhaupt nicht fällt.\n",
    "In jedem Wurf bleiben von den 20 Möglichkeiten noch 19 übrig. q ist damit = (1 - p)**10 = (19/20)**10\n",
    "Die gesuchte Wahrscheinlichkeit ist dann p = 1 - q = 1 - (19/20)**10 ≈ 0.401 \n",
    "\n",
    "ii) \n",
    "Die Wahrscheinlichkeit auf eine 1 ist p = 1/20\n",
    "Wir betrachten nun die Wahrscheinlichkeiten das die Eins 0 mal, 1 mal oder 2 mal gewürfelt wird.\n",
    "Die Wahrscheinlichkeit das bei n Würfen die Zahl, mit Wahrscheinlichkeit p, genau k-mal vorkommt ist:\n",
    "p(x=k) = n!/(k! * (n-k)!) * p**k * (1-p)**(n-k)\n",
    "\n",
    "Die Wahrscheinlichkeit das die gar nicht 1 fällt ist (19/20)**10 ≈ 0.599\n",
    "p(k=0) = math.factorial(10)/(math.factorial(0) * math.factorial(10-0)) * (1/20)**0 * (1-1/20)**(10-0) ≈ 0.599\n",
    "p(k=1) = math.factorial(10)/(math.factorial(1) * math.factorial(10-1)) * (1/20)**1 * (1-1/20)**(10-1) ≈ 0.315\n",
    "p(k=2) = math.factorial(10)/(math.factorial(2) * math.factorial(10-2)) * (1/20)**2 * (1-1/20)**(10-2) ≈ 0.075\n",
    "\n",
    "Die gesuchte Wahrscheinlichkeit ist damit P = p(k=0) + p(k=1) + p(k=2) ≈ 0.988496\n",
    "\n",
    "iii)\n",
    "Die Wahrscheinlichkeit das genau 3 mal die 5 fällt lässt sich mit der Formel aus Aufgabenteil ii) berechnen\n",
    "p(k=3) = math.factorial(10)/(math.factorial(3) * math.factorial(10-3)) * (1/20)**3 * (1-1/20)**(10-3) ≈ 0.0105\n",
    "\n",
    "iv)\n",
    "Die beiden Ereignisse ii) und iii) sind stochastisch unabhängig dann p(ii) * p(iii) = \n",
    "    math.factorial(10)/(math.factorial(3) * math.factorial(10-3)) * (1/20)**3 * (1-1/20)**(10-3) * (\n",
    "        math.factorial(10)/(math.factorial(0) * math.factorial(10-0)) * (1/20)**0 * (1-1/20)**(10-0) +\n",
    "        math.factorial(10)/(math.factorial(1) * math.factorial(10-1)) * (1/20)**1 * (1-1/20)**(10-1) +\n",
    "        math.factorial(10)/(math.factorial(2) * math.factorial(10-2)) * (1/20)**2 * (1-1/20)**(10-2)\n",
    "    )\n",
    "≈ 0.01038\n",
    "\n",
    "Die beiden Ereignisse sind stochastisch abhängig:\n",
    "Damit das Ereignis eintritt müssen 3 Würfel eine 5 zeigen. Die übrigen 7 Würfel können nun 0, 1 oder 2 Einsen zeigen.\n",
    "Also p(iii) * (p(k=0) + p(k=1) + p(k=2))\n",
    "math.factorial(10)/(math.factorial(3) * math.factorial(10-3)) * (1/20)**3 * (1-1/20)**(10-3) * (\n",
    "    math.factorial(7)/(math.factorial(0) * math.factorial(7-0)) * (1/20)**0 * (1-1/20)**(7-0) +\n",
    "    math.factorial(7)/(math.factorial(1) * math.factorial(7-1)) * (1/20)**1 * (1-1/20)**(7-1) +\n",
    "    math.factorial(7)/(math.factorial(2) * math.factorial(7-2)) * (1/20)**2 * (1-1/20)**(7-2)\n",
    ") ≈ 0.01043570419298467\n",
    "\n",
    "\n",
    "TODO Richtig???\n",
    "\"\"\""
   ]
  }
 ],
 "metadata": {
  "kernelspec": {
   "display_name": "Python 3 (ipykernel)",
   "language": "python",
   "name": "python3"
  },
  "language_info": {
   "codemirror_mode": {
    "name": "ipython",
    "version": 3
   },
   "file_extension": ".py",
   "mimetype": "text/x-python",
   "name": "python",
   "nbconvert_exporter": "python",
   "pygments_lexer": "ipython3",
   "version": "3.10.1"
  }
 },
 "nbformat": 4,
 "nbformat_minor": 5
}
